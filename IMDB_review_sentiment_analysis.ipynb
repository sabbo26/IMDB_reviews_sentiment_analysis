{
  "cells": [
    {
      "cell_type": "markdown",
      "metadata": {
        "id": "my62ubqQqfnp"
      },
      "source": [
        "* Extracting our dataset"
      ]
    },
    {
      "cell_type": "code",
      "execution_count": null,
      "metadata": {
        "id": "EoZD4aEZZFxo"
      },
      "outputs": [],
      "source": [
        "import tarfile"
      ]
    },
    {
      "cell_type": "code",
      "execution_count": null,
      "metadata": {
        "id": "Ijsq1reSZM3m"
      },
      "outputs": [],
      "source": [
        "tar = tarfile.open(\"/content/drive/MyDrive/aclImdb_v1.tar.gz\", \"r:gz\")\n",
        "tar.extractall(path=\"/content\")\n",
        "tar.close()"
      ]
    },
    {
      "cell_type": "code",
      "execution_count": null,
      "metadata": {
        "id": "muql-EbUEU4k"
      },
      "outputs": [],
      "source": [
        "import os\n",
        "from scipy import sparse\n",
        "import json\n",
        "import numpy as np\n",
        "import gc\n",
        "import pandas as pd\n",
        "import matplotlib.pyplot as plt\n",
        "import seaborn as sns\n",
        "import sklearn as sk\n",
        "from sklearn.feature_extraction.text import CountVectorizer\n",
        "from sklearn.feature_extraction.text import TfidfVectorizer\n",
        "from sklearn.linear_model import LogisticRegression\n",
        "from sklearn.model_selection import train_test_split\n",
        "from sklearn.metrics import accuracy_score\n",
        "from sklearn.neighbors import KNeighborsClassifier\n",
        "from sklearn import neighbors\n",
        "from sklearn.naive_bayes import BernoulliNB\n",
        "from sklearn.naive_bayes import MultinomialNB\n",
        "from sklearn.ensemble import RandomForestClassifier\n",
        "from sklearn.ensemble import AdaBoostClassifier\n",
        "from sklearn.tree import DecisionTreeClassifier\n",
        "import nltk\n",
        "from nltk.tokenize import word_tokenize , sent_tokenize\n",
        "from nltk.corpus import stopwords , wordnet\n",
        "from nltk.stem import PorterStemmer , WordNetLemmatizer"
      ]
    },
    {
      "cell_type": "code",
      "execution_count": null,
      "metadata": {
        "id": "oWY98B6ccN41"
      },
      "outputs": [],
      "source": [
        "def load_data( path , lst_x , lst_y ):\n",
        "  for filename in os.listdir(path + \"/pos\" ):\n",
        "      file = open( path + \"/pos/\" + filename , \"r\" )\n",
        "      lst_x.append(file.read())\n",
        "      lst_y.append(1)\n",
        "  for filename in os.listdir(path+\"/neg\"):\n",
        "    file = open( path + \"/neg/\" + filename , \"r\" )\n",
        "    lst_x.append(file.read())\n",
        "    lst_y.append(0)"
      ]
    },
    {
      "cell_type": "code",
      "execution_count": null,
      "metadata": {
        "id": "KP-slwzla6_r"
      },
      "outputs": [],
      "source": [
        "train_data_x =[]\n",
        "train_data_y = []\n",
        "test_data_x =[]\n",
        "test_data_y = []\n",
        "load_data( \"/content/aclImdb/train\" , train_data_x , train_data_y )\n",
        "load_data( \"/content/aclImdb/test\" , test_data_x , test_data_y )"
      ]
    },
    {
      "cell_type": "code",
      "execution_count": null,
      "metadata": {
        "id": "y2Hd2klw5K7f"
      },
      "outputs": [],
      "source": [
        "train_data_x , valid_data_x , train_data_y , valid_data_y = train_test_split( train_data_x , train_data_y , test_size = 0.1 ,\n",
        "                                                                             stratify = train_data_y)"
      ]
    },
    {
      "cell_type": "code",
      "execution_count": null,
      "metadata": {
        "colab": {
          "base_uri": "https://localhost:8080/"
        },
        "id": "Oh9EzxdmUF2V",
        "outputId": "0c3f73bc-5416-469e-b3af-90b89bad4461"
      },
      "outputs": [
        {
          "output_type": "execute_result",
          "data": {
            "text/plain": [
              "array([[0],\n",
              "       [0],\n",
              "       [1],\n",
              "       ...,\n",
              "       [1],\n",
              "       [1],\n",
              "       [0]])"
            ]
          },
          "metadata": {},
          "execution_count": 5
        }
      ],
      "source": [
        "train_data_y = np.array( train_data_y )\n",
        "train_data_y.reshape(22500,1)"
      ]
    },
    {
      "cell_type": "code",
      "execution_count": null,
      "metadata": {
        "colab": {
          "base_uri": "https://localhost:8080/"
        },
        "id": "noaRAzrQUPsy",
        "outputId": "2add8f15-e629-45d9-a568-3e765d0d3383"
      },
      "outputs": [
        {
          "output_type": "execute_result",
          "data": {
            "text/plain": [
              "array([[1],\n",
              "       [1],\n",
              "       [1],\n",
              "       ...,\n",
              "       [0],\n",
              "       [0],\n",
              "       [0]])"
            ]
          },
          "metadata": {},
          "execution_count": 6
        }
      ],
      "source": [
        "test_data_y = np.array( test_data_y )\n",
        "test_data_y.reshape(25000,1)"
      ]
    },
    {
      "cell_type": "code",
      "execution_count": null,
      "metadata": {
        "colab": {
          "base_uri": "https://localhost:8080/"
        },
        "id": "vywJagBj7Nxb",
        "outputId": "2ed120f4-dc4c-45d5-ed89-f0447340fe9b"
      },
      "outputs": [
        {
          "output_type": "execute_result",
          "data": {
            "text/plain": [
              "array([[1],\n",
              "       [0],\n",
              "       [0],\n",
              "       ...,\n",
              "       [0],\n",
              "       [1],\n",
              "       [0]])"
            ]
          },
          "metadata": {},
          "execution_count": 7
        }
      ],
      "source": [
        "valid_data_y = np.array( valid_data_y )\n",
        "valid_data_y.reshape(2500,1)"
      ]
    },
    {
      "cell_type": "code",
      "execution_count": null,
      "metadata": {
        "colab": {
          "base_uri": "https://localhost:8080/"
        },
        "id": "KrdlDuG2Ei-z",
        "outputId": "196c4556-e38d-481f-a624-afe6832fcf06"
      },
      "outputs": [
        {
          "output_type": "stream",
          "name": "stdout",
          "text": [
            "[nltk_data] Downloading package punkt to /root/nltk_data...\n",
            "[nltk_data]   Package punkt is already up-to-date!\n",
            "[nltk_data] Downloading package stopwords to /root/nltk_data...\n",
            "[nltk_data]   Package stopwords is already up-to-date!\n",
            "[nltk_data] Downloading package averaged_perceptron_tagger to\n",
            "[nltk_data]     /root/nltk_data...\n",
            "[nltk_data]   Package averaged_perceptron_tagger is already up-to-\n",
            "[nltk_data]       date!\n",
            "[nltk_data] Downloading package wordnet to /root/nltk_data...\n",
            "[nltk_data]   Package wordnet is already up-to-date!\n"
          ]
        },
        {
          "output_type": "execute_result",
          "data": {
            "text/plain": [
              "True"
            ]
          },
          "metadata": {},
          "execution_count": 8
        }
      ],
      "source": [
        "nltk.download(\"punkt\")\n",
        "nltk.download(\"stopwords\")\n",
        "nltk.download(\"averaged_perceptron_tagger\")\n",
        "nltk.download(\"wordnet\")"
      ]
    },
    {
      "cell_type": "code",
      "execution_count": null,
      "metadata": {
        "id": "i0cx70AzfVyL"
      },
      "outputs": [],
      "source": [
        "def tokenize_func ( lst ):\n",
        "  counter = 0 \n",
        "  for sent in lst:\n",
        "    words = word_tokenize(sent)\n",
        "    lst[counter] = words\n",
        "    counter = counter + 1"
      ]
    },
    {
      "cell_type": "code",
      "execution_count": null,
      "metadata": {
        "id": "R3D228Z2g9bV"
      },
      "outputs": [],
      "source": [
        "tokenize_func(train_data_x)\n",
        "tokenize_func(test_data_x)\n",
        "tokenize_func(valid_data_x)"
      ]
    },
    {
      "cell_type": "code",
      "execution_count": null,
      "metadata": {
        "id": "YNKFl9qZkI46"
      },
      "outputs": [],
      "source": [
        "def remove_stop_words(lst , stop_words ):\n",
        "  counter = 0\n",
        "  for x in lst:\n",
        "    new_list = [ w for w in x if w not in stop_words ]\n",
        "    lst[counter] = new_list\n",
        "    counter = counter + 1 "
      ]
    },
    {
      "cell_type": "code",
      "execution_count": null,
      "metadata": {
        "id": "I8J3H4P0hgsU"
      },
      "outputs": [],
      "source": [
        "stop_words = set(stopwords.words(\"english\"))\n",
        "remove_stop_words(train_data_x,stop_words)\n",
        "remove_stop_words(test_data_x,stop_words)\n",
        "remove_stop_words(valid_data_x , stop_words)"
      ]
    },
    {
      "cell_type": "code",
      "execution_count": null,
      "metadata": {
        "id": "-FhkchAXlXqt"
      },
      "outputs": [],
      "source": [
        "def lemmatization_with_pos( lst ):\n",
        "  lemmatizer = WordNetLemmatizer()\n",
        "  tag_dict = {\"J\": wordnet.ADJ,\"N\": wordnet.NOUN,\"V\": wordnet.VERB,\"R\": wordnet.ADV}\n",
        "  for i in range( len(lst) ):\n",
        "    tagged_words = nltk.pos_tag( lst[i] )\n",
        "    for j in range( len( tagged_words ) ):\n",
        "      if( tagged_words[j][1][0] in tag_dict ):\n",
        "        lst[i][j] = lemmatizer.lemmatize( tagged_words[j][0] , pos = tag_dict[tagged_words[j][1][0]] )"
      ]
    },
    {
      "cell_type": "code",
      "execution_count": null,
      "metadata": {
        "id": "flUJyyiupNVj"
      },
      "outputs": [],
      "source": [
        "lemmatization_with_pos(train_data_x)\n",
        "lemmatization_with_pos( test_data_x )\n",
        "lemmatization_with_pos( valid_data_x )"
      ]
    },
    {
      "cell_type": "code",
      "execution_count": null,
      "metadata": {
        "id": "Puuy7Vrs4lxA"
      },
      "outputs": [],
      "source": [
        "length = [ len(w) for w in train_data_x ]\n",
        "x = {\"length\" : length }\n",
        "df = pd.DataFrame(x)"
      ]
    },
    {
      "cell_type": "code",
      "execution_count": null,
      "metadata": {
        "colab": {
          "base_uri": "https://localhost:8080/",
          "height": 300
        },
        "id": "-B0acKoP2X8m",
        "outputId": "d2974db7-8eca-4a8e-b276-5b44e059d9c3"
      },
      "outputs": [
        {
          "output_type": "execute_result",
          "data": {
            "text/html": [
              "\n",
              "  <div id=\"df-9353c1ef-a9a5-4265-8b03-b4ad32688084\">\n",
              "    <div class=\"colab-df-container\">\n",
              "      <div>\n",
              "<style scoped>\n",
              "    .dataframe tbody tr th:only-of-type {\n",
              "        vertical-align: middle;\n",
              "    }\n",
              "\n",
              "    .dataframe tbody tr th {\n",
              "        vertical-align: top;\n",
              "    }\n",
              "\n",
              "    .dataframe thead th {\n",
              "        text-align: right;\n",
              "    }\n",
              "</style>\n",
              "<table border=\"1\" class=\"dataframe\">\n",
              "  <thead>\n",
              "    <tr style=\"text-align: right;\">\n",
              "      <th></th>\n",
              "      <th>length</th>\n",
              "    </tr>\n",
              "  </thead>\n",
              "  <tbody>\n",
              "    <tr>\n",
              "      <th>count</th>\n",
              "      <td>22500.000000</td>\n",
              "    </tr>\n",
              "    <tr>\n",
              "      <th>mean</th>\n",
              "      <td>182.072711</td>\n",
              "    </tr>\n",
              "    <tr>\n",
              "      <th>std</th>\n",
              "      <td>136.612947</td>\n",
              "    </tr>\n",
              "    <tr>\n",
              "      <th>min</th>\n",
              "      <td>8.000000</td>\n",
              "    </tr>\n",
              "    <tr>\n",
              "      <th>25%</th>\n",
              "      <td>96.000000</td>\n",
              "    </tr>\n",
              "    <tr>\n",
              "      <th>50%</th>\n",
              "      <td>135.000000</td>\n",
              "    </tr>\n",
              "    <tr>\n",
              "      <th>75%</th>\n",
              "      <td>223.000000</td>\n",
              "    </tr>\n",
              "    <tr>\n",
              "      <th>max</th>\n",
              "      <td>1848.000000</td>\n",
              "    </tr>\n",
              "  </tbody>\n",
              "</table>\n",
              "</div>\n",
              "      <button class=\"colab-df-convert\" onclick=\"convertToInteractive('df-9353c1ef-a9a5-4265-8b03-b4ad32688084')\"\n",
              "              title=\"Convert this dataframe to an interactive table.\"\n",
              "              style=\"display:none;\">\n",
              "        \n",
              "  <svg xmlns=\"http://www.w3.org/2000/svg\" height=\"24px\"viewBox=\"0 0 24 24\"\n",
              "       width=\"24px\">\n",
              "    <path d=\"M0 0h24v24H0V0z\" fill=\"none\"/>\n",
              "    <path d=\"M18.56 5.44l.94 2.06.94-2.06 2.06-.94-2.06-.94-.94-2.06-.94 2.06-2.06.94zm-11 1L8.5 8.5l.94-2.06 2.06-.94-2.06-.94L8.5 2.5l-.94 2.06-2.06.94zm10 10l.94 2.06.94-2.06 2.06-.94-2.06-.94-.94-2.06-.94 2.06-2.06.94z\"/><path d=\"M17.41 7.96l-1.37-1.37c-.4-.4-.92-.59-1.43-.59-.52 0-1.04.2-1.43.59L10.3 9.45l-7.72 7.72c-.78.78-.78 2.05 0 2.83L4 21.41c.39.39.9.59 1.41.59.51 0 1.02-.2 1.41-.59l7.78-7.78 2.81-2.81c.8-.78.8-2.07 0-2.86zM5.41 20L4 18.59l7.72-7.72 1.47 1.35L5.41 20z\"/>\n",
              "  </svg>\n",
              "      </button>\n",
              "      \n",
              "  <style>\n",
              "    .colab-df-container {\n",
              "      display:flex;\n",
              "      flex-wrap:wrap;\n",
              "      gap: 12px;\n",
              "    }\n",
              "\n",
              "    .colab-df-convert {\n",
              "      background-color: #E8F0FE;\n",
              "      border: none;\n",
              "      border-radius: 50%;\n",
              "      cursor: pointer;\n",
              "      display: none;\n",
              "      fill: #1967D2;\n",
              "      height: 32px;\n",
              "      padding: 0 0 0 0;\n",
              "      width: 32px;\n",
              "    }\n",
              "\n",
              "    .colab-df-convert:hover {\n",
              "      background-color: #E2EBFA;\n",
              "      box-shadow: 0px 1px 2px rgba(60, 64, 67, 0.3), 0px 1px 3px 1px rgba(60, 64, 67, 0.15);\n",
              "      fill: #174EA6;\n",
              "    }\n",
              "\n",
              "    [theme=dark] .colab-df-convert {\n",
              "      background-color: #3B4455;\n",
              "      fill: #D2E3FC;\n",
              "    }\n",
              "\n",
              "    [theme=dark] .colab-df-convert:hover {\n",
              "      background-color: #434B5C;\n",
              "      box-shadow: 0px 1px 3px 1px rgba(0, 0, 0, 0.15);\n",
              "      filter: drop-shadow(0px 1px 2px rgba(0, 0, 0, 0.3));\n",
              "      fill: #FFFFFF;\n",
              "    }\n",
              "  </style>\n",
              "\n",
              "      <script>\n",
              "        const buttonEl =\n",
              "          document.querySelector('#df-9353c1ef-a9a5-4265-8b03-b4ad32688084 button.colab-df-convert');\n",
              "        buttonEl.style.display =\n",
              "          google.colab.kernel.accessAllowed ? 'block' : 'none';\n",
              "\n",
              "        async function convertToInteractive(key) {\n",
              "          const element = document.querySelector('#df-9353c1ef-a9a5-4265-8b03-b4ad32688084');\n",
              "          const dataTable =\n",
              "            await google.colab.kernel.invokeFunction('convertToInteractive',\n",
              "                                                     [key], {});\n",
              "          if (!dataTable) return;\n",
              "\n",
              "          const docLinkHtml = 'Like what you see? Visit the ' +\n",
              "            '<a target=\"_blank\" href=https://colab.research.google.com/notebooks/data_table.ipynb>data table notebook</a>'\n",
              "            + ' to learn more about interactive tables.';\n",
              "          element.innerHTML = '';\n",
              "          dataTable['output_type'] = 'display_data';\n",
              "          await google.colab.output.renderOutput(dataTable, element);\n",
              "          const docLink = document.createElement('div');\n",
              "          docLink.innerHTML = docLinkHtml;\n",
              "          element.appendChild(docLink);\n",
              "        }\n",
              "      </script>\n",
              "    </div>\n",
              "  </div>\n",
              "  "
            ],
            "text/plain": [
              "             length\n",
              "count  22500.000000\n",
              "mean     182.072711\n",
              "std      136.612947\n",
              "min        8.000000\n",
              "25%       96.000000\n",
              "50%      135.000000\n",
              "75%      223.000000\n",
              "max     1848.000000"
            ]
          },
          "metadata": {},
          "execution_count": 16
        }
      ],
      "source": [
        "df.describe()"
      ]
    },
    {
      "cell_type": "code",
      "execution_count": null,
      "metadata": {
        "id": "fD-iT8zyKS70"
      },
      "outputs": [],
      "source": [
        "def listTostring(data):\n",
        "  count = 0\n",
        "  new_list = list()\n",
        "  for l in data:\n",
        "    new_list.append(' '.join(map(str, l)))\n",
        "    count += 1\n",
        "  return new_list"
      ]
    },
    {
      "cell_type": "code",
      "execution_count": null,
      "metadata": {
        "id": "OIO19p5M6l9n"
      },
      "outputs": [],
      "source": [
        "cv = CountVectorizer()"
      ]
    },
    {
      "cell_type": "code",
      "execution_count": null,
      "metadata": {
        "id": "SwQHjNuL7tSi"
      },
      "outputs": [],
      "source": [
        "train_data_x_non_tokenized = listTostring(train_data_x)    # non-tokenized training examples"
      ]
    },
    {
      "cell_type": "code",
      "execution_count": null,
      "metadata": {
        "colab": {
          "base_uri": "https://localhost:8080/"
        },
        "id": "kN3xzgBY5_Z2",
        "outputId": "83701e60-7a8b-4568-a8b4-11a7b8593cf1"
      },
      "outputs": [
        {
          "output_type": "execute_result",
          "data": {
            "text/plain": [
              "<22500x65741 sparse matrix of type '<class 'numpy.int64'>'\n",
              "\twith 2305995 stored elements in Compressed Sparse Row format>"
            ]
          },
          "metadata": {},
          "execution_count": 20
        }
      ],
      "source": [
        "data_matrix_cv = cv.fit_transform(train_data_x_non_tokenized)    # 25000 * 68869 numpy.int64 matrix\n",
        "data_matrix_cv"
      ]
    },
    {
      "cell_type": "code",
      "execution_count": null,
      "metadata": {
        "id": "KK6_OKTjZ5iW"
      },
      "outputs": [],
      "source": [
        "tfv = TfidfVectorizer()"
      ]
    },
    {
      "cell_type": "code",
      "execution_count": null,
      "metadata": {
        "colab": {
          "base_uri": "https://localhost:8080/"
        },
        "id": "l6D6Vfn7PrPa",
        "outputId": "6ba58706-3a79-4b21-c095-2f51865d54c5"
      },
      "outputs": [
        {
          "output_type": "execute_result",
          "data": {
            "text/plain": [
              "<22500x65741 sparse matrix of type '<class 'numpy.float64'>'\n",
              "\twith 2305995 stored elements in Compressed Sparse Row format>"
            ]
          },
          "metadata": {},
          "execution_count": 22
        }
      ],
      "source": [
        "data_matrix_TFV = tfv.fit_transform( train_data_x_non_tokenized )\n",
        "data_matrix_TFV"
      ]
    },
    {
      "cell_type": "code",
      "execution_count": null,
      "metadata": {
        "colab": {
          "base_uri": "https://localhost:8080/"
        },
        "id": "dhipRYO2VK1h",
        "outputId": "c138437c-5830-4595-d9b8-3d3bbc985322"
      },
      "outputs": [
        {
          "output_type": "stream",
          "name": "stdout",
          "text": [
            "--2021-12-19 18:29:14--  http://nlp.stanford.edu/data/glove.6B.zip\n",
            "Resolving nlp.stanford.edu (nlp.stanford.edu)... 171.64.67.140\n",
            "Connecting to nlp.stanford.edu (nlp.stanford.edu)|171.64.67.140|:80... connected.\n",
            "HTTP request sent, awaiting response... 302 Found\n",
            "Location: https://nlp.stanford.edu/data/glove.6B.zip [following]\n",
            "--2021-12-19 18:29:14--  https://nlp.stanford.edu/data/glove.6B.zip\n",
            "Connecting to nlp.stanford.edu (nlp.stanford.edu)|171.64.67.140|:443... connected.\n",
            "HTTP request sent, awaiting response... 301 Moved Permanently\n",
            "Location: http://downloads.cs.stanford.edu/nlp/data/glove.6B.zip [following]\n",
            "--2021-12-19 18:29:14--  http://downloads.cs.stanford.edu/nlp/data/glove.6B.zip\n",
            "Resolving downloads.cs.stanford.edu (downloads.cs.stanford.edu)... 171.64.64.22\n",
            "Connecting to downloads.cs.stanford.edu (downloads.cs.stanford.edu)|171.64.64.22|:80... connected.\n",
            "HTTP request sent, awaiting response... 200 OK\n",
            "Length: 862182613 (822M) [application/zip]\n",
            "Saving to: ‘glove.6B.zip’\n",
            "\n",
            "glove.6B.zip        100%[===================>] 822.24M  5.05MB/s    in 2m 41s  \n",
            "\n",
            "2021-12-19 18:31:56 (5.11 MB/s) - ‘glove.6B.zip’ saved [862182613/862182613]\n",
            "\n",
            "Archive:  glove.6B.zip\n",
            "  inflating: glove.6B.50d.txt        \n",
            "  inflating: glove.6B.100d.txt       \n",
            "  inflating: glove.6B.200d.txt       \n",
            "  inflating: glove.6B.300d.txt       \n"
          ]
        }
      ],
      "source": [
        "!wget http://nlp.stanford.edu/data/glove.6B.zip\n",
        "!unzip glove*.zip"
      ]
    },
    {
      "cell_type": "code",
      "execution_count": null,
      "metadata": {
        "id": "D4Oi5XrBvSF0"
      },
      "outputs": [],
      "source": [
        "embeddings_index = {}\n",
        "f = open('/content/glove.6B.100d.txt', encoding='utf-8')\n",
        "for line in f:\n",
        "    values = line.split()\n",
        "    word = values[0]\n",
        "    coefs = np.asarray(values[1:], dtype='float32')\n",
        "    embeddings_index[word] = coefs\n",
        "f.close()"
      ]
    },
    {
      "cell_type": "code",
      "execution_count": null,
      "metadata": {
        "id": "VUoxhnqznCIx"
      },
      "outputs": [],
      "source": [
        "def create_embedding_data_matrix ( train_data_x_tokenized , max_num_of_words , vector_size , embeddings_index ):\n",
        "  data_matrix = np.zeros( ( len(train_data_x_tokenized) , max_num_of_words * vector_size ) )\n",
        "  for i in range (len(train_data_x_tokenized)):\n",
        "    for j in range( len( train_data_x_tokenized[i] ) ):\n",
        "      if j == max_num_of_words :\n",
        "        break\n",
        "      elif  train_data_x_tokenized[i][j] in embeddings_index :\n",
        "        data_matrix[ i , j * vector_size : j * vector_size + vector_size   ] =  embeddings_index[train_data_x_tokenized[i][j]]\n",
        "  return data_matrix"
      ]
    },
    {
      "cell_type": "code",
      "execution_count": null,
      "metadata": {
        "id": "b9kLbSTzo7ag"
      },
      "outputs": [],
      "source": [
        "data_matrix_word_embedding = create_embedding_data_matrix( train_data_x , 120 , 100 , embeddings_index )"
      ]
    },
    {
      "cell_type": "code",
      "execution_count": null,
      "metadata": {
        "colab": {
          "base_uri": "https://localhost:8080/"
        },
        "id": "IkOllGSIQ7Rz",
        "outputId": "bde5f1e0-fe85-494e-88ba-d376fe49758a"
      },
      "outputs": [
        {
          "output_type": "execute_result",
          "data": {
            "text/plain": [
              "(22500, 12000)"
            ]
          },
          "metadata": {},
          "execution_count": 26
        }
      ],
      "source": [
        "data_matrix_word_embedding.shape"
      ]
    },
    {
      "cell_type": "code",
      "source": [
        "valid_data_x_embedding = create_embedding_data_matrix( valid_data_x , 120 , 100 , embeddings_index )\n",
        "test_data_x_embedding = create_embedding_data_matrix( test_data_x , 120 , 100 , embeddings_index )"
      ],
      "metadata": {
        "id": "gK4tpQr4UheR"
      },
      "execution_count": null,
      "outputs": []
    },
    {
      "cell_type": "code",
      "execution_count": null,
      "metadata": {
        "id": "ysTMqzX7RKhZ"
      },
      "outputs": [],
      "source": [
        "test_data_x_non_tokenized = listTostring( test_data_x )\n",
        "valid_data_x_non_tokenized = listTostring(valid_data_x)\n",
        "valid_data_x_cv = cv.transform(valid_data_x_non_tokenized)\n",
        "test_data_x_cv = cv.transform( test_data_x_non_tokenized )\n",
        "valid_data_x_tfv = tfv.transform(valid_data_x_non_tokenized)\n",
        "test_data_x_tfv = tfv.transform( test_data_x_non_tokenized )"
      ]
    },
    {
      "cell_type": "code",
      "execution_count": null,
      "metadata": {
        "id": "iawlVUxj8Fzm"
      },
      "outputs": [],
      "source": [
        "valid_scores_cv = {}\n",
        "valid_scores_tfv = {}\n",
        "valid_scores_embedding = {}\n",
        "test_scores_cv = {}\n",
        "test_scores_tfv = {}\n",
        "test_scores_embedding = {}"
      ]
    },
    {
      "cell_type": "code",
      "execution_count": null,
      "metadata": {
        "id": "Mlo68q9dnqRg"
      },
      "outputs": [],
      "source": [
        "with open( '/content/valid_scores_cv.json ' , 'w') as file:\n",
        "  json.dump( valid_scores_cv , file )\n",
        "with open( '/content/test_scores_cv.json ' , 'w') as file:\n",
        "  json.dump( test_scores_cv , file )"
      ]
    },
    {
      "cell_type": "code",
      "execution_count": null,
      "metadata": {
        "id": "xuUTp_Hk4vJy"
      },
      "outputs": [],
      "source": [
        "with open( '/content/valid_scores_tfv.json ' , 'w') as file:\n",
        "  json.dump( valid_scores_tfv , file )\n",
        "with open( '/content/test_scores_tfv.json ' , 'w') as file:\n",
        "  json.dump( test_scores_tfv , file )"
      ]
    },
    {
      "cell_type": "code",
      "source": [
        "with open( '/content/valid_scores_embedding.json ' , 'w') as file:\n",
        "  json.dump( valid_scores_embedding , file )\n",
        "with open( '/content/test_scores_embedding.json ' , 'w') as file:\n",
        "  json.dump( test_scores_embedding , file )"
      ],
      "metadata": {
        "id": "kFF9Ooov1phv"
      },
      "execution_count": null,
      "outputs": []
    },
    {
      "cell_type": "markdown",
      "metadata": {
        "id": "dK187hPwGDyd"
      },
      "source": [
        "**using logistic regression for count vectorizer**"
      ]
    },
    {
      "cell_type": "code",
      "execution_count": null,
      "metadata": {
        "id": "z9bLGuzdu5fr"
      },
      "outputs": [],
      "source": [
        "logistic_regression_model_cv = LogisticRegression( max_iter = 300 )"
      ]
    },
    {
      "cell_type": "code",
      "execution_count": null,
      "metadata": {
        "colab": {
          "base_uri": "https://localhost:8080/"
        },
        "id": "0MZbn4tQ3wUi",
        "outputId": "f75db53d-e716-47fa-f5fb-65e254b23913"
      },
      "outputs": [
        {
          "name": "stderr",
          "output_type": "stream",
          "text": [
            "/usr/local/lib/python3.7/dist-packages/sklearn/linear_model/_logistic.py:818: ConvergenceWarning: lbfgs failed to converge (status=1):\n",
            "STOP: TOTAL NO. of ITERATIONS REACHED LIMIT.\n",
            "\n",
            "Increase the number of iterations (max_iter) or scale the data as shown in:\n",
            "    https://scikit-learn.org/stable/modules/preprocessing.html\n",
            "Please also refer to the documentation for alternative solver options:\n",
            "    https://scikit-learn.org/stable/modules/linear_model.html#logistic-regression\n",
            "  extra_warning_msg=_LOGISTIC_SOLVER_CONVERGENCE_MSG,\n"
          ]
        },
        {
          "data": {
            "text/plain": [
              "LogisticRegression(max_iter=300)"
            ]
          },
          "execution_count": 5,
          "metadata": {},
          "output_type": "execute_result"
        }
      ],
      "source": [
        "logistic_regression_model_cv.fit( data_matrix_cv , train_data_y )"
      ]
    },
    {
      "cell_type": "code",
      "execution_count": null,
      "metadata": {
        "colab": {
          "base_uri": "https://localhost:8080/"
        },
        "id": "fbdzNq0pHWXh",
        "outputId": "849bab08-a08d-4869-8641-d4962d6dbeff"
      },
      "outputs": [
        {
          "name": "stdout",
          "output_type": "stream",
          "text": [
            "[1. 0. 1. ... 1. 1. 0.]\n"
          ]
        }
      ],
      "source": [
        "predictions = logistic_regression_model_cv.predict( valid_data_x_cv )\n",
        "print(predictions)"
      ]
    },
    {
      "cell_type": "code",
      "execution_count": null,
      "metadata": {
        "colab": {
          "base_uri": "https://localhost:8080/"
        },
        "id": "thVSmIpUIMOF",
        "outputId": "a4ad9527-fdab-4778-dec0-0de9da9ad0c8"
      },
      "outputs": [
        {
          "name": "stdout",
          "output_type": "stream",
          "text": [
            "0.8816\n"
          ]
        }
      ],
      "source": [
        "print( accuracy_score( valid_data_y , predictions ) )"
      ]
    },
    {
      "cell_type": "code",
      "execution_count": null,
      "metadata": {
        "id": "7UlZmTzr8atO"
      },
      "outputs": [],
      "source": [
        "valid_scores_cv['logistic_regression'] = accuracy_score(valid_data_y,predictions)"
      ]
    },
    {
      "cell_type": "code",
      "execution_count": null,
      "metadata": {
        "colab": {
          "base_uri": "https://localhost:8080/"
        },
        "id": "70VLG2v9RnEd",
        "outputId": "8f821cf6-0f1e-4c40-d22c-d3b88247fae9"
      },
      "outputs": [
        {
          "name": "stdout",
          "output_type": "stream",
          "text": [
            "[1. 1. 1. ... 0. 0. 0.]\n"
          ]
        }
      ],
      "source": [
        "predictions = logistic_regression_model_cv.predict( test_data_x_cv )\n",
        "print(predictions)"
      ]
    },
    {
      "cell_type": "code",
      "execution_count": null,
      "metadata": {
        "colab": {
          "base_uri": "https://localhost:8080/"
        },
        "id": "JPcW96V8R3UT",
        "outputId": "80ea6978-c0ec-4466-9bbb-211e3c10e595"
      },
      "outputs": [
        {
          "name": "stdout",
          "output_type": "stream",
          "text": [
            "0.85668\n"
          ]
        }
      ],
      "source": [
        "print( accuracy_score( test_data_y , predictions ) )"
      ]
    },
    {
      "cell_type": "code",
      "execution_count": null,
      "metadata": {
        "id": "bqBvw55tRrZB"
      },
      "outputs": [],
      "source": [
        "test_scores_cv['logistic_regression'] = accuracy_score(test_data_y,predictions)"
      ]
    },
    {
      "cell_type": "markdown",
      "metadata": {
        "id": "3ayjAql3n7Qk"
      },
      "source": [
        "**Using logistic regression for tf_idf vectorizer**"
      ]
    },
    {
      "cell_type": "code",
      "execution_count": null,
      "metadata": {
        "id": "q_xjcYTqIiu1"
      },
      "outputs": [],
      "source": [
        "logistic_regression_model_tfv = LogisticRegression(max_iter= 300 )"
      ]
    },
    {
      "cell_type": "code",
      "execution_count": null,
      "metadata": {
        "colab": {
          "base_uri": "https://localhost:8080/"
        },
        "id": "ky8UVZkdJ8Fk",
        "outputId": "a17c1405-6291-4452-dd76-f04312387563"
      },
      "outputs": [
        {
          "data": {
            "text/plain": [
              "LogisticRegression(max_iter=300)"
            ]
          },
          "execution_count": 5,
          "metadata": {},
          "output_type": "execute_result"
        }
      ],
      "source": [
        "logistic_regression_model_tfv.fit( data_matrix_TFV , train_data_y )"
      ]
    },
    {
      "cell_type": "code",
      "execution_count": null,
      "metadata": {
        "colab": {
          "base_uri": "https://localhost:8080/"
        },
        "id": "IS0FcnNKKKpV",
        "outputId": "c7da0711-af0d-47eb-96b3-02e284ef3534"
      },
      "outputs": [
        {
          "name": "stdout",
          "output_type": "stream",
          "text": [
            "[1. 0. 1. ... 1. 1. 0.]\n"
          ]
        }
      ],
      "source": [
        "predictions = logistic_regression_model_tfv.predict( valid_data_x_tfv )\n",
        "print(predictions)"
      ]
    },
    {
      "cell_type": "code",
      "execution_count": null,
      "metadata": {
        "colab": {
          "base_uri": "https://localhost:8080/"
        },
        "id": "vmNavlfSKL7B",
        "outputId": "162f388f-a700-47be-c8ed-20a8b6550e5e"
      },
      "outputs": [
        {
          "name": "stdout",
          "output_type": "stream",
          "text": [
            "0.8872\n"
          ]
        }
      ],
      "source": [
        "print( accuracy_score( valid_data_y , predictions ) )"
      ]
    },
    {
      "cell_type": "code",
      "execution_count": null,
      "metadata": {
        "id": "WeOoCzLs89Nv"
      },
      "outputs": [],
      "source": [
        "valid_scores_tfv['logistic_regression'] = accuracy_score(valid_data_y,predictions)"
      ]
    },
    {
      "cell_type": "code",
      "execution_count": null,
      "metadata": {
        "colab": {
          "base_uri": "https://localhost:8080/"
        },
        "id": "E-oGGyitpL4_",
        "outputId": "de424a9c-7a2d-4980-e53f-9c61a7a7da40"
      },
      "outputs": [
        {
          "name": "stdout",
          "output_type": "stream",
          "text": [
            "[1. 1. 1. ... 0. 0. 0.]\n"
          ]
        }
      ],
      "source": [
        "predictions = logistic_regression_model_tfv.predict( test_data_x_tfv )\n",
        "print(predictions)"
      ]
    },
    {
      "cell_type": "code",
      "execution_count": null,
      "metadata": {
        "colab": {
          "base_uri": "https://localhost:8080/"
        },
        "id": "WF3SoKkXpWF1",
        "outputId": "9812e4b7-d831-48f8-9706-6455c7f5312a"
      },
      "outputs": [
        {
          "name": "stdout",
          "output_type": "stream",
          "text": [
            "0.8768\n"
          ]
        }
      ],
      "source": [
        "print( accuracy_score( test_data_y , predictions ) )"
      ]
    },
    {
      "cell_type": "code",
      "execution_count": null,
      "metadata": {
        "id": "pwAXi8kbpZez"
      },
      "outputs": [],
      "source": [
        "test_scores_tfv['logistic_regression'] = accuracy_score(test_data_y,predictions)"
      ]
    },
    {
      "cell_type": "markdown",
      "metadata": {
        "id": "cMlSQ_BboCbb"
      },
      "source": [
        "**Using logistic regression for embedding**"
      ]
    },
    {
      "cell_type": "code",
      "execution_count": null,
      "metadata": {
        "id": "BiOOJeK0KQal"
      },
      "outputs": [],
      "source": [
        "logistic_regression_model_embedding = LogisticRegression( max_iter = 600 )"
      ]
    },
    {
      "cell_type": "code",
      "execution_count": null,
      "metadata": {
        "colab": {
          "base_uri": "https://localhost:8080/"
        },
        "id": "J-qDYgOvKToh",
        "outputId": "1ddfc85c-5362-4215-897f-49cb03814e21"
      },
      "outputs": [
        {
          "output_type": "stream",
          "name": "stderr",
          "text": [
            "/usr/local/lib/python3.7/dist-packages/sklearn/linear_model/_logistic.py:818: ConvergenceWarning: lbfgs failed to converge (status=1):\n",
            "STOP: TOTAL NO. of ITERATIONS REACHED LIMIT.\n",
            "\n",
            "Increase the number of iterations (max_iter) or scale the data as shown in:\n",
            "    https://scikit-learn.org/stable/modules/preprocessing.html\n",
            "Please also refer to the documentation for alternative solver options:\n",
            "    https://scikit-learn.org/stable/modules/linear_model.html#logistic-regression\n",
            "  extra_warning_msg=_LOGISTIC_SOLVER_CONVERGENCE_MSG,\n"
          ]
        },
        {
          "output_type": "execute_result",
          "data": {
            "text/plain": [
              "LogisticRegression(max_iter=600)"
            ]
          },
          "metadata": {},
          "execution_count": 34
        }
      ],
      "source": [
        "logistic_regression_model_embedding.fit( data_matrix_word_embedding , train_data_y )"
      ]
    },
    {
      "cell_type": "code",
      "execution_count": null,
      "metadata": {
        "colab": {
          "base_uri": "https://localhost:8080/"
        },
        "id": "tNWqdAhgKWLS",
        "outputId": "31118df6-2760-4f9b-c62e-bab2f918d397"
      },
      "outputs": [
        {
          "output_type": "stream",
          "name": "stdout",
          "text": [
            "[1 0 0 ... 0 0 0]\n"
          ]
        }
      ],
      "source": [
        "predictions = logistic_regression_model_embedding.predict( valid_data_x_embedding )\n",
        "print(predictions)"
      ]
    },
    {
      "cell_type": "code",
      "execution_count": null,
      "metadata": {
        "colab": {
          "base_uri": "https://localhost:8080/"
        },
        "id": "oLg-1EEDKYX-",
        "outputId": "03c7619e-8686-455e-ca5a-396503f6df3a"
      },
      "outputs": [
        {
          "output_type": "stream",
          "name": "stdout",
          "text": [
            "0.6612\n"
          ]
        }
      ],
      "source": [
        "print( accuracy_score( valid_data_y , predictions ) )"
      ]
    },
    {
      "cell_type": "code",
      "execution_count": null,
      "metadata": {
        "id": "Nj-84Rgh_ILd"
      },
      "outputs": [],
      "source": [
        "valid_scores_embedding['logistic_regression'] = accuracy_score(valid_data_y,predictions)"
      ]
    },
    {
      "cell_type": "code",
      "source": [
        "predictions = logistic_regression_model_embedding.predict( test_data_x_embedding )\n",
        "print(predictions)"
      ],
      "metadata": {
        "colab": {
          "base_uri": "https://localhost:8080/"
        },
        "id": "-EPTTx0qZf9L",
        "outputId": "77882ce1-ae33-4f58-8b83-6dc64d6fe5e7"
      },
      "execution_count": null,
      "outputs": [
        {
          "output_type": "stream",
          "name": "stdout",
          "text": [
            "[1 1 1 ... 0 1 0]\n"
          ]
        }
      ]
    },
    {
      "cell_type": "code",
      "source": [
        "print( accuracy_score( test_data_y , predictions ) )"
      ],
      "metadata": {
        "colab": {
          "base_uri": "https://localhost:8080/"
        },
        "id": "IcxlCYkDZhdW",
        "outputId": "825eba83-d8a6-4552-eeac-487e0bf67efd"
      },
      "execution_count": null,
      "outputs": [
        {
          "output_type": "stream",
          "name": "stdout",
          "text": [
            "0.66824\n"
          ]
        }
      ]
    },
    {
      "cell_type": "code",
      "source": [
        "test_scores_embedding['logistic_regression'] = accuracy_score(test_data_y,predictions)"
      ],
      "metadata": {
        "id": "Gj-vMdRmZiqh"
      },
      "execution_count": null,
      "outputs": []
    },
    {
      "cell_type": "markdown",
      "metadata": {
        "id": "n0InlGhHpCVT"
      },
      "source": [
        "**------------------Using KNN for count vectorize--------------------**"
      ]
    },
    {
      "cell_type": "markdown",
      "metadata": {
        "id": "2ap3bQOoqWUL"
      },
      "source": [
        "------------- KNN_5 ---------------"
      ]
    },
    {
      "cell_type": "code",
      "execution_count": null,
      "metadata": {
        "colab": {
          "base_uri": "https://localhost:8080/"
        },
        "id": "hQLs6njynzwd",
        "outputId": "6b93fbe8-eb2b-4e36-a4cd-0ca437821723"
      },
      "outputs": [
        {
          "data": {
            "text/plain": [
              "KNeighborsClassifier()"
            ]
          },
          "execution_count": 12,
          "metadata": {},
          "output_type": "execute_result"
        }
      ],
      "source": [
        "KNN = neighbors.KNeighborsClassifier(n_neighbors=5 , weights=\"uniform\")\n",
        "KNN.fit(data_matrix_cv , train_data_y)"
      ]
    },
    {
      "cell_type": "code",
      "execution_count": null,
      "metadata": {
        "colab": {
          "base_uri": "https://localhost:8080/"
        },
        "id": "H2TqW_-Rpjni",
        "outputId": "6de94e3a-40e5-4bd2-eaf8-f8f2a6ca80cb"
      },
      "outputs": [
        {
          "name": "stdout",
          "output_type": "stream",
          "text": [
            "[0. 0. 1. ... 1. 0. 0.]\n"
          ]
        }
      ],
      "source": [
        "predictions = KNN.predict(valid_data_x_cv)\n",
        "print(predictions)"
      ]
    },
    {
      "cell_type": "code",
      "execution_count": null,
      "metadata": {
        "colab": {
          "base_uri": "https://localhost:8080/"
        },
        "id": "SBiM1j9VqLC8",
        "outputId": "1896b3d7-cf30-4299-b41d-b20c26b19989"
      },
      "outputs": [
        {
          "name": "stdout",
          "output_type": "stream",
          "text": [
            "0.6244\n"
          ]
        }
      ],
      "source": [
        "print( accuracy_score( valid_data_y , predictions ) )"
      ]
    },
    {
      "cell_type": "code",
      "execution_count": null,
      "metadata": {
        "colab": {
          "base_uri": "https://localhost:8080/"
        },
        "id": "ZPoBjXyDr_Bu",
        "outputId": "7ca6414b-b297-4e6e-d428-6a7994d75e68"
      },
      "outputs": [
        {
          "data": {
            "text/plain": [
              "KNeighborsClassifier(weights='distance')"
            ]
          },
          "execution_count": 15,
          "metadata": {},
          "output_type": "execute_result"
        }
      ],
      "source": [
        "KNN = neighbors.KNeighborsClassifier(n_neighbors=5 , weights='distance')\n",
        "KNN.fit(data_matrix_cv , train_data_y)"
      ]
    },
    {
      "cell_type": "code",
      "execution_count": null,
      "metadata": {
        "colab": {
          "base_uri": "https://localhost:8080/"
        },
        "id": "7bk1ywX0sHtK",
        "outputId": "5c253d71-2ec0-4504-9cd9-d5a10036e390"
      },
      "outputs": [
        {
          "name": "stdout",
          "output_type": "stream",
          "text": [
            "[0. 0. 1. ... 1. 0. 0.]\n"
          ]
        }
      ],
      "source": [
        "predictions = KNN.predict(valid_data_x_cv)\n",
        "print(predictions)"
      ]
    },
    {
      "cell_type": "code",
      "execution_count": null,
      "metadata": {
        "colab": {
          "base_uri": "https://localhost:8080/"
        },
        "id": "8J7ZKM0DsJOh",
        "outputId": "c5702654-bc17-484e-da5f-657d71d03686"
      },
      "outputs": [
        {
          "name": "stdout",
          "output_type": "stream",
          "text": [
            "0.6264\n"
          ]
        }
      ],
      "source": [
        "print( accuracy_score( valid_data_y , predictions ) )"
      ]
    },
    {
      "cell_type": "markdown",
      "metadata": {
        "id": "wpZ3d_r7AAmJ"
      },
      "source": [
        "-------------- KNN_11--------------"
      ]
    },
    {
      "cell_type": "code",
      "execution_count": null,
      "metadata": {
        "colab": {
          "base_uri": "https://localhost:8080/"
        },
        "id": "zcJqQL0qsMZW",
        "outputId": "e6a33af5-d386-4134-9e56-fc61926a6344"
      },
      "outputs": [
        {
          "data": {
            "text/plain": [
              "KNeighborsClassifier(n_neighbors=11)"
            ]
          },
          "execution_count": 18,
          "metadata": {},
          "output_type": "execute_result"
        }
      ],
      "source": [
        "KNN = neighbors.KNeighborsClassifier(n_neighbors=11 , weights=\"uniform\")\n",
        "KNN.fit(data_matrix_cv , train_data_y)"
      ]
    },
    {
      "cell_type": "code",
      "execution_count": null,
      "metadata": {
        "colab": {
          "base_uri": "https://localhost:8080/"
        },
        "id": "cCD8mLIJAHNV",
        "outputId": "427e3f72-72af-4fa9-c1c9-f425b0802428"
      },
      "outputs": [
        {
          "name": "stdout",
          "output_type": "stream",
          "text": [
            "[0. 0. 1. ... 0. 0. 0.]\n"
          ]
        }
      ],
      "source": [
        "predictions = KNN.predict(valid_data_x_cv)\n",
        "print(predictions)"
      ]
    },
    {
      "cell_type": "code",
      "execution_count": null,
      "metadata": {
        "colab": {
          "base_uri": "https://localhost:8080/"
        },
        "id": "-SOBQEYWAJgT",
        "outputId": "66b9165b-4b93-4837-b3a8-bf3d6d03a11a"
      },
      "outputs": [
        {
          "name": "stdout",
          "output_type": "stream",
          "text": [
            "0.638\n"
          ]
        }
      ],
      "source": [
        "print( accuracy_score( valid_data_y , predictions ) )"
      ]
    },
    {
      "cell_type": "code",
      "execution_count": null,
      "metadata": {
        "colab": {
          "base_uri": "https://localhost:8080/"
        },
        "id": "1q75DDO1ALyK",
        "outputId": "3e39dc96-31fb-4ead-c89a-4753be5efd92"
      },
      "outputs": [
        {
          "data": {
            "text/plain": [
              "KNeighborsClassifier(n_neighbors=11, weights='distance')"
            ]
          },
          "execution_count": 21,
          "metadata": {},
          "output_type": "execute_result"
        }
      ],
      "source": [
        "KNN = neighbors.KNeighborsClassifier(n_neighbors=11 , weights=\"distance\")\n",
        "KNN.fit(data_matrix_cv , train_data_y)"
      ]
    },
    {
      "cell_type": "code",
      "execution_count": null,
      "metadata": {
        "colab": {
          "base_uri": "https://localhost:8080/"
        },
        "id": "0IRlu4xTASOy",
        "outputId": "b46125b8-275c-4b96-f592-a2f421896621"
      },
      "outputs": [
        {
          "name": "stdout",
          "output_type": "stream",
          "text": [
            "[0. 0. 1. ... 0. 0. 0.]\n"
          ]
        }
      ],
      "source": [
        "predictions = KNN.predict(valid_data_x_cv)\n",
        "print(predictions)"
      ]
    },
    {
      "cell_type": "code",
      "execution_count": null,
      "metadata": {
        "colab": {
          "base_uri": "https://localhost:8080/"
        },
        "id": "2QC19asTATTJ",
        "outputId": "2d9b63d4-8d45-4a82-bdab-26bfecc97d6f"
      },
      "outputs": [
        {
          "name": "stdout",
          "output_type": "stream",
          "text": [
            "0.64\n"
          ]
        }
      ],
      "source": [
        "print( accuracy_score( valid_data_y , predictions ) )"
      ]
    },
    {
      "cell_type": "markdown",
      "metadata": {
        "id": "pa5T56RLAYya"
      },
      "source": [
        "----------- KNN_17 ------------"
      ]
    },
    {
      "cell_type": "code",
      "execution_count": null,
      "metadata": {
        "colab": {
          "base_uri": "https://localhost:8080/"
        },
        "id": "IDttf5D1AV9x",
        "outputId": "992e856b-0b08-4e6b-e63d-2ea2fa34196f"
      },
      "outputs": [
        {
          "data": {
            "text/plain": [
              "KNeighborsClassifier(n_neighbors=17)"
            ]
          },
          "execution_count": 24,
          "metadata": {},
          "output_type": "execute_result"
        }
      ],
      "source": [
        "KNN = neighbors.KNeighborsClassifier(n_neighbors=17 , weights=\"uniform\")\n",
        "KNN.fit(data_matrix_cv , train_data_y)"
      ]
    },
    {
      "cell_type": "code",
      "execution_count": null,
      "metadata": {
        "colab": {
          "base_uri": "https://localhost:8080/"
        },
        "id": "fdWL6XjIAeHE",
        "outputId": "ad785b1d-d017-46b4-fa95-136ebda7be83"
      },
      "outputs": [
        {
          "name": "stdout",
          "output_type": "stream",
          "text": [
            "[0. 0. 0. ... 1. 0. 0.]\n"
          ]
        }
      ],
      "source": [
        "predictions = KNN.predict(valid_data_x_cv)\n",
        "print(predictions)"
      ]
    },
    {
      "cell_type": "code",
      "execution_count": null,
      "metadata": {
        "colab": {
          "base_uri": "https://localhost:8080/"
        },
        "id": "EPCm-ypyAff6",
        "outputId": "723b46a9-40a8-4f1e-9822-400e2ea215c3"
      },
      "outputs": [
        {
          "name": "stdout",
          "output_type": "stream",
          "text": [
            "0.6452\n"
          ]
        }
      ],
      "source": [
        "print( accuracy_score( valid_data_y , predictions ) )"
      ]
    },
    {
      "cell_type": "code",
      "execution_count": null,
      "metadata": {
        "colab": {
          "base_uri": "https://localhost:8080/"
        },
        "id": "MrRc9UiBAhl6",
        "outputId": "9973cba3-d38b-4df2-adc5-f7affd8a52dd"
      },
      "outputs": [
        {
          "data": {
            "text/plain": [
              "KNeighborsClassifier(n_neighbors=17, weights='distance')"
            ]
          },
          "execution_count": 27,
          "metadata": {},
          "output_type": "execute_result"
        }
      ],
      "source": [
        "KNN = neighbors.KNeighborsClassifier(n_neighbors=17 , weights=\"distance\")\n",
        "KNN.fit(data_matrix_cv , train_data_y)"
      ]
    },
    {
      "cell_type": "code",
      "execution_count": null,
      "metadata": {
        "colab": {
          "base_uri": "https://localhost:8080/"
        },
        "id": "53KBAIMzApWd",
        "outputId": "238b690a-852a-47ae-9718-0e6d3e1ee5dd"
      },
      "outputs": [
        {
          "name": "stdout",
          "output_type": "stream",
          "text": [
            "[0. 0. 0. ... 1. 0. 0.]\n"
          ]
        }
      ],
      "source": [
        "predictions = KNN.predict(valid_data_x_cv)\n",
        "print(predictions)"
      ]
    },
    {
      "cell_type": "code",
      "execution_count": null,
      "metadata": {
        "colab": {
          "base_uri": "https://localhost:8080/"
        },
        "id": "qJr1Q4oPAqfm",
        "outputId": "8abc5c13-9bb8-4a4e-ae32-097dac7f83e5"
      },
      "outputs": [
        {
          "name": "stdout",
          "output_type": "stream",
          "text": [
            "0.6488\n"
          ]
        }
      ],
      "source": [
        "print( accuracy_score( valid_data_y , predictions ) )"
      ]
    },
    {
      "cell_type": "markdown",
      "metadata": {
        "id": "suryIbPfAyTR"
      },
      "source": [
        "------------ KNN_39   ----------"
      ]
    },
    {
      "cell_type": "code",
      "execution_count": null,
      "metadata": {
        "colab": {
          "base_uri": "https://localhost:8080/"
        },
        "id": "14o2P43uAvyw",
        "outputId": "69619354-f435-4b8e-a4be-426e55a96f8b"
      },
      "outputs": [
        {
          "data": {
            "text/plain": [
              "KNeighborsClassifier(n_neighbors=39)"
            ]
          },
          "execution_count": 30,
          "metadata": {},
          "output_type": "execute_result"
        }
      ],
      "source": [
        "KNN = neighbors.KNeighborsClassifier(n_neighbors=39 , weights=\"uniform\")\n",
        "KNN.fit(data_matrix_cv , train_data_y)"
      ]
    },
    {
      "cell_type": "code",
      "execution_count": null,
      "metadata": {
        "colab": {
          "base_uri": "https://localhost:8080/"
        },
        "id": "nXVVazZAA2cl",
        "outputId": "aa86a6dd-f042-4bb2-b312-0739ea454879"
      },
      "outputs": [
        {
          "name": "stdout",
          "output_type": "stream",
          "text": [
            "[0. 0. 1. ... 0. 1. 0.]\n"
          ]
        }
      ],
      "source": [
        "predictions = KNN.predict(valid_data_x_cv)\n",
        "print(predictions)"
      ]
    },
    {
      "cell_type": "code",
      "execution_count": null,
      "metadata": {
        "colab": {
          "base_uri": "https://localhost:8080/"
        },
        "id": "XhDlzIr0BHWa",
        "outputId": "5c1befbe-1fc1-4ea8-ac68-17baf1c1cd6c"
      },
      "outputs": [
        {
          "name": "stdout",
          "output_type": "stream",
          "text": [
            "0.6696\n"
          ]
        }
      ],
      "source": [
        "print( accuracy_score( valid_data_y , predictions ) )"
      ]
    },
    {
      "cell_type": "code",
      "execution_count": null,
      "metadata": {
        "colab": {
          "base_uri": "https://localhost:8080/"
        },
        "id": "JpIeyA82BKUd",
        "outputId": "88d14443-4b85-4703-9345-d07ac8219af5"
      },
      "outputs": [
        {
          "data": {
            "text/plain": [
              "KNeighborsClassifier(n_neighbors=39, weights='distance')"
            ]
          },
          "execution_count": 33,
          "metadata": {},
          "output_type": "execute_result"
        }
      ],
      "source": [
        "KNN = neighbors.KNeighborsClassifier(n_neighbors=39 , weights=\"distance\")\n",
        "KNN.fit(data_matrix_cv , train_data_y)"
      ]
    },
    {
      "cell_type": "code",
      "execution_count": null,
      "metadata": {
        "colab": {
          "base_uri": "https://localhost:8080/"
        },
        "id": "RxMVG3aWDr4X",
        "outputId": "c9905f9f-0aab-4bb0-c815-3beecdaad68c"
      },
      "outputs": [
        {
          "name": "stdout",
          "output_type": "stream",
          "text": [
            "[0. 0. 1. ... 0. 1. 0.]\n"
          ]
        }
      ],
      "source": [
        "predictions = KNN.predict(valid_data_x_cv)\n",
        "print(predictions)"
      ]
    },
    {
      "cell_type": "code",
      "execution_count": null,
      "metadata": {
        "colab": {
          "base_uri": "https://localhost:8080/"
        },
        "id": "U3EpeiwzDs5Z",
        "outputId": "0d395585-7810-4d4d-add6-5457590a77f0"
      },
      "outputs": [
        {
          "name": "stdout",
          "output_type": "stream",
          "text": [
            "0.6732\n"
          ]
        }
      ],
      "source": [
        "print( accuracy_score( valid_data_y , predictions ) )"
      ]
    },
    {
      "cell_type": "markdown",
      "metadata": {
        "id": "WXF-L89bD3pS"
      },
      "source": [
        "-----------KNN_49 higest accuracy -------------"
      ]
    },
    {
      "cell_type": "code",
      "execution_count": null,
      "metadata": {
        "colab": {
          "base_uri": "https://localhost:8080/"
        },
        "id": "Epl4lqXHDt47",
        "outputId": "fdcbbc1e-66d6-4367-faf0-0b338831bad2"
      },
      "outputs": [
        {
          "data": {
            "text/plain": [
              "KNeighborsClassifier(n_neighbors=49)"
            ]
          },
          "execution_count": 36,
          "metadata": {},
          "output_type": "execute_result"
        }
      ],
      "source": [
        "KNN = neighbors.KNeighborsClassifier(n_neighbors=49 , weights=\"uniform\")\n",
        "KNN.fit(data_matrix_cv , train_data_y)"
      ]
    },
    {
      "cell_type": "code",
      "execution_count": null,
      "metadata": {
        "colab": {
          "base_uri": "https://localhost:8080/"
        },
        "id": "miSAiXHPD860",
        "outputId": "4a79b6d6-20ab-4cb2-cdd3-309dde974fdb"
      },
      "outputs": [
        {
          "name": "stdout",
          "output_type": "stream",
          "text": [
            "[1. 1. 1. ... 0. 1. 0.]\n"
          ]
        }
      ],
      "source": [
        "\n",
        "predictions = KNN.predict(valid_data_x_cv)\n",
        "print(predictions)"
      ]
    },
    {
      "cell_type": "code",
      "execution_count": null,
      "metadata": {
        "colab": {
          "base_uri": "https://localhost:8080/"
        },
        "id": "ja5IqiFFD-Ol",
        "outputId": "b9af517d-0053-4f6f-e5e0-5012e3a39d9c"
      },
      "outputs": [
        {
          "name": "stdout",
          "output_type": "stream",
          "text": [
            "0.6688\n"
          ]
        }
      ],
      "source": [
        "print( accuracy_score( valid_data_y , predictions ) )"
      ]
    },
    {
      "cell_type": "code",
      "execution_count": null,
      "metadata": {
        "colab": {
          "base_uri": "https://localhost:8080/"
        },
        "id": "ISjG-HEQD_dJ",
        "outputId": "61fad2bf-90d4-4eb0-94ab-33bf154593cd"
      },
      "outputs": [
        {
          "data": {
            "text/plain": [
              "KNeighborsClassifier(n_neighbors=49, weights='distance')"
            ]
          },
          "execution_count": 39,
          "metadata": {},
          "output_type": "execute_result"
        }
      ],
      "source": [
        "KNN = neighbors.KNeighborsClassifier(n_neighbors=49 , weights=\"distance\")\n",
        "KNN.fit(data_matrix_cv , train_data_y)"
      ]
    },
    {
      "cell_type": "code",
      "execution_count": null,
      "metadata": {
        "colab": {
          "base_uri": "https://localhost:8080/"
        },
        "id": "qLiccBEGEFb5",
        "outputId": "b07302ee-a144-496d-ae77-980185079b0f"
      },
      "outputs": [
        {
          "name": "stdout",
          "output_type": "stream",
          "text": [
            "[1. 0. 1. ... 0. 1. 0.]\n"
          ]
        }
      ],
      "source": [
        "predictions = KNN.predict(valid_data_x_cv)\n",
        "print(predictions)"
      ]
    },
    {
      "cell_type": "code",
      "execution_count": null,
      "metadata": {
        "colab": {
          "base_uri": "https://localhost:8080/"
        },
        "id": "PZph-Fe-EHf8",
        "outputId": "d08e5bb2-2fad-48eb-d28b-c0c0f792073d"
      },
      "outputs": [
        {
          "name": "stdout",
          "output_type": "stream",
          "text": [
            "0.6736\n"
          ]
        }
      ],
      "source": [
        "print( accuracy_score( valid_data_y , predictions ) )"
      ]
    },
    {
      "cell_type": "code",
      "execution_count": null,
      "metadata": {
        "id": "7Mna7Ey8gTcr"
      },
      "outputs": [],
      "source": [
        "valid_scores_cv['KNN'] = accuracy_score(valid_data_y,predictions)"
      ]
    },
    {
      "cell_type": "markdown",
      "metadata": {
        "id": "xWGl4M81LxIs"
      },
      "source": [
        "---------- test data----------"
      ]
    },
    {
      "cell_type": "code",
      "execution_count": null,
      "metadata": {
        "colab": {
          "base_uri": "https://localhost:8080/"
        },
        "id": "jiKoK1cSLqEh",
        "outputId": "f2db63dd-687d-4717-d040-6c455246f881"
      },
      "outputs": [
        {
          "data": {
            "text/plain": [
              "KNeighborsClassifier(n_neighbors=39)"
            ]
          },
          "execution_count": 36,
          "metadata": {},
          "output_type": "execute_result"
        }
      ],
      "source": [
        "KNN = neighbors.KNeighborsClassifier(n_neighbors=39 , weights=\"uniform\")\n",
        "KNN.fit(data_matrix_cv , train_data_y)"
      ]
    },
    {
      "cell_type": "code",
      "execution_count": null,
      "metadata": {
        "colab": {
          "base_uri": "https://localhost:8080/"
        },
        "id": "uRZcSpIIL4GL",
        "outputId": "04d62a31-ac64-4f72-a2b7-6dd1f3e190bf"
      },
      "outputs": [
        {
          "name": "stdout",
          "output_type": "stream",
          "text": [
            "[1. 1. 1. ... 0. 1. 0.]\n"
          ]
        }
      ],
      "source": [
        "predictions = KNN.predict(test_data_x_cv)\n",
        "print(predictions)"
      ]
    },
    {
      "cell_type": "code",
      "execution_count": null,
      "metadata": {
        "colab": {
          "base_uri": "https://localhost:8080/"
        },
        "id": "TGVv4p7AL_rJ",
        "outputId": "1bb045c9-5c84-429a-be15-96ae26ae2e70"
      },
      "outputs": [
        {
          "name": "stdout",
          "output_type": "stream",
          "text": [
            "0.66372\n"
          ]
        }
      ],
      "source": [
        "print( accuracy_score( test_data_y , predictions ) )"
      ]
    },
    {
      "cell_type": "code",
      "execution_count": null,
      "metadata": {
        "id": "yKS6gmv4g_lV"
      },
      "outputs": [],
      "source": [
        "test_scores_cv['KNN'] = accuracy_score(test_data_y,predictions)"
      ]
    },
    {
      "cell_type": "markdown",
      "metadata": {
        "id": "cD57yNIPEgcC"
      },
      "source": [
        "**------------------Using KNN for tf_idf vectorize--------------------**"
      ]
    },
    {
      "cell_type": "markdown",
      "metadata": {
        "id": "nAvkJFdyElVx"
      },
      "source": [
        "--------KNN_5------------"
      ]
    },
    {
      "cell_type": "code",
      "execution_count": null,
      "metadata": {
        "colab": {
          "base_uri": "https://localhost:8080/"
        },
        "id": "M1V5YJs7EJkc",
        "outputId": "cd7f5c14-8cce-4eb8-9f5f-10021c3bcb7f"
      },
      "outputs": [
        {
          "data": {
            "text/plain": [
              "KNeighborsClassifier()"
            ]
          },
          "execution_count": 14,
          "metadata": {},
          "output_type": "execute_result"
        }
      ],
      "source": [
        "KNN = neighbors.KNeighborsClassifier(n_neighbors=5 , weights=\"uniform\")\n",
        "KNN.fit(data_matrix_TFV, train_data_y)"
      ]
    },
    {
      "cell_type": "code",
      "execution_count": null,
      "metadata": {
        "colab": {
          "base_uri": "https://localhost:8080/"
        },
        "id": "F2U2K1BxE8Th",
        "outputId": "ea68275e-4ac8-4fd7-a2ba-03a197a308c8"
      },
      "outputs": [
        {
          "name": "stdout",
          "output_type": "stream",
          "text": [
            "[1. 0. 1. ... 1. 1. 0.]\n"
          ]
        }
      ],
      "source": [
        "predictions = KNN.predict(valid_data_x_tfv)\n",
        "print(predictions)"
      ]
    },
    {
      "cell_type": "code",
      "execution_count": null,
      "metadata": {
        "colab": {
          "base_uri": "https://localhost:8080/"
        },
        "id": "kZO6IdplFABw",
        "outputId": "5d4cc4ae-9db7-4f57-d936-da64aa93201b"
      },
      "outputs": [
        {
          "name": "stdout",
          "output_type": "stream",
          "text": [
            "0.7816\n"
          ]
        }
      ],
      "source": [
        "print( accuracy_score( valid_data_y , predictions ) )"
      ]
    },
    {
      "cell_type": "code",
      "execution_count": null,
      "metadata": {
        "colab": {
          "base_uri": "https://localhost:8080/"
        },
        "id": "_R8BLOGvFPOZ",
        "outputId": "1a20cbb9-9201-44dc-f97d-6597ef18113c"
      },
      "outputs": [
        {
          "data": {
            "text/plain": [
              "KNeighborsClassifier(weights='distance')"
            ]
          },
          "execution_count": 17,
          "metadata": {},
          "output_type": "execute_result"
        }
      ],
      "source": [
        "KNN = neighbors.KNeighborsClassifier(n_neighbors=5 , weights=\"distance\")\n",
        "KNN.fit(data_matrix_TFV, train_data_y)"
      ]
    },
    {
      "cell_type": "code",
      "execution_count": null,
      "metadata": {
        "colab": {
          "base_uri": "https://localhost:8080/"
        },
        "id": "8DHsBz05FUEZ",
        "outputId": "b2104c52-2fc1-4dbc-cbb1-c339b4d20085"
      },
      "outputs": [
        {
          "name": "stdout",
          "output_type": "stream",
          "text": [
            "[1. 0. 1. ... 1. 1. 0.]\n"
          ]
        }
      ],
      "source": [
        "predictions = KNN.predict(valid_data_x_tfv)\n",
        "print(predictions)"
      ]
    },
    {
      "cell_type": "code",
      "execution_count": null,
      "metadata": {
        "colab": {
          "base_uri": "https://localhost:8080/"
        },
        "id": "B-Eaxc4SFV1k",
        "outputId": "51d3ba56-8bf2-4199-9dd2-9b489eef644d"
      },
      "outputs": [
        {
          "name": "stdout",
          "output_type": "stream",
          "text": [
            "0.7852\n"
          ]
        }
      ],
      "source": [
        "print( accuracy_score( valid_data_y , predictions ) )"
      ]
    },
    {
      "cell_type": "markdown",
      "metadata": {
        "id": "1qEb1567FcHR"
      },
      "source": [
        "----------------KNN_11---------------"
      ]
    },
    {
      "cell_type": "code",
      "execution_count": null,
      "metadata": {
        "colab": {
          "base_uri": "https://localhost:8080/"
        },
        "id": "_x1aH9UCFX6H",
        "outputId": "3f9ce246-ac88-47d3-a2b2-94432a51ab87"
      },
      "outputs": [
        {
          "data": {
            "text/plain": [
              "KNeighborsClassifier(n_neighbors=11)"
            ]
          },
          "execution_count": 20,
          "metadata": {},
          "output_type": "execute_result"
        }
      ],
      "source": [
        "KNN = neighbors.KNeighborsClassifier(n_neighbors=11 , weights=\"uniform\")\n",
        "KNN.fit(data_matrix_TFV, train_data_y)"
      ]
    },
    {
      "cell_type": "code",
      "execution_count": null,
      "metadata": {
        "colab": {
          "base_uri": "https://localhost:8080/"
        },
        "id": "2qYY8tlLFguR",
        "outputId": "820f1c95-4cec-463d-9a54-1c87798609f2"
      },
      "outputs": [
        {
          "name": "stdout",
          "output_type": "stream",
          "text": [
            "[1. 0. 1. ... 1. 1. 0.]\n"
          ]
        }
      ],
      "source": [
        "predictions = KNN.predict(valid_data_x_tfv)\n",
        "print(predictions)"
      ]
    },
    {
      "cell_type": "code",
      "execution_count": null,
      "metadata": {
        "colab": {
          "base_uri": "https://localhost:8080/"
        },
        "id": "kz6UNB0ZFjdi",
        "outputId": "50eaca1b-c3be-4397-e35b-d24927103882"
      },
      "outputs": [
        {
          "name": "stdout",
          "output_type": "stream",
          "text": [
            "0.7824\n"
          ]
        }
      ],
      "source": [
        "print( accuracy_score( valid_data_y , predictions ) )"
      ]
    },
    {
      "cell_type": "code",
      "execution_count": null,
      "metadata": {
        "colab": {
          "base_uri": "https://localhost:8080/"
        },
        "id": "U6YfZfTVFkz_",
        "outputId": "ef4cf322-055a-4615-9da3-c132d911dbb4"
      },
      "outputs": [
        {
          "data": {
            "text/plain": [
              "KNeighborsClassifier(n_neighbors=11, weights='distance')"
            ]
          },
          "execution_count": 23,
          "metadata": {},
          "output_type": "execute_result"
        }
      ],
      "source": [
        "KNN = neighbors.KNeighborsClassifier(n_neighbors=11 , weights=\"distance\")\n",
        "KNN.fit(data_matrix_TFV, train_data_y)"
      ]
    },
    {
      "cell_type": "code",
      "execution_count": null,
      "metadata": {
        "colab": {
          "base_uri": "https://localhost:8080/"
        },
        "id": "RPynZZyQFsf9",
        "outputId": "4291a706-79ca-4c24-8df4-61d63684f918"
      },
      "outputs": [
        {
          "name": "stdout",
          "output_type": "stream",
          "text": [
            "[1. 0. 1. ... 1. 1. 0.]\n"
          ]
        }
      ],
      "source": [
        "predictions = KNN.predict(valid_data_x_tfv)\n",
        "print(predictions)"
      ]
    },
    {
      "cell_type": "code",
      "execution_count": null,
      "metadata": {
        "colab": {
          "base_uri": "https://localhost:8080/"
        },
        "id": "iSN2HGOxFtlf",
        "outputId": "bb2a3a25-41a0-48b7-9f13-1dac24a88c63"
      },
      "outputs": [
        {
          "name": "stdout",
          "output_type": "stream",
          "text": [
            "0.7856\n"
          ]
        }
      ],
      "source": [
        "print( accuracy_score( valid_data_y , predictions ) )"
      ]
    },
    {
      "cell_type": "markdown",
      "metadata": {
        "id": "6w6KmwW8HKby"
      },
      "source": [
        "----------KNN_20 highest accuracy------------"
      ]
    },
    {
      "cell_type": "code",
      "execution_count": null,
      "metadata": {
        "colab": {
          "base_uri": "https://localhost:8080/"
        },
        "id": "Otvt7tIJFvTg",
        "outputId": "b296da85-fc2c-483c-9177-a159f0d0ffdb"
      },
      "outputs": [
        {
          "data": {
            "text/plain": [
              "KNeighborsClassifier(n_neighbors=20)"
            ]
          },
          "execution_count": 26,
          "metadata": {},
          "output_type": "execute_result"
        }
      ],
      "source": [
        "KNN = neighbors.KNeighborsClassifier(n_neighbors=20 , weights=\"uniform\")\n",
        "KNN.fit(data_matrix_TFV, train_data_y)"
      ]
    },
    {
      "cell_type": "code",
      "execution_count": null,
      "metadata": {
        "colab": {
          "base_uri": "https://localhost:8080/"
        },
        "id": "E4neutaUF1k0",
        "outputId": "086f4078-3a84-45d3-e9fa-87531d6f80f7"
      },
      "outputs": [
        {
          "name": "stdout",
          "output_type": "stream",
          "text": [
            "[1. 0. 1. ... 1. 1. 0.]\n"
          ]
        }
      ],
      "source": [
        "predictions = KNN.predict(valid_data_x_tfv)\n",
        "print(predictions)"
      ]
    },
    {
      "cell_type": "code",
      "execution_count": null,
      "metadata": {
        "colab": {
          "base_uri": "https://localhost:8080/"
        },
        "id": "oqBFS1bDF3GM",
        "outputId": "a45f7dd8-6e22-492b-8383-977ac6991e0a"
      },
      "outputs": [
        {
          "name": "stdout",
          "output_type": "stream",
          "text": [
            "0.7888\n"
          ]
        }
      ],
      "source": [
        "print( accuracy_score( valid_data_y , predictions ) )"
      ]
    },
    {
      "cell_type": "code",
      "execution_count": null,
      "metadata": {
        "colab": {
          "base_uri": "https://localhost:8080/"
        },
        "id": "kli8pmiAF4ua",
        "outputId": "13e5d27d-8022-4ce3-cbf8-d9d32406660c"
      },
      "outputs": [
        {
          "data": {
            "text/plain": [
              "KNeighborsClassifier(n_neighbors=20, weights='distance')"
            ]
          },
          "execution_count": 29,
          "metadata": {},
          "output_type": "execute_result"
        }
      ],
      "source": [
        "KNN = neighbors.KNeighborsClassifier(n_neighbors=20 , weights=\"distance\")\n",
        "KNN.fit(data_matrix_TFV, train_data_y)"
      ]
    },
    {
      "cell_type": "code",
      "execution_count": null,
      "metadata": {
        "colab": {
          "base_uri": "https://localhost:8080/"
        },
        "id": "mEnN9kB1HTBj",
        "outputId": "9324fc1f-ced3-4ec0-ae03-245261ecf2e1"
      },
      "outputs": [
        {
          "name": "stdout",
          "output_type": "stream",
          "text": [
            "[1. 0. 1. ... 1. 1. 0.]\n"
          ]
        }
      ],
      "source": [
        "predictions = KNN.predict(valid_data_x_tfv)\n",
        "print(predictions)"
      ]
    },
    {
      "cell_type": "code",
      "execution_count": null,
      "metadata": {
        "colab": {
          "base_uri": "https://localhost:8080/"
        },
        "id": "JLpmirY2HT9o",
        "outputId": "1ba492ba-89a6-444b-8453-177e1d2a2764"
      },
      "outputs": [
        {
          "name": "stdout",
          "output_type": "stream",
          "text": [
            "0.8024\n"
          ]
        }
      ],
      "source": [
        "print( accuracy_score( valid_data_y , predictions ) )"
      ]
    },
    {
      "cell_type": "code",
      "execution_count": null,
      "metadata": {
        "id": "jKPKBLF_qyx0"
      },
      "outputs": [],
      "source": [
        "valid_scores_tfv['KNN'] = accuracy_score( valid_data_y , predictions )"
      ]
    },
    {
      "cell_type": "markdown",
      "metadata": {
        "id": "K2u5gOr1HWy5"
      },
      "source": [
        "----------KNN_25------------"
      ]
    },
    {
      "cell_type": "code",
      "execution_count": null,
      "metadata": {
        "colab": {
          "base_uri": "https://localhost:8080/"
        },
        "id": "vCt4L3uOHkHE",
        "outputId": "37219336-656b-4e63-b3f8-9d40377884e1"
      },
      "outputs": [
        {
          "data": {
            "text/plain": [
              "KNeighborsClassifier(n_neighbors=25)"
            ]
          },
          "execution_count": 32,
          "metadata": {},
          "output_type": "execute_result"
        }
      ],
      "source": [
        "KNN = neighbors.KNeighborsClassifier(n_neighbors=25 , weights=\"uniform\")\n",
        "KNN.fit(data_matrix_TFV, train_data_y)"
      ]
    },
    {
      "cell_type": "code",
      "execution_count": null,
      "metadata": {
        "colab": {
          "base_uri": "https://localhost:8080/"
        },
        "id": "Ru18-vWuHkAU",
        "outputId": "dab511e8-6d7c-4a4e-d4b7-fe0d8b6e165e"
      },
      "outputs": [
        {
          "name": "stdout",
          "output_type": "stream",
          "text": [
            "[1. 0. 1. ... 1. 1. 0.]\n"
          ]
        }
      ],
      "source": [
        "predictions = KNN.predict(valid_data_x_tfv)\n",
        "print(predictions)"
      ]
    },
    {
      "cell_type": "code",
      "execution_count": null,
      "metadata": {
        "colab": {
          "base_uri": "https://localhost:8080/"
        },
        "id": "kdvAyWo7HjuS",
        "outputId": "c28d8490-e956-4978-bbd7-d1934e5863cb"
      },
      "outputs": [
        {
          "name": "stdout",
          "output_type": "stream",
          "text": [
            "0.7908\n"
          ]
        }
      ],
      "source": [
        "print( accuracy_score( valid_data_y , predictions ) )"
      ]
    },
    {
      "cell_type": "code",
      "execution_count": null,
      "metadata": {
        "colab": {
          "base_uri": "https://localhost:8080/"
        },
        "id": "MAEuxD4bHVcv",
        "outputId": "14393885-d15a-4efa-9e21-641b145ae276"
      },
      "outputs": [
        {
          "data": {
            "text/plain": [
              "KNeighborsClassifier(n_neighbors=25, weights='distance')"
            ]
          },
          "execution_count": 35,
          "metadata": {},
          "output_type": "execute_result"
        }
      ],
      "source": [
        "KNN = neighbors.KNeighborsClassifier(n_neighbors=25 , weights=\"distance\")\n",
        "KNN.fit(data_matrix_TFV, train_data_y)"
      ]
    },
    {
      "cell_type": "code",
      "execution_count": null,
      "metadata": {
        "colab": {
          "base_uri": "https://localhost:8080/"
        },
        "id": "Lj6tUOQ4Ha8J",
        "outputId": "d8a84d9a-47bb-4c7f-fcda-9d401609037f"
      },
      "outputs": [
        {
          "name": "stdout",
          "output_type": "stream",
          "text": [
            "[1. 0. 1. ... 1. 1. 0.]\n"
          ]
        }
      ],
      "source": [
        "predictions = KNN.predict(valid_data_x_tfv)\n",
        "print(predictions)"
      ]
    },
    {
      "cell_type": "code",
      "execution_count": null,
      "metadata": {
        "colab": {
          "base_uri": "https://localhost:8080/"
        },
        "id": "LKvdxCbIHcGL",
        "outputId": "1590d17e-0900-498e-93de-16cae25cf643"
      },
      "outputs": [
        {
          "name": "stdout",
          "output_type": "stream",
          "text": [
            "0.7948\n"
          ]
        }
      ],
      "source": [
        "print( accuracy_score( valid_data_y , predictions ) )"
      ]
    },
    {
      "cell_type": "markdown",
      "metadata": {
        "id": "Bel3wMo0H0Cy"
      },
      "source": [
        "------------KNN_39---------------"
      ]
    },
    {
      "cell_type": "code",
      "execution_count": null,
      "metadata": {
        "colab": {
          "base_uri": "https://localhost:8080/"
        },
        "id": "gbxrRTbDHeSk",
        "outputId": "2eb31d1d-ae91-4b92-eb54-bb02184466fe"
      },
      "outputs": [
        {
          "data": {
            "text/plain": [
              "KNeighborsClassifier(n_neighbors=39)"
            ]
          },
          "execution_count": 38,
          "metadata": {},
          "output_type": "execute_result"
        }
      ],
      "source": [
        "KNN = neighbors.KNeighborsClassifier(n_neighbors=39 , weights=\"uniform\")\n",
        "KNN.fit(data_matrix_TFV, train_data_y)"
      ]
    },
    {
      "cell_type": "code",
      "execution_count": null,
      "metadata": {
        "colab": {
          "base_uri": "https://localhost:8080/"
        },
        "id": "NRgaumQAH5q1",
        "outputId": "a1c73a6e-4053-4c5a-d15c-ff773151e65b"
      },
      "outputs": [
        {
          "name": "stdout",
          "output_type": "stream",
          "text": [
            "[1. 1. 1. ... 1. 1. 0.]\n"
          ]
        }
      ],
      "source": [
        "predictions = KNN.predict(valid_data_x_tfv)\n",
        "print(predictions)"
      ]
    },
    {
      "cell_type": "code",
      "execution_count": null,
      "metadata": {
        "colab": {
          "base_uri": "https://localhost:8080/"
        },
        "id": "L94Ev5XUH6-a",
        "outputId": "e3d15452-66df-4b10-8310-9e6b62122fe6"
      },
      "outputs": [
        {
          "name": "stdout",
          "output_type": "stream",
          "text": [
            "0.784\n"
          ]
        }
      ],
      "source": [
        "print( accuracy_score( valid_data_y , predictions ) )"
      ]
    },
    {
      "cell_type": "code",
      "execution_count": null,
      "metadata": {
        "colab": {
          "base_uri": "https://localhost:8080/"
        },
        "id": "0N1Ovy7lH7tt",
        "outputId": "b3aeadfe-8091-4f4e-f618-3c84b02a357f"
      },
      "outputs": [
        {
          "data": {
            "text/plain": [
              "KNeighborsClassifier(n_neighbors=39, weights='distance')"
            ]
          },
          "execution_count": 41,
          "metadata": {},
          "output_type": "execute_result"
        }
      ],
      "source": [
        "KNN = neighbors.KNeighborsClassifier(n_neighbors=39 , weights=\"distance\")\n",
        "KNN.fit(data_matrix_TFV, train_data_y)"
      ]
    },
    {
      "cell_type": "code",
      "execution_count": null,
      "metadata": {
        "colab": {
          "base_uri": "https://localhost:8080/"
        },
        "id": "HjkqaroMLZP8",
        "outputId": "d555f76b-ea57-4f8f-89b0-ff65772e8625"
      },
      "outputs": [
        {
          "name": "stdout",
          "output_type": "stream",
          "text": [
            "[1. 1. 1. ... 1. 1. 0.]\n"
          ]
        }
      ],
      "source": [
        "predictions = KNN.predict(valid_data_x_tfv)\n",
        "print(predictions)"
      ]
    },
    {
      "cell_type": "code",
      "execution_count": null,
      "metadata": {
        "colab": {
          "base_uri": "https://localhost:8080/"
        },
        "id": "LBbIyTyBLcVC",
        "outputId": "9b6d1ac1-5b01-4dde-eb81-056dba17c917"
      },
      "outputs": [
        {
          "name": "stdout",
          "output_type": "stream",
          "text": [
            "0.7884\n"
          ]
        }
      ],
      "source": [
        "print( accuracy_score( valid_data_y , predictions ) )"
      ]
    },
    {
      "cell_type": "markdown",
      "metadata": {
        "id": "F3ng1SMXMjFs"
      },
      "source": [
        "---------test data---------"
      ]
    },
    {
      "cell_type": "code",
      "execution_count": null,
      "metadata": {
        "colab": {
          "base_uri": "https://localhost:8080/"
        },
        "id": "l-P8Y5aCLfKN",
        "outputId": "96d1f001-a9ca-4fb9-af2a-17fe77ed40e3"
      },
      "outputs": [
        {
          "data": {
            "text/plain": [
              "KNeighborsClassifier(n_neighbors=20, weights='distance')"
            ]
          },
          "execution_count": 44,
          "metadata": {},
          "output_type": "execute_result"
        }
      ],
      "source": [
        "KNN = neighbors.KNeighborsClassifier(n_neighbors=20 , weights=\"distance\")\n",
        "KNN.fit(data_matrix_TFV, train_data_y)"
      ]
    },
    {
      "cell_type": "code",
      "execution_count": null,
      "metadata": {
        "colab": {
          "base_uri": "https://localhost:8080/"
        },
        "id": "j4Zw-ZWrMqfW",
        "outputId": "2c9757e8-df21-4fb5-d3c4-a29b66ed8846"
      },
      "outputs": [
        {
          "name": "stdout",
          "output_type": "stream",
          "text": [
            "[1. 1. 1. ... 0. 0. 0.]\n"
          ]
        }
      ],
      "source": [
        "predictions = KNN.predict(test_data_x_tfv)\n",
        "print(predictions)"
      ]
    },
    {
      "cell_type": "code",
      "execution_count": null,
      "metadata": {
        "colab": {
          "base_uri": "https://localhost:8080/"
        },
        "id": "ZM0hqTN4Mt2Z",
        "outputId": "389f2712-369b-4b6f-da82-e9e6fd19b827"
      },
      "outputs": [
        {
          "name": "stdout",
          "output_type": "stream",
          "text": [
            "0.69516\n"
          ]
        }
      ],
      "source": [
        "print( accuracy_score( test_data_y , predictions ) )"
      ]
    },
    {
      "cell_type": "code",
      "execution_count": null,
      "metadata": {
        "id": "UW12jxZwqna4"
      },
      "outputs": [],
      "source": [
        "test_scores_tfv['KNN'] = accuracy_score( test_data_y , predictions )"
      ]
    },
    {
      "cell_type": "markdown",
      "metadata": {
        "id": "8FpG6uBmM_XJ"
      },
      "source": [
        "**---------- Using KNN for embedding --------------**"
      ]
    },
    {
      "cell_type": "markdown",
      "metadata": {
        "id": "mTgSAsDGNORx"
      },
      "source": [
        "--------------------KNN_5  highest accuracy---------------------"
      ]
    },
    {
      "cell_type": "code",
      "execution_count": null,
      "metadata": {
        "colab": {
          "base_uri": "https://localhost:8080/"
        },
        "id": "CJfmFhiuM8XL",
        "outputId": "f8685868-effa-4f5f-dfde-b05a71c7627a"
      },
      "outputs": [
        {
          "output_type": "execute_result",
          "data": {
            "text/plain": [
              "KNeighborsClassifier()"
            ]
          },
          "metadata": {},
          "execution_count": 41
        }
      ],
      "source": [
        "KNN = neighbors.KNeighborsClassifier(n_neighbors=5 , weights=\"uniform\")\n",
        "KNN.fit(data_matrix_word_embedding, train_data_y)"
      ]
    },
    {
      "cell_type": "code",
      "execution_count": null,
      "metadata": {
        "id": "yTjY3xk5NXP2",
        "colab": {
          "base_uri": "https://localhost:8080/"
        },
        "outputId": "975e7e5e-e0c8-46b8-94a2-85ebeef08b65"
      },
      "outputs": [
        {
          "output_type": "stream",
          "name": "stdout",
          "text": [
            "[1 1 1 ... 1 1 1]\n"
          ]
        }
      ],
      "source": [
        "predictions = KNN.predict(valid_data_x_embedding)\n",
        "print(predictions)"
      ]
    },
    {
      "cell_type": "code",
      "execution_count": null,
      "metadata": {
        "colab": {
          "base_uri": "https://localhost:8080/"
        },
        "id": "TaIMNWI6Nc0h",
        "outputId": "95350ea0-4efa-4090-ea93-b76c18db9941"
      },
      "outputs": [
        {
          "output_type": "stream",
          "name": "stdout",
          "text": [
            "0.5148\n"
          ]
        }
      ],
      "source": [
        "print( accuracy_score( valid_data_y , predictions ) )"
      ]
    },
    {
      "cell_type": "code",
      "execution_count": null,
      "metadata": {
        "colab": {
          "base_uri": "https://localhost:8080/"
        },
        "id": "SJWTVZCzN4n2",
        "outputId": "190f013d-6eae-4311-ef6f-d30fb0473023"
      },
      "outputs": [
        {
          "output_type": "execute_result",
          "data": {
            "text/plain": [
              "KNeighborsClassifier(weights='distance')"
            ]
          },
          "metadata": {},
          "execution_count": 44
        }
      ],
      "source": [
        "KNN = neighbors.KNeighborsClassifier(n_neighbors=5 , weights=\"distance\")\n",
        "KNN.fit(data_matrix_word_embedding, train_data_y)"
      ]
    },
    {
      "cell_type": "code",
      "execution_count": null,
      "metadata": {
        "colab": {
          "base_uri": "https://localhost:8080/"
        },
        "id": "zMh8pt3qN9hY",
        "outputId": "0c997737-671c-4a0e-c452-fc9b83664889"
      },
      "outputs": [
        {
          "output_type": "stream",
          "name": "stdout",
          "text": [
            "[1 1 1 ... 1 1 1]\n"
          ]
        }
      ],
      "source": [
        "predictions = KNN.predict(valid_data_x_embedding)\n",
        "print(predictions)"
      ]
    },
    {
      "cell_type": "code",
      "execution_count": null,
      "metadata": {
        "colab": {
          "base_uri": "https://localhost:8080/"
        },
        "id": "10rik05QONH2",
        "outputId": "9505e721-54d5-4a58-9800-b6c08653e1e9"
      },
      "outputs": [
        {
          "output_type": "stream",
          "name": "stdout",
          "text": [
            "0.518\n"
          ]
        }
      ],
      "source": [
        "print( accuracy_score( valid_data_y , predictions ) )"
      ]
    },
    {
      "cell_type": "markdown",
      "metadata": {
        "id": "VOOjD-_UOcsJ"
      },
      "source": [
        "---------------------- KNN_11 -----------------"
      ]
    },
    {
      "cell_type": "code",
      "execution_count": null,
      "metadata": {
        "colab": {
          "base_uri": "https://localhost:8080/"
        },
        "id": "Yg1tJ_ZSOY_L",
        "outputId": "4dfc7384-447c-4d72-d5ed-4a4c99971b70"
      },
      "outputs": [
        {
          "output_type": "execute_result",
          "data": {
            "text/plain": [
              "KNeighborsClassifier(n_neighbors=11)"
            ]
          },
          "metadata": {},
          "execution_count": 47
        }
      ],
      "source": [
        "KNN = neighbors.KNeighborsClassifier(n_neighbors=11 , weights=\"uniform\")\n",
        "KNN.fit(data_matrix_word_embedding, train_data_y)"
      ]
    },
    {
      "cell_type": "code",
      "execution_count": null,
      "metadata": {
        "colab": {
          "base_uri": "https://localhost:8080/"
        },
        "id": "f94G2bgXOjYy",
        "outputId": "ea6f787a-c130-4c98-b865-87a24349282e"
      },
      "outputs": [
        {
          "output_type": "stream",
          "name": "stdout",
          "text": [
            "[1 1 1 ... 1 1 1]\n"
          ]
        }
      ],
      "source": [
        "predictions = KNN.predict(valid_data_x_embedding)\n",
        "print(predictions)"
      ]
    },
    {
      "cell_type": "code",
      "execution_count": null,
      "metadata": {
        "colab": {
          "base_uri": "https://localhost:8080/"
        },
        "id": "cbwrC2dgOvJV",
        "outputId": "50a90476-f926-46c0-bd3f-8b6656704fea"
      },
      "outputs": [
        {
          "output_type": "stream",
          "name": "stdout",
          "text": [
            "0.5148\n"
          ]
        }
      ],
      "source": [
        "print( accuracy_score( valid_data_y , predictions ) )"
      ]
    },
    {
      "cell_type": "code",
      "execution_count": null,
      "metadata": {
        "colab": {
          "base_uri": "https://localhost:8080/"
        },
        "id": "X-kgpF2nO7iV",
        "outputId": "9b441304-9e7d-45e8-ad7e-05ed9fee94e5"
      },
      "outputs": [
        {
          "output_type": "execute_result",
          "data": {
            "text/plain": [
              "KNeighborsClassifier(n_neighbors=11, weights='distance')"
            ]
          },
          "metadata": {},
          "execution_count": 71
        }
      ],
      "source": [
        "KNN = neighbors.KNeighborsClassifier(n_neighbors=11 , weights=\"distance\")\n",
        "KNN.fit(data_matrix_word_embedding, train_data_y)"
      ]
    },
    {
      "cell_type": "code",
      "execution_count": null,
      "metadata": {
        "id": "3kbQqB7zO-2M",
        "colab": {
          "base_uri": "https://localhost:8080/"
        },
        "outputId": "3f2d9652-3a44-4df7-c35f-4ce80ce582c5"
      },
      "outputs": [
        {
          "output_type": "stream",
          "name": "stdout",
          "text": [
            "[1 1 1 ... 1 1 1]\n"
          ]
        }
      ],
      "source": [
        "predictions = KNN.predict(valid_data_x_embedding)\n",
        "print(predictions)"
      ]
    },
    {
      "cell_type": "code",
      "execution_count": null,
      "metadata": {
        "colab": {
          "base_uri": "https://localhost:8080/"
        },
        "id": "baW28yfCPANG",
        "outputId": "b4d7c168-c3e0-4458-cdb0-75bc6519c196"
      },
      "outputs": [
        {
          "output_type": "stream",
          "name": "stdout",
          "text": [
            "0.5188\n"
          ]
        }
      ],
      "source": [
        "print( accuracy_score( valid_data_y , predictions ) )"
      ]
    },
    {
      "cell_type": "code",
      "source": [
        "valid_scores_embedding['KNN'] = accuracy_score( valid_data_y , predictions )"
      ],
      "metadata": {
        "id": "MSICRiUgiN2B"
      },
      "execution_count": null,
      "outputs": []
    },
    {
      "cell_type": "markdown",
      "metadata": {
        "id": "oIAF0JkSPmhJ"
      },
      "source": [
        "----------------------- KNN_20 ---------------------------"
      ]
    },
    {
      "cell_type": "code",
      "execution_count": null,
      "metadata": {
        "colab": {
          "base_uri": "https://localhost:8080/"
        },
        "id": "xvNzkg2VPB0W",
        "outputId": "eefda1fe-095d-4c36-fcab-2a20af438025"
      },
      "outputs": [
        {
          "output_type": "execute_result",
          "data": {
            "text/plain": [
              "KNeighborsClassifier(n_neighbors=20)"
            ]
          },
          "metadata": {},
          "execution_count": 53
        }
      ],
      "source": [
        "KNN = neighbors.KNeighborsClassifier(n_neighbors=20 , weights=\"uniform\")\n",
        "KNN.fit(data_matrix_word_embedding, train_data_y)"
      ]
    },
    {
      "cell_type": "code",
      "execution_count": null,
      "metadata": {
        "colab": {
          "base_uri": "https://localhost:8080/"
        },
        "id": "qTRjk4WRPskR",
        "outputId": "7f479cb3-08d2-4c11-aa0f-575a1fe7c8fb"
      },
      "outputs": [
        {
          "output_type": "stream",
          "name": "stdout",
          "text": [
            "[1 1 1 ... 1 1 1]\n"
          ]
        }
      ],
      "source": [
        "predictions = KNN.predict(valid_data_x_embedding)\n",
        "print(predictions)"
      ]
    },
    {
      "cell_type": "code",
      "execution_count": null,
      "metadata": {
        "colab": {
          "base_uri": "https://localhost:8080/"
        },
        "id": "dThIEb0gPuTh",
        "outputId": "a525e6e9-6a97-4f54-bb05-e1534a7668e4"
      },
      "outputs": [
        {
          "output_type": "stream",
          "name": "stdout",
          "text": [
            "0.5104\n"
          ]
        }
      ],
      "source": [
        "print( accuracy_score( valid_data_y , predictions ) )"
      ]
    },
    {
      "cell_type": "code",
      "execution_count": null,
      "metadata": {
        "colab": {
          "base_uri": "https://localhost:8080/"
        },
        "id": "aNb6zitoP7tc",
        "outputId": "b4a88732-ef2c-47a5-a69e-96df876bbc63"
      },
      "outputs": [
        {
          "output_type": "execute_result",
          "data": {
            "text/plain": [
              "KNeighborsClassifier(n_neighbors=20, weights='distance')"
            ]
          },
          "metadata": {},
          "execution_count": 56
        }
      ],
      "source": [
        "KNN = neighbors.KNeighborsClassifier(n_neighbors=20 , weights=\"distance\")\n",
        "KNN.fit(data_matrix_word_embedding, train_data_y)"
      ]
    },
    {
      "cell_type": "code",
      "execution_count": null,
      "metadata": {
        "colab": {
          "base_uri": "https://localhost:8080/"
        },
        "id": "D-04IcORSUPF",
        "outputId": "c79caf54-e2bf-44f3-820b-f6087b9e6052"
      },
      "outputs": [
        {
          "output_type": "stream",
          "name": "stdout",
          "text": [
            "[1 1 1 ... 1 1 1]\n"
          ]
        }
      ],
      "source": [
        "predictions = KNN.predict(valid_data_x_embedding)\n",
        "print(predictions)"
      ]
    },
    {
      "cell_type": "code",
      "execution_count": null,
      "metadata": {
        "colab": {
          "base_uri": "https://localhost:8080/"
        },
        "id": "CVuaqOcfSV3_",
        "outputId": "4e27dba3-253b-4e4a-97b7-02f382e600d5"
      },
      "outputs": [
        {
          "output_type": "stream",
          "name": "stdout",
          "text": [
            "0.5164\n"
          ]
        }
      ],
      "source": [
        "print( accuracy_score( valid_data_y , predictions ) )"
      ]
    },
    {
      "cell_type": "markdown",
      "metadata": {
        "id": "PaWe0LCLSZa6"
      },
      "source": [
        "------------------- KNN_27 ----------------"
      ]
    },
    {
      "cell_type": "code",
      "execution_count": null,
      "metadata": {
        "colab": {
          "base_uri": "https://localhost:8080/"
        },
        "id": "SCT8SQZZSch0",
        "outputId": "5b0d3359-2225-4ae4-824c-d009275343ca"
      },
      "outputs": [
        {
          "output_type": "execute_result",
          "data": {
            "text/plain": [
              "KNeighborsClassifier(n_neighbors=27)"
            ]
          },
          "metadata": {},
          "execution_count": 59
        }
      ],
      "source": [
        "KNN = neighbors.KNeighborsClassifier(n_neighbors=27 , weights=\"uniform\")\n",
        "KNN.fit(data_matrix_word_embedding, train_data_y)"
      ]
    },
    {
      "cell_type": "code",
      "execution_count": null,
      "metadata": {
        "colab": {
          "base_uri": "https://localhost:8080/"
        },
        "id": "VTtIgQ8NSj9Z",
        "outputId": "77e1fc73-dd33-486c-97ff-ecfb4c0c77ed"
      },
      "outputs": [
        {
          "output_type": "stream",
          "name": "stdout",
          "text": [
            "[1 1 1 ... 1 1 1]\n"
          ]
        }
      ],
      "source": [
        "predictions = KNN.predict(valid_data_x_embedding)\n",
        "print(predictions)"
      ]
    },
    {
      "cell_type": "code",
      "execution_count": null,
      "metadata": {
        "colab": {
          "base_uri": "https://localhost:8080/"
        },
        "id": "o6fpqSgxSl0Q",
        "outputId": "f56b85bf-14c0-4fd8-bfb6-3a94e3c357e9"
      },
      "outputs": [
        {
          "output_type": "stream",
          "name": "stdout",
          "text": [
            "0.5072\n"
          ]
        }
      ],
      "source": [
        "print( accuracy_score( valid_data_y , predictions ) )"
      ]
    },
    {
      "cell_type": "code",
      "execution_count": null,
      "metadata": {
        "colab": {
          "base_uri": "https://localhost:8080/"
        },
        "id": "sgNhfMfgSiDR",
        "outputId": "b5d2a31f-4981-4df5-aad9-3cf40796e93a"
      },
      "outputs": [
        {
          "output_type": "execute_result",
          "data": {
            "text/plain": [
              "KNeighborsClassifier(n_neighbors=27, weights='distance')"
            ]
          },
          "metadata": {},
          "execution_count": 62
        }
      ],
      "source": [
        "KNN = neighbors.KNeighborsClassifier(n_neighbors=27 , weights=\"distance\")\n",
        "KNN.fit(data_matrix_word_embedding, train_data_y)"
      ]
    },
    {
      "cell_type": "code",
      "execution_count": null,
      "metadata": {
        "colab": {
          "base_uri": "https://localhost:8080/"
        },
        "id": "OlRlcFt5SnZa",
        "outputId": "513ce170-16f5-45bd-9b67-1aa3964911ca"
      },
      "outputs": [
        {
          "output_type": "stream",
          "name": "stdout",
          "text": [
            "[1 1 1 ... 1 1 1]\n"
          ]
        }
      ],
      "source": [
        "predictions = KNN.predict(valid_data_x_embedding)\n",
        "print(predictions)"
      ]
    },
    {
      "cell_type": "code",
      "execution_count": null,
      "metadata": {
        "colab": {
          "base_uri": "https://localhost:8080/"
        },
        "id": "-zUaMZVDSphM",
        "outputId": "0b2ca109-66c2-4c44-f862-f180811f0e18"
      },
      "outputs": [
        {
          "output_type": "stream",
          "name": "stdout",
          "text": [
            "0.5116\n"
          ]
        }
      ],
      "source": [
        "print( accuracy_score( valid_data_y , predictions ) )"
      ]
    },
    {
      "cell_type": "markdown",
      "metadata": {
        "id": "5xLSsL8dStvp"
      },
      "source": [
        "-------------------- KNN_35 ---------------"
      ]
    },
    {
      "cell_type": "code",
      "execution_count": null,
      "metadata": {
        "colab": {
          "base_uri": "https://localhost:8080/"
        },
        "id": "dqINZYN1Swtq",
        "outputId": "3ee806dc-6b5c-4b6e-ad1c-a058de040e4e"
      },
      "outputs": [
        {
          "output_type": "execute_result",
          "data": {
            "text/plain": [
              "KNeighborsClassifier(n_neighbors=35)"
            ]
          },
          "metadata": {},
          "execution_count": 65
        }
      ],
      "source": [
        "KNN = neighbors.KNeighborsClassifier(n_neighbors=35 , weights=\"uniform\")\n",
        "KNN.fit(data_matrix_word_embedding, train_data_y)"
      ]
    },
    {
      "cell_type": "code",
      "execution_count": null,
      "metadata": {
        "colab": {
          "base_uri": "https://localhost:8080/"
        },
        "id": "QTEiykD-S00P",
        "outputId": "abf78da7-3a50-4b64-b04e-2b40c121ad2b"
      },
      "outputs": [
        {
          "output_type": "stream",
          "name": "stdout",
          "text": [
            "[1 1 1 ... 1 1 1]\n"
          ]
        }
      ],
      "source": [
        "predictions = KNN.predict(valid_data_x_embedding)\n",
        "print(predictions)"
      ]
    },
    {
      "cell_type": "code",
      "execution_count": null,
      "metadata": {
        "colab": {
          "base_uri": "https://localhost:8080/"
        },
        "id": "JsdRjmBAS1gT",
        "outputId": "d2ee093b-366f-4edf-9456-984b2b4a398a"
      },
      "outputs": [
        {
          "output_type": "stream",
          "name": "stdout",
          "text": [
            "0.5136\n"
          ]
        }
      ],
      "source": [
        "print( accuracy_score( valid_data_y , predictions ) )"
      ]
    },
    {
      "cell_type": "code",
      "execution_count": null,
      "metadata": {
        "colab": {
          "base_uri": "https://localhost:8080/"
        },
        "id": "zI4L9WzsS8_h",
        "outputId": "ac7ebf84-d6cf-4f35-c922-bc78932e021f"
      },
      "outputs": [
        {
          "output_type": "execute_result",
          "data": {
            "text/plain": [
              "KNeighborsClassifier(n_neighbors=35, weights='distance')"
            ]
          },
          "metadata": {},
          "execution_count": 68
        }
      ],
      "source": [
        "KNN = neighbors.KNeighborsClassifier(n_neighbors=35 , weights=\"distance\")\n",
        "KNN.fit(data_matrix_word_embedding, train_data_y)"
      ]
    },
    {
      "cell_type": "code",
      "execution_count": null,
      "metadata": {
        "colab": {
          "base_uri": "https://localhost:8080/"
        },
        "id": "o63UTwRkTAXx",
        "outputId": "e057d226-dfa4-4119-91f8-f3ad1edae49c"
      },
      "outputs": [
        {
          "output_type": "stream",
          "name": "stdout",
          "text": [
            "[1 1 1 ... 1 1 1]\n"
          ]
        }
      ],
      "source": [
        "predictions = KNN.predict(valid_data_x_embedding)\n",
        "print(predictions)"
      ]
    },
    {
      "cell_type": "code",
      "execution_count": null,
      "metadata": {
        "colab": {
          "base_uri": "https://localhost:8080/"
        },
        "id": "eMdNR0N6TBZZ",
        "outputId": "d3eb7c03-3422-4c76-9abc-cd4b50977d6d"
      },
      "outputs": [
        {
          "output_type": "stream",
          "name": "stdout",
          "text": [
            "0.5176\n"
          ]
        }
      ],
      "source": [
        "print( accuracy_score( valid_data_y , predictions ) )"
      ]
    },
    {
      "cell_type": "markdown",
      "metadata": {
        "id": "eaGYupTlTpRI"
      },
      "source": [
        "------------------- test data ---------------"
      ]
    },
    {
      "cell_type": "code",
      "execution_count": null,
      "metadata": {
        "colab": {
          "base_uri": "https://localhost:8080/"
        },
        "id": "F-fTQMNrTX4E",
        "outputId": "b725a13a-fb70-4cdb-e4e6-236160aaac4c"
      },
      "outputs": [
        {
          "data": {
            "text/plain": [
              "KNeighborsClassifier(weights='distance')"
            ]
          },
          "execution_count": 110,
          "metadata": {},
          "output_type": "execute_result"
        }
      ],
      "source": [
        "KNN = neighbors.KNeighborsClassifier(n_neighbors=11 , weights=\"distance\")\n",
        "KNN.fit(data_matrix_word_embedding, train_data_y)"
      ]
    },
    {
      "cell_type": "code",
      "execution_count": null,
      "metadata": {
        "colab": {
          "base_uri": "https://localhost:8080/"
        },
        "id": "yxK0wYW2Tt3f",
        "outputId": "ba3fb73a-008a-49aa-cd12-9379e8c38aca"
      },
      "outputs": [
        {
          "output_type": "stream",
          "name": "stdout",
          "text": [
            "[1 1 1 ... 0 1 1]\n"
          ]
        }
      ],
      "source": [
        "predictions = KNN.predict(test_data_x_embedding)\n",
        "print(predictions)"
      ]
    },
    {
      "cell_type": "code",
      "execution_count": null,
      "metadata": {
        "colab": {
          "base_uri": "https://localhost:8080/"
        },
        "id": "L2Bu0lq8Txnz",
        "outputId": "04382bcd-d24c-4f59-ea11-b174d9f2c145"
      },
      "outputs": [
        {
          "output_type": "stream",
          "name": "stdout",
          "text": [
            "0.51416\n"
          ]
        }
      ],
      "source": [
        "print( accuracy_score( test_data_y , predictions ) )"
      ]
    },
    {
      "cell_type": "code",
      "source": [
        "test_scores_embedding['KNN'] = accuracy_score( test_data_y , predictions )"
      ],
      "metadata": {
        "id": "EewM6P31i2LH"
      },
      "execution_count": null,
      "outputs": []
    },
    {
      "cell_type": "markdown",
      "metadata": {
        "id": "hmXBVCnYXrkB"
      },
      "source": [
        "**--------------------- Using Naive Bayes for Count vectorizer ----------------**"
      ]
    },
    {
      "cell_type": "markdown",
      "metadata": {
        "id": "Y19Ud9GqX-yX"
      },
      "source": [
        "----------------- Using BernoulliNB --------------"
      ]
    },
    {
      "cell_type": "code",
      "execution_count": null,
      "metadata": {
        "colab": {
          "base_uri": "https://localhost:8080/"
        },
        "id": "WfdcF5J1Vazv",
        "outputId": "4c7f57a6-069e-4847-b8a9-4b5ff7d9b478"
      },
      "outputs": [
        {
          "data": {
            "text/plain": [
              "BernoulliNB(binarize=True)"
            ]
          },
          "execution_count": 47,
          "metadata": {},
          "output_type": "execute_result"
        }
      ],
      "source": [
        "BernNB = BernoulliNB(binarize=True)\n",
        "BernNB.fit(data_matrix_cv , train_data_y)"
      ]
    },
    {
      "cell_type": "code",
      "execution_count": null,
      "metadata": {
        "id": "R-60yi1nYmUZ"
      },
      "outputs": [],
      "source": [
        "predictions = BernNB.predict(valid_data_x_cv)"
      ]
    },
    {
      "cell_type": "code",
      "execution_count": null,
      "metadata": {
        "colab": {
          "base_uri": "https://localhost:8080/"
        },
        "id": "7dDvPwucYxk9",
        "outputId": "124c4c54-3084-4b6a-87c1-9781535e9cc9"
      },
      "outputs": [
        {
          "name": "stdout",
          "output_type": "stream",
          "text": [
            "0.7468\n"
          ]
        }
      ],
      "source": [
        "print( accuracy_score( valid_data_y , predictions ) )"
      ]
    },
    {
      "cell_type": "code",
      "execution_count": null,
      "metadata": {
        "colab": {
          "base_uri": "https://localhost:8080/"
        },
        "id": "C64zAwctY2Hg",
        "outputId": "c95980f3-6a83-432a-b298-e111d80bbec6"
      },
      "outputs": [
        {
          "data": {
            "text/plain": [
              "BernoulliNB(binarize=0.1)"
            ]
          },
          "execution_count": 50,
          "metadata": {},
          "output_type": "execute_result"
        }
      ],
      "source": [
        "BernNB = BernoulliNB(binarize=.1)\n",
        "BernNB.fit(data_matrix_cv , train_data_y)"
      ]
    },
    {
      "cell_type": "code",
      "execution_count": null,
      "metadata": {
        "id": "q7GzMbVgY65l"
      },
      "outputs": [],
      "source": [
        "predictions = BernNB.predict(valid_data_x_cv)"
      ]
    },
    {
      "cell_type": "code",
      "execution_count": null,
      "metadata": {
        "colab": {
          "base_uri": "https://localhost:8080/"
        },
        "id": "rdheg4UxY8jO",
        "outputId": "83598d5c-d5e8-40b0-df65-b36df1fb272d"
      },
      "outputs": [
        {
          "name": "stdout",
          "output_type": "stream",
          "text": [
            "0.846\n"
          ]
        }
      ],
      "source": [
        "print( accuracy_score( valid_data_y , predictions ) )"
      ]
    },
    {
      "cell_type": "code",
      "execution_count": null,
      "metadata": {
        "colab": {
          "base_uri": "https://localhost:8080/"
        },
        "id": "v1ydKDelY-4B",
        "outputId": "c50dafb4-b63b-4aaa-a57d-079f9ba935e9"
      },
      "outputs": [
        {
          "data": {
            "text/plain": [
              "BernoulliNB(alpha=0.1, binarize=0.1)"
            ]
          },
          "execution_count": 53,
          "metadata": {},
          "output_type": "execute_result"
        }
      ],
      "source": [
        "BernNB = BernoulliNB( alpha=.1 ,binarize=.1)\n",
        "BernNB.fit(data_matrix_cv , train_data_y)"
      ]
    },
    {
      "cell_type": "code",
      "execution_count": null,
      "metadata": {
        "id": "St9j87X9ZMM8"
      },
      "outputs": [],
      "source": [
        "predictions = BernNB.predict(valid_data_x_cv)"
      ]
    },
    {
      "cell_type": "code",
      "execution_count": null,
      "metadata": {
        "colab": {
          "base_uri": "https://localhost:8080/"
        },
        "id": "dji_Jd41ZUi6",
        "outputId": "a1fa2ddc-580e-4b45-bfee-449fb27355e6"
      },
      "outputs": [
        {
          "name": "stdout",
          "output_type": "stream",
          "text": [
            "0.8456\n"
          ]
        }
      ],
      "source": [
        "print( accuracy_score( valid_data_y , predictions ) )"
      ]
    },
    {
      "cell_type": "markdown",
      "metadata": {
        "id": "ZY6CKU6OZl2A"
      },
      "source": [
        "------------------ Using MultinomialNB highest accuracy -----------------\n",
        "\n"
      ]
    },
    {
      "cell_type": "code",
      "execution_count": null,
      "metadata": {
        "colab": {
          "base_uri": "https://localhost:8080/"
        },
        "id": "GrYmDVj9ZWA9",
        "outputId": "c885ae58-8adb-4243-d48e-c9539bc321ca"
      },
      "outputs": [
        {
          "data": {
            "text/plain": [
              "MultinomialNB()"
            ]
          },
          "execution_count": 56,
          "metadata": {},
          "output_type": "execute_result"
        }
      ],
      "source": [
        "MultiNB = MultinomialNB()\n",
        "MultiNB.fit(data_matrix_cv , train_data_y)"
      ]
    },
    {
      "cell_type": "code",
      "execution_count": null,
      "metadata": {
        "id": "VQLFeUwnZ8pN"
      },
      "outputs": [],
      "source": [
        "predictions = MultiNB.predict(valid_data_x_cv)"
      ]
    },
    {
      "cell_type": "code",
      "execution_count": null,
      "metadata": {
        "colab": {
          "base_uri": "https://localhost:8080/"
        },
        "id": "3ToOxOftaDP0",
        "outputId": "7773976e-7bce-4cd5-d9d8-94bf89d577e3"
      },
      "outputs": [
        {
          "name": "stdout",
          "output_type": "stream",
          "text": [
            "0.8592\n"
          ]
        }
      ],
      "source": [
        "print( accuracy_score( valid_data_y , predictions ) )"
      ]
    },
    {
      "cell_type": "code",
      "execution_count": null,
      "metadata": {
        "id": "iETibyWphv9Q"
      },
      "outputs": [],
      "source": [
        "valid_scores_cv['NB'] = accuracy_score(valid_data_y,predictions)"
      ]
    },
    {
      "cell_type": "markdown",
      "metadata": {
        "id": "Ecl0P0-bbHrA"
      },
      "source": [
        "------------------ test data ----------------"
      ]
    },
    {
      "cell_type": "code",
      "execution_count": null,
      "metadata": {
        "id": "HHNXH3h8bM7l"
      },
      "outputs": [],
      "source": [
        "predictions = MultiNB.predict(test_data_x_cv)"
      ]
    },
    {
      "cell_type": "code",
      "execution_count": null,
      "metadata": {
        "colab": {
          "base_uri": "https://localhost:8080/"
        },
        "id": "A-oAiszobRFf",
        "outputId": "04101da3-edf1-474a-fd69-79b749a3553a"
      },
      "outputs": [
        {
          "name": "stdout",
          "output_type": "stream",
          "text": [
            "0.8166\n"
          ]
        }
      ],
      "source": [
        "print( accuracy_score( test_data_y , predictions ) )"
      ]
    },
    {
      "cell_type": "code",
      "execution_count": null,
      "metadata": {
        "id": "d56021w3h8xT"
      },
      "outputs": [],
      "source": [
        "test_scores_cv['NB'] = accuracy_score(test_data_y,predictions)"
      ]
    },
    {
      "cell_type": "markdown",
      "metadata": {
        "id": "zzSH1QsNcNM0"
      },
      "source": [
        "**--------------------- Using Naive Bayes for tf_idf vectorizer ----------------**"
      ]
    },
    {
      "cell_type": "markdown",
      "metadata": {
        "id": "bZJdXE5ufK-Q"
      },
      "source": [
        "----------------- Using BernoulliNB --------------"
      ]
    },
    {
      "cell_type": "code",
      "execution_count": null,
      "metadata": {
        "colab": {
          "base_uri": "https://localhost:8080/"
        },
        "id": "vflbUYzbbTbt",
        "outputId": "1b1fb322-4d87-4789-c37b-7111651abfa8"
      },
      "outputs": [
        {
          "data": {
            "text/plain": [
              "BernoulliNB(binarize=True)"
            ]
          },
          "execution_count": 51,
          "metadata": {},
          "output_type": "execute_result"
        }
      ],
      "source": [
        "BernNB = BernoulliNB(binarize=True)\n",
        "BernNB.fit(data_matrix_TFV , train_data_y)"
      ]
    },
    {
      "cell_type": "code",
      "execution_count": null,
      "metadata": {
        "id": "R9ZLLlbPeVHi"
      },
      "outputs": [],
      "source": [
        "predictions = BernNB.predict(valid_data_x_tfv)"
      ]
    },
    {
      "cell_type": "code",
      "execution_count": null,
      "metadata": {
        "colab": {
          "base_uri": "https://localhost:8080/"
        },
        "id": "JZ3YlVUGeaGM",
        "outputId": "7ca3ec32-10c3-4eb0-dcac-76af7964defd"
      },
      "outputs": [
        {
          "name": "stdout",
          "output_type": "stream",
          "text": [
            "0.5\n"
          ]
        }
      ],
      "source": [
        "print( accuracy_score( valid_data_y , predictions ) )"
      ]
    },
    {
      "cell_type": "code",
      "execution_count": null,
      "metadata": {
        "colab": {
          "base_uri": "https://localhost:8080/"
        },
        "id": "9h4jAK1medpX",
        "outputId": "b485e08a-80aa-4733-fc73-a3c3cb48c57f"
      },
      "outputs": [
        {
          "data": {
            "text/plain": [
              "BernoulliNB(binarize=0.1)"
            ]
          },
          "execution_count": 54,
          "metadata": {},
          "output_type": "execute_result"
        }
      ],
      "source": [
        "BernNB = BernoulliNB(binarize=.1)\n",
        "BernNB.fit(data_matrix_TFV , train_data_y)"
      ]
    },
    {
      "cell_type": "code",
      "execution_count": null,
      "metadata": {
        "id": "k9xx1T8wehnm"
      },
      "outputs": [],
      "source": [
        "predictions = BernNB.predict(valid_data_x_tfv)"
      ]
    },
    {
      "cell_type": "code",
      "execution_count": null,
      "metadata": {
        "colab": {
          "base_uri": "https://localhost:8080/"
        },
        "id": "fKH4wsFgekJu",
        "outputId": "2ca4b3cc-d7a7-4d31-bfe0-2bb86d718d81"
      },
      "outputs": [
        {
          "name": "stdout",
          "output_type": "stream",
          "text": [
            "0.8284\n"
          ]
        }
      ],
      "source": [
        "print( accuracy_score( valid_data_y , predictions ) )"
      ]
    },
    {
      "cell_type": "code",
      "execution_count": null,
      "metadata": {
        "colab": {
          "base_uri": "https://localhost:8080/"
        },
        "id": "MuNLeDAselsY",
        "outputId": "8bf09c31-fd8f-4cce-c004-e0d2a807903d"
      },
      "outputs": [
        {
          "data": {
            "text/plain": [
              "BernoulliNB(alpha=0.1)"
            ]
          },
          "execution_count": 57,
          "metadata": {},
          "output_type": "execute_result"
        }
      ],
      "source": [
        "BernNB = BernoulliNB(alpha=.1)\n",
        "BernNB.fit(data_matrix_TFV , train_data_y)"
      ]
    },
    {
      "cell_type": "code",
      "execution_count": null,
      "metadata": {
        "id": "ryOpIULjerCk"
      },
      "outputs": [],
      "source": [
        "predictions = BernNB.predict(valid_data_x_tfv)"
      ]
    },
    {
      "cell_type": "code",
      "execution_count": null,
      "metadata": {
        "colab": {
          "base_uri": "https://localhost:8080/"
        },
        "id": "n2RT81J1esYF",
        "outputId": "9e9659cf-5009-47b8-bc31-f73ed8bea7f8"
      },
      "outputs": [
        {
          "name": "stdout",
          "output_type": "stream",
          "text": [
            "0.8456\n"
          ]
        }
      ],
      "source": [
        "print( accuracy_score( valid_data_y , predictions ) )"
      ]
    },
    {
      "cell_type": "markdown",
      "metadata": {
        "id": "44c8L_qPfAeA"
      },
      "source": [
        "------------------ Using MultinomialNB highest accuracy -----------------\n"
      ]
    },
    {
      "cell_type": "code",
      "execution_count": null,
      "metadata": {
        "colab": {
          "base_uri": "https://localhost:8080/"
        },
        "id": "gV6XhoLGet59",
        "outputId": "396bc1f9-6b4f-415f-d7cc-80818551748c"
      },
      "outputs": [
        {
          "data": {
            "text/plain": [
              "MultinomialNB()"
            ]
          },
          "execution_count": 60,
          "metadata": {},
          "output_type": "execute_result"
        }
      ],
      "source": [
        "MultiNB = MultinomialNB()\n",
        "MultiNB.fit(data_matrix_TFV , train_data_y)"
      ]
    },
    {
      "cell_type": "code",
      "execution_count": null,
      "metadata": {
        "id": "SPRK-gwCfU96"
      },
      "outputs": [],
      "source": [
        "predictions = MultiNB.predict(valid_data_x_tfv)"
      ]
    },
    {
      "cell_type": "code",
      "execution_count": null,
      "metadata": {
        "colab": {
          "base_uri": "https://localhost:8080/"
        },
        "id": "5eYn1rWTfXwd",
        "outputId": "68e08970-240a-42b0-f896-26b2ce515449"
      },
      "outputs": [
        {
          "name": "stdout",
          "output_type": "stream",
          "text": [
            "0.8624\n"
          ]
        }
      ],
      "source": [
        "print( accuracy_score( valid_data_y , predictions ) )"
      ]
    },
    {
      "cell_type": "code",
      "execution_count": null,
      "metadata": {
        "id": "sXDJj6bdrEfM"
      },
      "outputs": [],
      "source": [
        "valid_scores_tfv['NB'] = accuracy_score( valid_data_y , predictions )"
      ]
    },
    {
      "cell_type": "markdown",
      "metadata": {
        "id": "g8Kgig0mfntq"
      },
      "source": [
        "------------- test data ----------------"
      ]
    },
    {
      "cell_type": "code",
      "execution_count": null,
      "metadata": {
        "id": "Am1KYMM5fsh5"
      },
      "outputs": [],
      "source": [
        "predictions = MultiNB.predict(test_data_x_tfv)"
      ]
    },
    {
      "cell_type": "code",
      "execution_count": null,
      "metadata": {
        "colab": {
          "base_uri": "https://localhost:8080/"
        },
        "id": "I97sv4O6fxFf",
        "outputId": "d0ac1f1a-e504-4a7e-9025-90517e01a818"
      },
      "outputs": [
        {
          "name": "stdout",
          "output_type": "stream",
          "text": [
            "0.8258\n"
          ]
        }
      ],
      "source": [
        "print( accuracy_score( test_data_y , predictions ) )"
      ]
    },
    {
      "cell_type": "code",
      "execution_count": null,
      "metadata": {
        "id": "4L4Y4d_YrOLx"
      },
      "outputs": [],
      "source": [
        "test_scores_tfv['NB'] = accuracy_score( test_data_y , predictions )"
      ]
    },
    {
      "cell_type": "markdown",
      "metadata": {
        "id": "IzsKACkif3pQ"
      },
      "source": [
        "**--------------------- Using Naive Bayes for embedding ----------------**"
      ]
    },
    {
      "cell_type": "markdown",
      "metadata": {
        "id": "3QimSg3Yf8zP"
      },
      "source": [
        "----------------- Using BernoulliNB --------------"
      ]
    },
    {
      "cell_type": "code",
      "execution_count": null,
      "metadata": {
        "colab": {
          "base_uri": "https://localhost:8080/"
        },
        "id": "tOByE0Iwf0HH",
        "outputId": "1e573f6f-9aa5-4b26-e9b7-d53be9f7135e"
      },
      "outputs": [
        {
          "output_type": "execute_result",
          "data": {
            "text/plain": [
              "BernoulliNB(binarize=True)"
            ]
          },
          "metadata": {},
          "execution_count": 88
        }
      ],
      "source": [
        "BernNB = BernoulliNB(binarize=True)\n",
        "BernNB.fit(data_matrix_word_embedding , train_data_y)"
      ]
    },
    {
      "cell_type": "code",
      "execution_count": null,
      "metadata": {
        "id": "wO6LnX7zgTex"
      },
      "outputs": [],
      "source": [
        "predictions = BernNB.predict(valid_data_x_embedding)"
      ]
    },
    {
      "cell_type": "code",
      "execution_count": null,
      "metadata": {
        "colab": {
          "base_uri": "https://localhost:8080/"
        },
        "id": "GeAMibSRgZyD",
        "outputId": "e3a597cb-6a65-4367-aa89-905d795e41a1"
      },
      "outputs": [
        {
          "output_type": "stream",
          "name": "stdout",
          "text": [
            "0.588\n"
          ]
        }
      ],
      "source": [
        "print( accuracy_score( valid_data_y , predictions ) )"
      ]
    },
    {
      "cell_type": "code",
      "source": [
        "valid_scores_embedding['NB'] = accuracy_score( valid_data_y , predictions )"
      ],
      "metadata": {
        "id": "xPQwRhcWk-4d"
      },
      "execution_count": null,
      "outputs": []
    },
    {
      "cell_type": "code",
      "execution_count": null,
      "metadata": {
        "colab": {
          "base_uri": "https://localhost:8080/"
        },
        "id": "oGiA4dKhgfh_",
        "outputId": "62af5537-b4e6-48e2-c063-1f09e59a5577"
      },
      "outputs": [
        {
          "output_type": "execute_result",
          "data": {
            "text/plain": [
              "BernoulliNB(binarize=0.1)"
            ]
          },
          "metadata": {},
          "execution_count": 82
        }
      ],
      "source": [
        "BernNB = BernoulliNB(binarize=.1)\n",
        "BernNB.fit(data_matrix_word_embedding , train_data_y)"
      ]
    },
    {
      "cell_type": "code",
      "execution_count": null,
      "metadata": {
        "id": "ZbX1_M5dgiaq"
      },
      "outputs": [],
      "source": [
        "predictions = BernNB.predict(valid_data_x_embedding)"
      ]
    },
    {
      "cell_type": "code",
      "execution_count": null,
      "metadata": {
        "colab": {
          "base_uri": "https://localhost:8080/"
        },
        "id": "9QkZWeC-gkY5",
        "outputId": "59826809-2d59-4d2b-c557-2cb49dd1a7d5"
      },
      "outputs": [
        {
          "output_type": "stream",
          "name": "stdout",
          "text": [
            "0.544\n"
          ]
        }
      ],
      "source": [
        "print( accuracy_score( valid_data_y , predictions ) )"
      ]
    },
    {
      "cell_type": "code",
      "execution_count": null,
      "metadata": {
        "colab": {
          "base_uri": "https://localhost:8080/"
        },
        "id": "_A3C5-7Mgl50",
        "outputId": "577cb8be-6aa6-4251-e65f-caa68de8e28c"
      },
      "outputs": [
        {
          "output_type": "execute_result",
          "data": {
            "text/plain": [
              "BernoulliNB(alpha=0.1)"
            ]
          },
          "metadata": {},
          "execution_count": 85
        }
      ],
      "source": [
        "BernNB = BernoulliNB(alpha=.1)\n",
        "BernNB.fit(data_matrix_word_embedding , train_data_y)"
      ]
    },
    {
      "cell_type": "code",
      "execution_count": null,
      "metadata": {
        "id": "5u5MTmDQgri_"
      },
      "outputs": [],
      "source": [
        "predictions = BernNB.predict(valid_data_x_embedding)"
      ]
    },
    {
      "cell_type": "code",
      "execution_count": null,
      "metadata": {
        "colab": {
          "base_uri": "https://localhost:8080/"
        },
        "id": "I9mON2R1gt11",
        "outputId": "d560958d-f2aa-4403-a6d1-26629c6c0d41"
      },
      "outputs": [
        {
          "output_type": "stream",
          "name": "stdout",
          "text": [
            "0.5416\n"
          ]
        }
      ],
      "source": [
        "print( accuracy_score( valid_data_y , predictions ) )"
      ]
    },
    {
      "cell_type": "markdown",
      "metadata": {
        "id": "IPEhAux2g0xo"
      },
      "source": [
        "------------------ test data -----------------\n"
      ]
    },
    {
      "cell_type": "code",
      "execution_count": null,
      "metadata": {
        "colab": {
          "base_uri": "https://localhost:8080/"
        },
        "id": "G64kf0Pzg6Bw",
        "outputId": "5436d861-7448-4ecf-9e0b-8544af7ed10d"
      },
      "outputs": [
        {
          "data": {
            "text/plain": [
              "BernoulliNB(binarize=True)"
            ]
          },
          "execution_count": 241,
          "metadata": {},
          "output_type": "execute_result"
        }
      ],
      "source": [
        "BernNB = BernoulliNB(binarize=True)\n",
        "BernNB.fit(data_matrix_word_embedding , train_data_y)"
      ]
    },
    {
      "cell_type": "code",
      "execution_count": null,
      "metadata": {
        "id": "Gpq5moiqhUx7"
      },
      "outputs": [],
      "source": [
        "predictions = BernNB.predict(test_data_x_embedding)"
      ]
    },
    {
      "cell_type": "code",
      "execution_count": null,
      "metadata": {
        "colab": {
          "base_uri": "https://localhost:8080/"
        },
        "id": "V9nqNsmXhZDa",
        "outputId": "0822dfbb-a1a4-4371-b2f6-210dbf91f09e"
      },
      "outputs": [
        {
          "output_type": "stream",
          "name": "stdout",
          "text": [
            "0.57992\n"
          ]
        }
      ],
      "source": [
        "print( accuracy_score( test_data_y , predictions ) )"
      ]
    },
    {
      "cell_type": "code",
      "source": [
        "test_scores_embedding['NB'] = accuracy_score( test_data_y , predictions )"
      ],
      "metadata": {
        "id": "GnmJagFylRnC"
      },
      "execution_count": null,
      "outputs": []
    },
    {
      "cell_type": "markdown",
      "metadata": {
        "id": "aRDZ5VJtkIXY"
      },
      "source": [
        "**-------------------- Using Random Forests for count vectorizer -----------------**"
      ]
    },
    {
      "cell_type": "code",
      "execution_count": null,
      "metadata": {
        "colab": {
          "base_uri": "https://localhost:8080/"
        },
        "id": "dyEoctJshb7C",
        "outputId": "21ba8e9b-ac0b-4fc5-acca-7f5ecc399097"
      },
      "outputs": [
        {
          "data": {
            "text/plain": [
              "RandomForestClassifier(n_estimators=10)"
            ]
          },
          "execution_count": 64,
          "metadata": {},
          "output_type": "execute_result"
        }
      ],
      "source": [
        "RandF = RandomForestClassifier(n_estimators=10)\n",
        "RandF.fit(data_matrix_cv , train_data_y)"
      ]
    },
    {
      "cell_type": "code",
      "execution_count": null,
      "metadata": {
        "id": "z6eW76R0knMJ"
      },
      "outputs": [],
      "source": [
        "predictions = RandF.predict(valid_data_x_cv) "
      ]
    },
    {
      "cell_type": "code",
      "execution_count": null,
      "metadata": {
        "colab": {
          "base_uri": "https://localhost:8080/"
        },
        "id": "Mboc_ihKlEQg",
        "outputId": "54c3368c-5a65-4919-bf36-410b3566eca8"
      },
      "outputs": [
        {
          "name": "stdout",
          "output_type": "stream",
          "text": [
            "0.7584\n"
          ]
        }
      ],
      "source": [
        "print( accuracy_score( valid_data_y , predictions ) )"
      ]
    },
    {
      "cell_type": "code",
      "execution_count": null,
      "metadata": {
        "colab": {
          "base_uri": "https://localhost:8080/"
        },
        "id": "dnBpDaUonOoJ",
        "outputId": "fa6ae041-c2ea-48a7-8c5c-9cffb389f7c0"
      },
      "outputs": [
        {
          "data": {
            "text/plain": [
              "RandomForestClassifier(n_estimators=50)"
            ]
          },
          "execution_count": 67,
          "metadata": {},
          "output_type": "execute_result"
        }
      ],
      "source": [
        "RandF = RandomForestClassifier(n_estimators=50)\n",
        "RandF.fit(data_matrix_cv , train_data_y)"
      ]
    },
    {
      "cell_type": "code",
      "execution_count": null,
      "metadata": {
        "id": "UWbfMyz_nTd4"
      },
      "outputs": [],
      "source": [
        "predictions = RandF.predict(valid_data_x_cv) "
      ]
    },
    {
      "cell_type": "code",
      "execution_count": null,
      "metadata": {
        "colab": {
          "base_uri": "https://localhost:8080/"
        },
        "id": "fYfuCheOnT5A",
        "outputId": "369ae070-91b9-4b22-bf92-fd2a60bd1270"
      },
      "outputs": [
        {
          "name": "stdout",
          "output_type": "stream",
          "text": [
            "0.8412\n"
          ]
        }
      ],
      "source": [
        "print( accuracy_score( valid_data_y , predictions ) )"
      ]
    },
    {
      "cell_type": "code",
      "execution_count": null,
      "metadata": {
        "colab": {
          "base_uri": "https://localhost:8080/"
        },
        "id": "e60YrisylJQt",
        "outputId": "621803a9-be26-48af-b9f1-1c648da37c8d"
      },
      "outputs": [
        {
          "data": {
            "text/plain": [
              "RandomForestClassifier(n_estimators=90)"
            ]
          },
          "execution_count": 70,
          "metadata": {},
          "output_type": "execute_result"
        }
      ],
      "source": [
        "RandF = RandomForestClassifier(n_estimators=90)\n",
        "RandF.fit(data_matrix_cv , train_data_y)"
      ]
    },
    {
      "cell_type": "code",
      "execution_count": null,
      "metadata": {
        "id": "23rGwpv8lSiy"
      },
      "outputs": [],
      "source": [
        "predictions = RandF.predict(valid_data_x_cv) "
      ]
    },
    {
      "cell_type": "code",
      "execution_count": null,
      "metadata": {
        "colab": {
          "base_uri": "https://localhost:8080/"
        },
        "id": "wifrYnQQlUvQ",
        "outputId": "19f0c4a2-482d-46aa-fbd2-cafa778ae1a4"
      },
      "outputs": [
        {
          "name": "stdout",
          "output_type": "stream",
          "text": [
            "0.85\n"
          ]
        }
      ],
      "source": [
        "print( accuracy_score( valid_data_y , predictions ) )"
      ]
    },
    {
      "cell_type": "code",
      "execution_count": null,
      "metadata": {
        "id": "lBVeKZuNjJXO"
      },
      "outputs": [],
      "source": [
        "valid_scores_cv['RF'] = accuracy_score(valid_data_y,predictions)"
      ]
    },
    {
      "cell_type": "markdown",
      "metadata": {
        "id": "IXdZTKyenm0o"
      },
      "source": [
        "--------------------- test data ---------------"
      ]
    },
    {
      "cell_type": "code",
      "execution_count": null,
      "metadata": {
        "id": "IK-cQR-Jns7V"
      },
      "outputs": [],
      "source": [
        "predictions = RandF.predict(test_data_x_cv) "
      ]
    },
    {
      "cell_type": "code",
      "execution_count": null,
      "metadata": {
        "colab": {
          "base_uri": "https://localhost:8080/"
        },
        "id": "o4lysZOtoVrm",
        "outputId": "4fe216db-094e-4b36-c6fb-7c38a6ef6a05"
      },
      "outputs": [
        {
          "name": "stdout",
          "output_type": "stream",
          "text": [
            "0.84504\n"
          ]
        }
      ],
      "source": [
        "print( accuracy_score( test_data_y , predictions ) )"
      ]
    },
    {
      "cell_type": "code",
      "execution_count": null,
      "metadata": {
        "id": "NTN1cvW9jRr0"
      },
      "outputs": [],
      "source": [
        "test_scores_cv['RF'] = accuracy_score(test_data_y,predictions)"
      ]
    },
    {
      "cell_type": "markdown",
      "metadata": {
        "id": "S32gUh3Mo8WY"
      },
      "source": [
        "**-------------------- Using Random Forests for tf_idf vectorizer -----------------**"
      ]
    },
    {
      "cell_type": "code",
      "execution_count": null,
      "metadata": {
        "colab": {
          "base_uri": "https://localhost:8080/"
        },
        "id": "tjm_SicKow51",
        "outputId": "125eb7cd-fcb5-4282-a98b-db4e39cce4f7"
      },
      "outputs": [
        {
          "data": {
            "text/plain": [
              "RandomForestClassifier(n_estimators=10)"
            ]
          },
          "execution_count": 67,
          "metadata": {},
          "output_type": "execute_result"
        }
      ],
      "source": [
        "RandF = RandomForestClassifier(n_estimators=10)\n",
        "RandF.fit(data_matrix_TFV , train_data_y)"
      ]
    },
    {
      "cell_type": "code",
      "execution_count": null,
      "metadata": {
        "id": "tGneEixepMq4"
      },
      "outputs": [],
      "source": [
        "predictions = RandF.predict(valid_data_x_tfv) "
      ]
    },
    {
      "cell_type": "code",
      "execution_count": null,
      "metadata": {
        "colab": {
          "base_uri": "https://localhost:8080/"
        },
        "id": "_mBbz9sQpQxd",
        "outputId": "5c535b49-ee0b-4266-a948-05b63a902cbd"
      },
      "outputs": [
        {
          "name": "stdout",
          "output_type": "stream",
          "text": [
            "0.7604\n"
          ]
        }
      ],
      "source": [
        "print( accuracy_score( valid_data_y , predictions ) )"
      ]
    },
    {
      "cell_type": "code",
      "execution_count": null,
      "metadata": {
        "colab": {
          "base_uri": "https://localhost:8080/"
        },
        "id": "a-5yequepdDe",
        "outputId": "720287ec-81de-4fcd-fab6-eb3be485186b"
      },
      "outputs": [
        {
          "data": {
            "text/plain": [
              "RandomForestClassifier(n_estimators=30)"
            ]
          },
          "execution_count": 70,
          "metadata": {},
          "output_type": "execute_result"
        }
      ],
      "source": [
        "RandF = RandomForestClassifier(n_estimators=30)\n",
        "RandF.fit(data_matrix_TFV , train_data_y)"
      ]
    },
    {
      "cell_type": "code",
      "execution_count": null,
      "metadata": {
        "id": "tT2XUqpgpgZ4"
      },
      "outputs": [],
      "source": [
        "predictions = RandF.predict(valid_data_x_tfv) "
      ]
    },
    {
      "cell_type": "code",
      "execution_count": null,
      "metadata": {
        "colab": {
          "base_uri": "https://localhost:8080/"
        },
        "id": "lHZxX8copzQC",
        "outputId": "8912b74b-6130-4f0f-b27e-630ae2f39ce7"
      },
      "outputs": [
        {
          "name": "stdout",
          "output_type": "stream",
          "text": [
            "0.8216\n"
          ]
        }
      ],
      "source": [
        "print( accuracy_score( valid_data_y , predictions ) )"
      ]
    },
    {
      "cell_type": "code",
      "execution_count": null,
      "metadata": {
        "colab": {
          "base_uri": "https://localhost:8080/"
        },
        "id": "_Wz4P26Yq87K",
        "outputId": "d4393682-7a26-4904-fb0d-4cb640962ed3"
      },
      "outputs": [
        {
          "data": {
            "text/plain": [
              "RandomForestClassifier(n_estimators=60)"
            ]
          },
          "execution_count": 79,
          "metadata": {},
          "output_type": "execute_result"
        }
      ],
      "source": [
        "RandF = RandomForestClassifier(n_estimators=60)\n",
        "RandF.fit(data_matrix_TFV , train_data_y)"
      ]
    },
    {
      "cell_type": "code",
      "execution_count": null,
      "metadata": {
        "id": "DC2RKkLfq9_I"
      },
      "outputs": [],
      "source": [
        "predictions = RandF.predict(valid_data_x_tfv) "
      ]
    },
    {
      "cell_type": "code",
      "execution_count": null,
      "metadata": {
        "colab": {
          "base_uri": "https://localhost:8080/"
        },
        "id": "l7kbW92Hq_Nk",
        "outputId": "90b7a4aa-6ec5-4557-d9ea-17c9d59dc083"
      },
      "outputs": [
        {
          "name": "stdout",
          "output_type": "stream",
          "text": [
            "0.8296\n"
          ]
        }
      ],
      "source": [
        "print( accuracy_score( valid_data_y , predictions ) )"
      ]
    },
    {
      "cell_type": "code",
      "execution_count": null,
      "metadata": {
        "colab": {
          "base_uri": "https://localhost:8080/"
        },
        "id": "ay5Y7iMop0TV",
        "outputId": "4498f8f4-10bc-4d99-e6e3-546c3dcf5f53"
      },
      "outputs": [
        {
          "data": {
            "text/plain": [
              "RandomForestClassifier(n_estimators=80)"
            ]
          },
          "execution_count": 82,
          "metadata": {},
          "output_type": "execute_result"
        }
      ],
      "source": [
        "RandF = RandomForestClassifier(n_estimators=80)\n",
        "RandF.fit(data_matrix_TFV , train_data_y)"
      ]
    },
    {
      "cell_type": "code",
      "execution_count": null,
      "metadata": {
        "id": "_G4uQxTLp4qi"
      },
      "outputs": [],
      "source": [
        "predictions = RandF.predict(valid_data_x_tfv) "
      ]
    },
    {
      "cell_type": "code",
      "execution_count": null,
      "metadata": {
        "colab": {
          "base_uri": "https://localhost:8080/"
        },
        "id": "iefcBugOp6HI",
        "outputId": "5d9a0f66-f17c-4cfb-9535-fdd9514fb81e"
      },
      "outputs": [
        {
          "name": "stdout",
          "output_type": "stream",
          "text": [
            "0.852\n"
          ]
        }
      ],
      "source": [
        "print( accuracy_score( valid_data_y , predictions ) )"
      ]
    },
    {
      "cell_type": "code",
      "execution_count": null,
      "metadata": {
        "id": "LeHprSxItsW-"
      },
      "outputs": [],
      "source": [
        "valid_scores_tfv['RF'] = accuracy_score( valid_data_y , predictions )"
      ]
    },
    {
      "cell_type": "markdown",
      "metadata": {
        "id": "mfG10FxArBEb"
      },
      "source": [
        "-------------------- test data -----------------"
      ]
    },
    {
      "cell_type": "code",
      "execution_count": null,
      "metadata": {
        "id": "ZKC0a6lfrFXQ"
      },
      "outputs": [],
      "source": [
        "predictions = RandF.predict(test_data_x_tfv) "
      ]
    },
    {
      "cell_type": "code",
      "execution_count": null,
      "metadata": {
        "colab": {
          "base_uri": "https://localhost:8080/"
        },
        "id": "y0X22X_mrHUb",
        "outputId": "22f0f3b4-ac69-4ab5-8d57-be6b50263e76"
      },
      "outputs": [
        {
          "name": "stdout",
          "output_type": "stream",
          "text": [
            "0.83744\n"
          ]
        }
      ],
      "source": [
        "print( accuracy_score( test_data_y , predictions ) )"
      ]
    },
    {
      "cell_type": "code",
      "execution_count": null,
      "metadata": {
        "id": "20Rt_UpCt45l"
      },
      "outputs": [],
      "source": [
        "test_scores_tfv['RF'] = accuracy_score( test_data_y , predictions )"
      ]
    },
    {
      "cell_type": "markdown",
      "metadata": {
        "id": "ALdQ4WbLsBT4"
      },
      "source": [
        "**-------------------- Using Random Forests for embedding -----------------**"
      ]
    },
    {
      "cell_type": "code",
      "execution_count": null,
      "metadata": {
        "colab": {
          "base_uri": "https://localhost:8080/"
        },
        "id": "YFD47p-dsGPu",
        "outputId": "e244feae-57a4-4113-e564-9d48ed757893"
      },
      "outputs": [
        {
          "output_type": "execute_result",
          "data": {
            "text/plain": [
              "RandomForestClassifier(n_estimators=10)"
            ]
          },
          "metadata": {},
          "execution_count": 95
        }
      ],
      "source": [
        "RandF = RandomForestClassifier(n_estimators=10)\n",
        "RandF.fit(data_matrix_word_embedding , train_data_y)"
      ]
    },
    {
      "cell_type": "code",
      "execution_count": null,
      "metadata": {
        "id": "3wNpdhecsOvj"
      },
      "outputs": [],
      "source": [
        "predictions = RandF.predict(valid_data_x_embedding) "
      ]
    },
    {
      "cell_type": "code",
      "execution_count": null,
      "metadata": {
        "colab": {
          "base_uri": "https://localhost:8080/"
        },
        "id": "WkG-yBlYsTmX",
        "outputId": "d6570b8e-53bf-4cd8-c29c-13cf643b08c7"
      },
      "outputs": [
        {
          "output_type": "stream",
          "name": "stdout",
          "text": [
            "0.5368\n"
          ]
        }
      ],
      "source": [
        "print( accuracy_score( valid_data_y , predictions ) )"
      ]
    },
    {
      "cell_type": "code",
      "execution_count": null,
      "metadata": {
        "colab": {
          "base_uri": "https://localhost:8080/"
        },
        "id": "VC5nLYfjsb5Q",
        "outputId": "8ad179aa-7b84-4fd4-d866-776b3e4dcd40"
      },
      "outputs": [
        {
          "output_type": "execute_result",
          "data": {
            "text/plain": [
              "RandomForestClassifier(n_estimators=30)"
            ]
          },
          "metadata": {},
          "execution_count": 98
        }
      ],
      "source": [
        "RandF = RandomForestClassifier(n_estimators=30)\n",
        "RandF.fit(data_matrix_word_embedding , train_data_y)"
      ]
    },
    {
      "cell_type": "code",
      "execution_count": null,
      "metadata": {
        "id": "Q7XvFAPXsh_y"
      },
      "outputs": [],
      "source": [
        "predictions = RandF.predict(valid_data_x_embedding) "
      ]
    },
    {
      "cell_type": "code",
      "execution_count": null,
      "metadata": {
        "colab": {
          "base_uri": "https://localhost:8080/"
        },
        "id": "GsbjPaVvsjjf",
        "outputId": "052146bd-0f14-4100-bed0-e53e1f0b6ed4"
      },
      "outputs": [
        {
          "output_type": "stream",
          "name": "stdout",
          "text": [
            "0.5536\n"
          ]
        }
      ],
      "source": [
        "print( accuracy_score( valid_data_y , predictions ) )"
      ]
    },
    {
      "cell_type": "code",
      "execution_count": null,
      "metadata": {
        "colab": {
          "base_uri": "https://localhost:8080/"
        },
        "id": "3AdcRpxEs1ZH",
        "outputId": "f61c7180-de63-4aab-b590-158bec4eef29"
      },
      "outputs": [
        {
          "output_type": "execute_result",
          "data": {
            "text/plain": [
              "RandomForestClassifier(n_estimators=80)"
            ]
          },
          "metadata": {},
          "execution_count": 101
        }
      ],
      "source": [
        "RandF = RandomForestClassifier(n_estimators=80)\n",
        "RandF.fit(data_matrix_word_embedding , train_data_y)"
      ]
    },
    {
      "cell_type": "code",
      "execution_count": null,
      "metadata": {
        "id": "lYiZJjVus4eH"
      },
      "outputs": [],
      "source": [
        "predictions = RandF.predict(valid_data_x_embedding) "
      ]
    },
    {
      "cell_type": "code",
      "execution_count": null,
      "metadata": {
        "colab": {
          "base_uri": "https://localhost:8080/"
        },
        "id": "PS0dGXJSs53R",
        "outputId": "64419845-8228-43f4-e469-307049850bfe"
      },
      "outputs": [
        {
          "output_type": "stream",
          "name": "stdout",
          "text": [
            "0.5884\n"
          ]
        }
      ],
      "source": [
        "print( accuracy_score( valid_data_y , predictions ) )"
      ]
    },
    {
      "cell_type": "code",
      "source": [
        "valid_scores_embedding['RF'] = accuracy_score( valid_data_y , predictions )"
      ],
      "metadata": {
        "id": "RW6zN9oSmkBj"
      },
      "execution_count": null,
      "outputs": []
    },
    {
      "cell_type": "markdown",
      "metadata": {
        "id": "8eD0DkJfusp_"
      },
      "source": [
        "--------------------- test data -------------------"
      ]
    },
    {
      "cell_type": "code",
      "execution_count": null,
      "metadata": {
        "colab": {
          "base_uri": "https://localhost:8080/"
        },
        "id": "W_JlK_kXtWme",
        "outputId": "db523c66-5983-492e-92e6-2c298bb714de"
      },
      "outputs": [
        {
          "data": {
            "text/plain": [
              "RandomForestClassifier(n_estimators=80)"
            ]
          },
          "execution_count": 337,
          "metadata": {},
          "output_type": "execute_result"
        }
      ],
      "source": [
        "RandF = RandomForestClassifier(n_estimators=80)\n",
        "RandF.fit(data_matrix_word_embedding , train_data_y)"
      ]
    },
    {
      "cell_type": "code",
      "execution_count": null,
      "metadata": {
        "id": "JlydSH9luv0N"
      },
      "outputs": [],
      "source": [
        "predictions = RandF.predict(test_data_x_embedding) "
      ]
    },
    {
      "cell_type": "code",
      "execution_count": null,
      "metadata": {
        "colab": {
          "base_uri": "https://localhost:8080/"
        },
        "id": "O2E4STYBuxOY",
        "outputId": "8d4b4640-a3ca-4cca-f3a2-197f43decce6"
      },
      "outputs": [
        {
          "output_type": "stream",
          "name": "stdout",
          "text": [
            "0.58912\n"
          ]
        }
      ],
      "source": [
        "print( accuracy_score( test_data_y , predictions ) )"
      ]
    },
    {
      "cell_type": "code",
      "source": [
        "test_scores_embedding['RF'] = accuracy_score( test_data_y , predictions )"
      ],
      "metadata": {
        "id": "3e7380mcmt-o"
      },
      "execution_count": null,
      "outputs": []
    },
    {
      "cell_type": "markdown",
      "metadata": {
        "id": "EGjaxj0f8iL_"
      },
      "source": [
        "**------------------------- Using Adaboost for count vectorizer --------------------------**\n"
      ]
    },
    {
      "cell_type": "code",
      "execution_count": null,
      "metadata": {
        "colab": {
          "base_uri": "https://localhost:8080/"
        },
        "id": "bT-_Dg3bviur",
        "outputId": "bd6b5e32-fac6-42c7-a5ce-05de8122933d"
      },
      "outputs": [
        {
          "data": {
            "text/plain": [
              "AdaBoostClassifier(n_estimators=10)"
            ]
          },
          "execution_count": 77,
          "metadata": {},
          "output_type": "execute_result"
        }
      ],
      "source": [
        "adaboost = AdaBoostClassifier(n_estimators=10)\n",
        "adaboost.fit(data_matrix_cv , train_data_y)"
      ]
    },
    {
      "cell_type": "code",
      "execution_count": null,
      "metadata": {
        "id": "Pbm36AzB9KVS"
      },
      "outputs": [],
      "source": [
        "predictions = adaboost.predict(valid_data_x_cv)"
      ]
    },
    {
      "cell_type": "code",
      "execution_count": null,
      "metadata": {
        "colab": {
          "base_uri": "https://localhost:8080/"
        },
        "id": "OObN6C1d9SIT",
        "outputId": "e052179d-ca92-4cb4-8951-2afd4974c92f"
      },
      "outputs": [
        {
          "name": "stdout",
          "output_type": "stream",
          "text": [
            "0.7208\n"
          ]
        }
      ],
      "source": [
        "print(accuracy_score( valid_data_y , predictions))"
      ]
    },
    {
      "cell_type": "code",
      "execution_count": null,
      "metadata": {
        "colab": {
          "base_uri": "https://localhost:8080/"
        },
        "id": "PdgobVZMBbPg",
        "outputId": "49aa7b50-b052-424f-9821-90608467e2ec"
      },
      "outputs": [
        {
          "data": {
            "text/plain": [
              "AdaBoostClassifier(base_estimator=DecisionTreeClassifier(max_depth=3),\n",
              "                   n_estimators=10)"
            ]
          },
          "execution_count": 80,
          "metadata": {},
          "output_type": "execute_result"
        }
      ],
      "source": [
        "adaboost = AdaBoostClassifier(  DecisionTreeClassifier(max_depth=3) ,n_estimators=10)\n",
        "adaboost.fit(data_matrix_cv , train_data_y)"
      ]
    },
    {
      "cell_type": "code",
      "execution_count": null,
      "metadata": {
        "id": "_TEvvZgABjxj"
      },
      "outputs": [],
      "source": [
        "predictions = adaboost.predict(valid_data_x_cv)"
      ]
    },
    {
      "cell_type": "code",
      "execution_count": null,
      "metadata": {
        "colab": {
          "base_uri": "https://localhost:8080/"
        },
        "id": "D_5M5z3VBstW",
        "outputId": "ba0c38f1-a89a-488e-a35e-82dd7f170f65"
      },
      "outputs": [
        {
          "name": "stdout",
          "output_type": "stream",
          "text": [
            "0.7792\n"
          ]
        }
      ],
      "source": [
        "print(accuracy_score( valid_data_y , predictions))"
      ]
    },
    {
      "cell_type": "code",
      "execution_count": null,
      "metadata": {
        "colab": {
          "base_uri": "https://localhost:8080/"
        },
        "id": "dEPbQxV2B56W",
        "outputId": "4229c49b-f446-405b-dae6-66d67f7e6cdf"
      },
      "outputs": [
        {
          "data": {
            "text/plain": [
              "AdaBoostClassifier(base_estimator=DecisionTreeClassifier(max_depth=7),\n",
              "                   n_estimators=10)"
            ]
          },
          "execution_count": 83,
          "metadata": {},
          "output_type": "execute_result"
        }
      ],
      "source": [
        "adaboost = AdaBoostClassifier(  DecisionTreeClassifier(max_depth=7) ,n_estimators=10)\n",
        "adaboost.fit(data_matrix_cv , train_data_y)"
      ]
    },
    {
      "cell_type": "code",
      "execution_count": null,
      "metadata": {
        "id": "xCT1MEMtB8gu"
      },
      "outputs": [],
      "source": [
        "predictions = adaboost.predict(valid_data_x_cv)"
      ]
    },
    {
      "cell_type": "code",
      "execution_count": null,
      "metadata": {
        "colab": {
          "base_uri": "https://localhost:8080/"
        },
        "id": "ws9JrT1zB9nO",
        "outputId": "964fcac8-2b7e-4e05-ec7a-64a1d8715662"
      },
      "outputs": [
        {
          "name": "stdout",
          "output_type": "stream",
          "text": [
            "0.7856\n"
          ]
        }
      ],
      "source": [
        "print(accuracy_score( valid_data_y , predictions))"
      ]
    },
    {
      "cell_type": "code",
      "execution_count": null,
      "metadata": {
        "colab": {
          "base_uri": "https://localhost:8080/"
        },
        "id": "aM40J0wg_H8u",
        "outputId": "a5da75bd-f08e-48c0-a8e0-263307fab16d"
      },
      "outputs": [
        {
          "data": {
            "text/plain": [
              "AdaBoostClassifier(n_estimators=100)"
            ]
          },
          "execution_count": 86,
          "metadata": {},
          "output_type": "execute_result"
        }
      ],
      "source": [
        "adaboost = AdaBoostClassifier(n_estimators=100)\n",
        "adaboost.fit(data_matrix_cv , train_data_y)"
      ]
    },
    {
      "cell_type": "code",
      "execution_count": null,
      "metadata": {
        "id": "zM_cl6qq_JtW"
      },
      "outputs": [],
      "source": [
        "predictions = adaboost.predict(valid_data_x_cv)"
      ]
    },
    {
      "cell_type": "code",
      "execution_count": null,
      "metadata": {
        "colab": {
          "base_uri": "https://localhost:8080/"
        },
        "id": "XX3ai1jS_LD-",
        "outputId": "ad657166-892d-4dd0-f166-a1ba8e07d5cf"
      },
      "outputs": [
        {
          "name": "stdout",
          "output_type": "stream",
          "text": [
            "0.83\n"
          ]
        }
      ],
      "source": [
        "print(accuracy_score( valid_data_y , predictions))"
      ]
    },
    {
      "cell_type": "code",
      "execution_count": null,
      "metadata": {
        "colab": {
          "base_uri": "https://localhost:8080/"
        },
        "id": "0j_OWcreCF0e",
        "outputId": "9131ecfc-448d-47f3-b5a1-8f246cad782e"
      },
      "outputs": [
        {
          "data": {
            "text/plain": [
              "AdaBoostClassifier(base_estimator=DecisionTreeClassifier(max_depth=2),\n",
              "                   n_estimators=100)"
            ]
          },
          "execution_count": 89,
          "metadata": {},
          "output_type": "execute_result"
        }
      ],
      "source": [
        "adaboost = AdaBoostClassifier( DecisionTreeClassifier(max_depth=2) ,n_estimators=100)\n",
        "adaboost.fit(data_matrix_cv , train_data_y)"
      ]
    },
    {
      "cell_type": "code",
      "execution_count": null,
      "metadata": {
        "id": "HHUn1ttaCLHl"
      },
      "outputs": [],
      "source": [
        "predictions = adaboost.predict(valid_data_x_cv)"
      ]
    },
    {
      "cell_type": "code",
      "execution_count": null,
      "metadata": {
        "colab": {
          "base_uri": "https://localhost:8080/"
        },
        "id": "tiN48yWrCMyV",
        "outputId": "8f5bb546-f45e-429f-ef30-bc4f3ddd41a4"
      },
      "outputs": [
        {
          "name": "stdout",
          "output_type": "stream",
          "text": [
            "0.8476\n"
          ]
        }
      ],
      "source": [
        "print(accuracy_score( valid_data_y , predictions))"
      ]
    },
    {
      "cell_type": "code",
      "execution_count": null,
      "metadata": {
        "colab": {
          "base_uri": "https://localhost:8080/"
        },
        "id": "rhP-x_kO_CP_",
        "outputId": "93a86a32-c7ba-49ea-a82d-92463826e8e8"
      },
      "outputs": [
        {
          "data": {
            "text/plain": [
              "AdaBoostClassifier(n_estimators=200)"
            ]
          },
          "execution_count": 92,
          "metadata": {},
          "output_type": "execute_result"
        }
      ],
      "source": [
        "adaboost = AdaBoostClassifier(n_estimators=200)\n",
        "adaboost.fit(data_matrix_cv , train_data_y)"
      ]
    },
    {
      "cell_type": "code",
      "execution_count": null,
      "metadata": {
        "id": "yp9mctJi_Frl"
      },
      "outputs": [],
      "source": [
        "predictions = adaboost.predict(valid_data_x_cv)"
      ]
    },
    {
      "cell_type": "code",
      "execution_count": null,
      "metadata": {
        "colab": {
          "base_uri": "https://localhost:8080/"
        },
        "id": "mA97u0HO_GH9",
        "outputId": "78612f18-88e5-420f-8f18-c6b2420ee765"
      },
      "outputs": [
        {
          "name": "stdout",
          "output_type": "stream",
          "text": [
            "0.842\n"
          ]
        }
      ],
      "source": [
        "print(accuracy_score( valid_data_y , predictions))"
      ]
    },
    {
      "cell_type": "code",
      "execution_count": null,
      "metadata": {
        "colab": {
          "base_uri": "https://localhost:8080/"
        },
        "id": "3E4xcwMpEp_t",
        "outputId": "b60d43e4-6f21-4802-fee1-8fd7fd8ce9e2"
      },
      "outputs": [
        {
          "data": {
            "text/plain": [
              "AdaBoostClassifier(base_estimator=DecisionTreeClassifier(max_depth=2),\n",
              "                   n_estimators=200)"
            ]
          },
          "execution_count": 95,
          "metadata": {},
          "output_type": "execute_result"
        }
      ],
      "source": [
        "adaboost = AdaBoostClassifier(DecisionTreeClassifier(max_depth=2) , n_estimators=200)\n",
        "adaboost.fit(data_matrix_cv , train_data_y)"
      ]
    },
    {
      "cell_type": "code",
      "execution_count": null,
      "metadata": {
        "id": "RXIC9uidErBA"
      },
      "outputs": [],
      "source": [
        "predictions = adaboost.predict(valid_data_x_cv)"
      ]
    },
    {
      "cell_type": "code",
      "execution_count": null,
      "metadata": {
        "colab": {
          "base_uri": "https://localhost:8080/"
        },
        "id": "to5xAmPoEtJN",
        "outputId": "34654d95-eff0-4651-a035-d28ab9b662e5"
      },
      "outputs": [
        {
          "name": "stdout",
          "output_type": "stream",
          "text": [
            "0.8468\n"
          ]
        }
      ],
      "source": [
        "print(accuracy_score( valid_data_y , predictions))"
      ]
    },
    {
      "cell_type": "code",
      "execution_count": null,
      "metadata": {
        "colab": {
          "base_uri": "https://localhost:8080/"
        },
        "id": "LcyfyfAaFBJO",
        "outputId": "7fbd32df-78f9-4825-b631-74962b378b48"
      },
      "outputs": [
        {
          "data": {
            "text/plain": [
              "AdaBoostClassifier(base_estimator=DecisionTreeClassifier(max_depth=5),\n",
              "                   n_estimators=200)"
            ]
          },
          "execution_count": 98,
          "metadata": {},
          "output_type": "execute_result"
        }
      ],
      "source": [
        "adaboost = AdaBoostClassifier(DecisionTreeClassifier(max_depth=5) , n_estimators=200)\n",
        "adaboost.fit(data_matrix_cv , train_data_y)"
      ]
    },
    {
      "cell_type": "code",
      "execution_count": null,
      "metadata": {
        "id": "XrzRv_8OFEK8"
      },
      "outputs": [],
      "source": [
        "predictions = adaboost.predict(valid_data_x_cv)"
      ]
    },
    {
      "cell_type": "code",
      "execution_count": null,
      "metadata": {
        "colab": {
          "base_uri": "https://localhost:8080/"
        },
        "id": "6n-Kci0eFHNu",
        "outputId": "cdb86293-81c9-4304-83fe-a4cba7fa3cef"
      },
      "outputs": [
        {
          "name": "stdout",
          "output_type": "stream",
          "text": [
            "0.7748\n"
          ]
        }
      ],
      "source": [
        "print(accuracy_score( valid_data_y , predictions))"
      ]
    },
    {
      "cell_type": "code",
      "execution_count": null,
      "metadata": {
        "colab": {
          "base_uri": "https://localhost:8080/"
        },
        "id": "BkkBgbQM9lYh",
        "outputId": "ae27a38b-86b8-42e9-febf-2cf38c793ad0"
      },
      "outputs": [
        {
          "data": {
            "text/plain": [
              "AdaBoostClassifier(n_estimators=300)"
            ]
          },
          "execution_count": 101,
          "metadata": {},
          "output_type": "execute_result"
        }
      ],
      "source": [
        "adaboost = AdaBoostClassifier(n_estimators=300)\n",
        "adaboost.fit(data_matrix_cv , train_data_y)"
      ]
    },
    {
      "cell_type": "code",
      "execution_count": null,
      "metadata": {
        "id": "jSiBBoY1_kT_"
      },
      "outputs": [],
      "source": [
        "predictions = adaboost.predict(valid_data_x_cv)"
      ]
    },
    {
      "cell_type": "code",
      "execution_count": null,
      "metadata": {
        "colab": {
          "base_uri": "https://localhost:8080/"
        },
        "id": "uwHgmpfI_ll0",
        "outputId": "f6543c68-d36b-4e90-ca6d-376220ffb3db"
      },
      "outputs": [
        {
          "name": "stdout",
          "output_type": "stream",
          "text": [
            "0.8492\n"
          ]
        }
      ],
      "source": [
        "print(accuracy_score( valid_data_y , predictions))"
      ]
    },
    {
      "cell_type": "code",
      "execution_count": null,
      "metadata": {
        "id": "nQd9JA_InDq8"
      },
      "outputs": [],
      "source": [
        "valid_scores_cv['adaboost'] = accuracy_score( valid_data_y , predictions)"
      ]
    },
    {
      "cell_type": "code",
      "execution_count": null,
      "metadata": {
        "colab": {
          "base_uri": "https://localhost:8080/"
        },
        "id": "koyJM3k-FyUE",
        "outputId": "db96de25-e6ee-4efb-951a-f9e120fde65a"
      },
      "outputs": [
        {
          "data": {
            "text/plain": [
              "AdaBoostClassifier(base_estimator=DecisionTreeClassifier(max_depth=2),\n",
              "                   n_estimators=300)"
            ]
          },
          "execution_count": 104,
          "metadata": {},
          "output_type": "execute_result"
        }
      ],
      "source": [
        "adaboost = AdaBoostClassifier(DecisionTreeClassifier(max_depth=2) ,n_estimators=300)\n",
        "adaboost.fit(data_matrix_cv , train_data_y)"
      ]
    },
    {
      "cell_type": "code",
      "execution_count": null,
      "metadata": {
        "id": "ntX2pY4BAR4W"
      },
      "outputs": [],
      "source": [
        "predictions = adaboost.predict(valid_data_x_cv)"
      ]
    },
    {
      "cell_type": "code",
      "execution_count": null,
      "metadata": {
        "colab": {
          "base_uri": "https://localhost:8080/"
        },
        "id": "CBMvG3nwF6Vt",
        "outputId": "1004232c-ff33-4d35-b74f-9184d21d22a2"
      },
      "outputs": [
        {
          "name": "stdout",
          "output_type": "stream",
          "text": [
            "0.8448\n"
          ]
        }
      ],
      "source": [
        "print(accuracy_score( valid_data_y , predictions))"
      ]
    },
    {
      "cell_type": "markdown",
      "metadata": {
        "id": "D38v-ZuyGW5q"
      },
      "source": [
        "---------------------------------------------------- test data -----------------------------------------------------------------"
      ]
    },
    {
      "cell_type": "code",
      "execution_count": null,
      "metadata": {
        "colab": {
          "base_uri": "https://localhost:8080/"
        },
        "id": "vPj3o3GXGSLg",
        "outputId": "a34bcb3d-58fc-4cb9-edd6-063125ffa7b3"
      },
      "outputs": [
        {
          "data": {
            "text/plain": [
              "AdaBoostClassifier(n_estimators=300)"
            ]
          },
          "execution_count": 107,
          "metadata": {},
          "output_type": "execute_result"
        }
      ],
      "source": [
        "adaboost = AdaBoostClassifier(n_estimators=300)\n",
        "adaboost.fit(data_matrix_cv , train_data_y)"
      ]
    },
    {
      "cell_type": "code",
      "execution_count": null,
      "metadata": {
        "id": "FIq5ihIvGh52"
      },
      "outputs": [],
      "source": [
        "predictions = adaboost.predict(test_data_x_cv)"
      ]
    },
    {
      "cell_type": "code",
      "execution_count": null,
      "metadata": {
        "colab": {
          "base_uri": "https://localhost:8080/"
        },
        "id": "gW9uUS0wGlk8",
        "outputId": "2573ed64-ed7c-41cb-bd29-e4290da9cd3b"
      },
      "outputs": [
        {
          "name": "stdout",
          "output_type": "stream",
          "text": [
            "0.84876\n"
          ]
        }
      ],
      "source": [
        "print(accuracy_score( test_data_y , predictions))"
      ]
    },
    {
      "cell_type": "code",
      "execution_count": null,
      "metadata": {
        "id": "V6xLrXPynTb6"
      },
      "outputs": [],
      "source": [
        "test_scores_cv['adaboost'] = accuracy_score( test_data_y , predictions)"
      ]
    },
    {
      "cell_type": "markdown",
      "metadata": {
        "id": "nmdrxJdfHMA3"
      },
      "source": [
        "**------------------------- Using Adaboost for tf_idf vectorizer --------------------------**\n"
      ]
    },
    {
      "cell_type": "code",
      "execution_count": null,
      "metadata": {
        "colab": {
          "base_uri": "https://localhost:8080/"
        },
        "id": "69xo7F4vHFZ6",
        "outputId": "bc0b3255-b6d5-4964-9d5a-4b2ad68fac73"
      },
      "outputs": [
        {
          "data": {
            "text/plain": [
              "AdaBoostClassifier(n_estimators=10)"
            ]
          },
          "execution_count": 89,
          "metadata": {},
          "output_type": "execute_result"
        }
      ],
      "source": [
        "adaboost = AdaBoostClassifier(n_estimators=10)\n",
        "adaboost.fit(data_matrix_TFV , train_data_y)"
      ]
    },
    {
      "cell_type": "code",
      "execution_count": null,
      "metadata": {
        "id": "BL5Jk1ItHaWd"
      },
      "outputs": [],
      "source": [
        "predictions = adaboost.predict(valid_data_x_tfv)"
      ]
    },
    {
      "cell_type": "code",
      "execution_count": null,
      "metadata": {
        "colab": {
          "base_uri": "https://localhost:8080/"
        },
        "id": "HDoKfFasHd-Q",
        "outputId": "47cad967-055b-4f52-8d54-b6180700c09c"
      },
      "outputs": [
        {
          "name": "stdout",
          "output_type": "stream",
          "text": [
            "0.7208\n"
          ]
        }
      ],
      "source": [
        "print(accuracy_score( valid_data_y , predictions))"
      ]
    },
    {
      "cell_type": "code",
      "execution_count": null,
      "metadata": {
        "colab": {
          "base_uri": "https://localhost:8080/"
        },
        "id": "Xb7dDDaOHqot",
        "outputId": "8923ac37-c6b6-4b87-a638-911cb5c4edd4"
      },
      "outputs": [
        {
          "data": {
            "text/plain": [
              "AdaBoostClassifier(base_estimator=DecisionTreeClassifier(max_depth=3),\n",
              "                   n_estimators=10)"
            ]
          },
          "execution_count": 92,
          "metadata": {},
          "output_type": "execute_result"
        }
      ],
      "source": [
        "adaboost = AdaBoostClassifier(DecisionTreeClassifier(max_depth=3) ,n_estimators=10)\n",
        "adaboost.fit(data_matrix_TFV , train_data_y)"
      ]
    },
    {
      "cell_type": "code",
      "execution_count": null,
      "metadata": {
        "id": "0hndWJ_mHxs6"
      },
      "outputs": [],
      "source": [
        "predictions = adaboost.predict(valid_data_x_tfv)"
      ]
    },
    {
      "cell_type": "code",
      "execution_count": null,
      "metadata": {
        "colab": {
          "base_uri": "https://localhost:8080/"
        },
        "id": "xgim9r1WHzoo",
        "outputId": "ffb0c377-61c4-4a88-b5e9-35c7866c6efd"
      },
      "outputs": [
        {
          "name": "stdout",
          "output_type": "stream",
          "text": [
            "0.774\n"
          ]
        }
      ],
      "source": [
        "print(accuracy_score( valid_data_y , predictions))"
      ]
    },
    {
      "cell_type": "code",
      "execution_count": null,
      "metadata": {
        "colab": {
          "base_uri": "https://localhost:8080/"
        },
        "id": "2xrtx5c5I54b",
        "outputId": "a6c28aa1-b92e-4751-d821-0893163c2192"
      },
      "outputs": [
        {
          "data": {
            "text/plain": [
              "AdaBoostClassifier(base_estimator=DecisionTreeClassifier(max_depth=5),\n",
              "                   n_estimators=10)"
            ]
          },
          "execution_count": 95,
          "metadata": {},
          "output_type": "execute_result"
        }
      ],
      "source": [
        "adaboost = AdaBoostClassifier(DecisionTreeClassifier(max_depth=5) ,n_estimators=10)\n",
        "adaboost.fit(data_matrix_TFV , train_data_y)"
      ]
    },
    {
      "cell_type": "code",
      "execution_count": null,
      "metadata": {
        "id": "dX_Z-XpeI9Bj"
      },
      "outputs": [],
      "source": [
        "predictions = adaboost.predict(valid_data_x_tfv)"
      ]
    },
    {
      "cell_type": "code",
      "execution_count": null,
      "metadata": {
        "colab": {
          "base_uri": "https://localhost:8080/"
        },
        "id": "-eZnHBxCI_aN",
        "outputId": "be1d6892-0ac1-48a1-b7eb-94d71d93b1ca"
      },
      "outputs": [
        {
          "name": "stdout",
          "output_type": "stream",
          "text": [
            "0.786\n"
          ]
        }
      ],
      "source": [
        "print(accuracy_score( valid_data_y , predictions))"
      ]
    },
    {
      "cell_type": "code",
      "execution_count": null,
      "metadata": {
        "colab": {
          "base_uri": "https://localhost:8080/"
        },
        "id": "2lxWg8c-H0LT",
        "outputId": "9d5abe8e-c067-4f55-8c6a-3332b8a59177"
      },
      "outputs": [
        {
          "data": {
            "text/plain": [
              "AdaBoostClassifier(n_estimators=100)"
            ]
          },
          "execution_count": 98,
          "metadata": {},
          "output_type": "execute_result"
        }
      ],
      "source": [
        "adaboost = AdaBoostClassifier(n_estimators=100)\n",
        "adaboost.fit(data_matrix_TFV , train_data_y)"
      ]
    },
    {
      "cell_type": "code",
      "execution_count": null,
      "metadata": {
        "id": "kIcUD5KLISJV"
      },
      "outputs": [],
      "source": [
        "predictions = adaboost.predict(valid_data_x_tfv)"
      ]
    },
    {
      "cell_type": "code",
      "execution_count": null,
      "metadata": {
        "colab": {
          "base_uri": "https://localhost:8080/"
        },
        "id": "Wp_6GubaITiP",
        "outputId": "45614fa7-5145-4292-c63a-14da2b250366"
      },
      "outputs": [
        {
          "name": "stdout",
          "output_type": "stream",
          "text": [
            "0.8236\n"
          ]
        }
      ],
      "source": [
        "print(accuracy_score( valid_data_y , predictions))"
      ]
    },
    {
      "cell_type": "code",
      "execution_count": null,
      "metadata": {
        "colab": {
          "base_uri": "https://localhost:8080/"
        },
        "id": "ViyK8zQAJpez",
        "outputId": "596b547f-a866-41e0-bfe3-b3a5ba3b2450"
      },
      "outputs": [
        {
          "data": {
            "text/plain": [
              "AdaBoostClassifier(base_estimator=DecisionTreeClassifier(max_depth=2),\n",
              "                   n_estimators=100)"
            ]
          },
          "execution_count": 101,
          "metadata": {},
          "output_type": "execute_result"
        }
      ],
      "source": [
        "adaboost = AdaBoostClassifier(DecisionTreeClassifier(max_depth=2) , n_estimators=100)\n",
        "adaboost.fit(data_matrix_TFV , train_data_y)"
      ]
    },
    {
      "cell_type": "code",
      "execution_count": null,
      "metadata": {
        "id": "4h-LeJheIdOX"
      },
      "outputs": [],
      "source": [
        "predictions = adaboost.predict(valid_data_x_tfv)"
      ]
    },
    {
      "cell_type": "code",
      "execution_count": null,
      "metadata": {
        "colab": {
          "base_uri": "https://localhost:8080/"
        },
        "id": "8RyPsECCJ2Xk",
        "outputId": "b87d8fa6-3839-42ec-f48c-429d4e85c659"
      },
      "outputs": [
        {
          "name": "stdout",
          "output_type": "stream",
          "text": [
            "0.8316\n"
          ]
        }
      ],
      "source": [
        "print(accuracy_score( valid_data_y , predictions))"
      ]
    },
    {
      "cell_type": "code",
      "execution_count": null,
      "metadata": {
        "colab": {
          "base_uri": "https://localhost:8080/"
        },
        "id": "xCn4Gm-mKLaW",
        "outputId": "5dad52b5-54d5-4b94-aee2-e21e06446415"
      },
      "outputs": [
        {
          "data": {
            "text/plain": [
              "AdaBoostClassifier(base_estimator=DecisionTreeClassifier(max_depth=5),\n",
              "                   n_estimators=100)"
            ]
          },
          "execution_count": 104,
          "metadata": {},
          "output_type": "execute_result"
        }
      ],
      "source": [
        "adaboost = AdaBoostClassifier(DecisionTreeClassifier(max_depth=5) , n_estimators=100)\n",
        "adaboost.fit(data_matrix_TFV , train_data_y)"
      ]
    },
    {
      "cell_type": "code",
      "execution_count": null,
      "metadata": {
        "id": "VyS3ZUTYKSgM"
      },
      "outputs": [],
      "source": [
        "predictions = adaboost.predict(valid_data_x_tfv)"
      ]
    },
    {
      "cell_type": "code",
      "execution_count": null,
      "metadata": {
        "colab": {
          "base_uri": "https://localhost:8080/"
        },
        "id": "q2Fpz4poKUpp",
        "outputId": "d85b0403-be46-48a5-dc9d-4d7e27ae8c69"
      },
      "outputs": [
        {
          "name": "stdout",
          "output_type": "stream",
          "text": [
            "0.7724\n"
          ]
        }
      ],
      "source": [
        "print(accuracy_score( valid_data_y , predictions))"
      ]
    },
    {
      "cell_type": "code",
      "execution_count": null,
      "metadata": {
        "colab": {
          "base_uri": "https://localhost:8080/"
        },
        "id": "6Lt_e_khL6M0",
        "outputId": "c3117569-de4b-49bc-dcd1-76f6a924dc4b"
      },
      "outputs": [
        {
          "data": {
            "text/plain": [
              "AdaBoostClassifier(n_estimators=150)"
            ]
          },
          "execution_count": 107,
          "metadata": {},
          "output_type": "execute_result"
        }
      ],
      "source": [
        "adaboost = AdaBoostClassifier( n_estimators=150)\n",
        "adaboost.fit(data_matrix_TFV , train_data_y)"
      ]
    },
    {
      "cell_type": "code",
      "execution_count": null,
      "metadata": {
        "id": "784pxJjHKuI8"
      },
      "outputs": [],
      "source": [
        "predictions = adaboost.predict(valid_data_x_tfv)"
      ]
    },
    {
      "cell_type": "code",
      "execution_count": null,
      "metadata": {
        "colab": {
          "base_uri": "https://localhost:8080/"
        },
        "id": "geRHO1HAL_sd",
        "outputId": "4dd315d4-da38-47a2-d9ac-7127b0c2ba2e"
      },
      "outputs": [
        {
          "name": "stdout",
          "output_type": "stream",
          "text": [
            "0.8336\n"
          ]
        }
      ],
      "source": [
        "print(accuracy_score( valid_data_y , predictions))"
      ]
    },
    {
      "cell_type": "markdown",
      "metadata": {
        "id": "6iDnFz-60R5o"
      },
      "source": [
        "------------- Best one ----------"
      ]
    },
    {
      "cell_type": "code",
      "execution_count": null,
      "metadata": {
        "colab": {
          "base_uri": "https://localhost:8080/"
        },
        "id": "MfkmUaoCMhY-",
        "outputId": "51efc05b-09f5-41ba-c29b-2e2c3864fadb"
      },
      "outputs": [
        {
          "data": {
            "text/plain": [
              "AdaBoostClassifier(base_estimator=DecisionTreeClassifier(max_depth=2),\n",
              "                   n_estimators=150)"
            ]
          },
          "execution_count": 122,
          "metadata": {},
          "output_type": "execute_result"
        }
      ],
      "source": [
        "adaboost = AdaBoostClassifier(DecisionTreeClassifier(max_depth=2) , n_estimators=150)\n",
        "adaboost.fit(data_matrix_TFV , train_data_y)"
      ]
    },
    {
      "cell_type": "code",
      "execution_count": null,
      "metadata": {
        "id": "8bqDeV-PMnya"
      },
      "outputs": [],
      "source": [
        "predictions = adaboost.predict(valid_data_x_tfv)"
      ]
    },
    {
      "cell_type": "code",
      "execution_count": null,
      "metadata": {
        "colab": {
          "base_uri": "https://localhost:8080/"
        },
        "id": "yAC8p6boMnAW",
        "outputId": "e101e42f-2a6e-4dd0-a263-73ff7e7d4b16"
      },
      "outputs": [
        {
          "name": "stdout",
          "output_type": "stream",
          "text": [
            "0.836\n"
          ]
        }
      ],
      "source": [
        "print(accuracy_score( valid_data_y , predictions))"
      ]
    },
    {
      "cell_type": "code",
      "execution_count": null,
      "metadata": {
        "id": "KHpJf96B1osz"
      },
      "outputs": [],
      "source": [
        "valid_scores_tfv['adaboost'] = accuracy_score( valid_data_y , predictions)"
      ]
    },
    {
      "cell_type": "code",
      "execution_count": null,
      "metadata": {
        "colab": {
          "base_uri": "https://localhost:8080/"
        },
        "id": "LfljpKhBNEkr",
        "outputId": "e117cb8d-a35c-442b-e830-ad46846d9f20"
      },
      "outputs": [
        {
          "data": {
            "text/plain": [
              "AdaBoostClassifier(n_estimators=200)"
            ]
          },
          "execution_count": 113,
          "metadata": {},
          "output_type": "execute_result"
        }
      ],
      "source": [
        "adaboost = AdaBoostClassifier(n_estimators=200)\n",
        "adaboost.fit(data_matrix_TFV , train_data_y)"
      ]
    },
    {
      "cell_type": "code",
      "execution_count": null,
      "metadata": {
        "id": "7UL8QfsUNJOB"
      },
      "outputs": [],
      "source": [
        "predictions = adaboost.predict(valid_data_x_tfv)"
      ]
    },
    {
      "cell_type": "code",
      "execution_count": null,
      "metadata": {
        "colab": {
          "base_uri": "https://localhost:8080/"
        },
        "id": "1v49QS_CNKbf",
        "outputId": "b8062b48-15a1-40c0-ec94-b65dd9ba0b88"
      },
      "outputs": [
        {
          "name": "stdout",
          "output_type": "stream",
          "text": [
            "0.832\n"
          ]
        }
      ],
      "source": [
        "print(accuracy_score( valid_data_y , predictions))"
      ]
    },
    {
      "cell_type": "code",
      "execution_count": null,
      "metadata": {
        "colab": {
          "base_uri": "https://localhost:8080/"
        },
        "id": "la0DQhevNh-N",
        "outputId": "94825b2f-d43b-4d3c-aa62-d9407df6a972"
      },
      "outputs": [
        {
          "data": {
            "text/plain": [
              "AdaBoostClassifier(base_estimator=DecisionTreeClassifier(max_depth=2),\n",
              "                   n_estimators=200)"
            ]
          },
          "execution_count": 116,
          "metadata": {},
          "output_type": "execute_result"
        }
      ],
      "source": [
        "adaboost = AdaBoostClassifier(DecisionTreeClassifier(max_depth=2) , n_estimators=200)\n",
        "adaboost.fit(data_matrix_TFV , train_data_y)"
      ]
    },
    {
      "cell_type": "code",
      "execution_count": null,
      "metadata": {
        "id": "cMuBnDWRNqc3"
      },
      "outputs": [],
      "source": [
        "predictions = adaboost.predict(valid_data_x_tfv)"
      ]
    },
    {
      "cell_type": "code",
      "execution_count": null,
      "metadata": {
        "colab": {
          "base_uri": "https://localhost:8080/"
        },
        "id": "KprzzZyWNsU5",
        "outputId": "2b268279-dcd4-43dc-e020-6cf5efe64142"
      },
      "outputs": [
        {
          "name": "stdout",
          "output_type": "stream",
          "text": [
            "0.8336\n"
          ]
        }
      ],
      "source": [
        "print(accuracy_score( valid_data_y , predictions))"
      ]
    },
    {
      "cell_type": "code",
      "execution_count": null,
      "metadata": {
        "colab": {
          "base_uri": "https://localhost:8080/"
        },
        "id": "AhBS2bciOQll",
        "outputId": "7463f56f-05b5-44af-b10a-446f2e95c800"
      },
      "outputs": [
        {
          "data": {
            "text/plain": [
              "AdaBoostClassifier(base_estimator=DecisionTreeClassifier(max_depth=2),\n",
              "                   n_estimators=250)"
            ]
          },
          "execution_count": 119,
          "metadata": {},
          "output_type": "execute_result"
        }
      ],
      "source": [
        "adaboost = AdaBoostClassifier(DecisionTreeClassifier(max_depth=2) , n_estimators=250)\n",
        "adaboost.fit(data_matrix_TFV , train_data_y)"
      ]
    },
    {
      "cell_type": "code",
      "execution_count": null,
      "metadata": {
        "id": "E9t2NVFDOVHC"
      },
      "outputs": [],
      "source": [
        "predictions = adaboost.predict(valid_data_x_tfv)"
      ]
    },
    {
      "cell_type": "code",
      "execution_count": null,
      "metadata": {
        "colab": {
          "base_uri": "https://localhost:8080/"
        },
        "id": "phrsITpyOW97",
        "outputId": "15a19bf0-abab-4f5c-a6d0-a79d583ed0f3"
      },
      "outputs": [
        {
          "name": "stdout",
          "output_type": "stream",
          "text": [
            "0.8336\n"
          ]
        }
      ],
      "source": [
        "print(accuracy_score( valid_data_y , predictions))"
      ]
    },
    {
      "cell_type": "markdown",
      "metadata": {
        "id": "nup2F8AkPGsN"
      },
      "source": [
        "--------------------- test data ------------------------------------"
      ]
    },
    {
      "cell_type": "code",
      "execution_count": null,
      "metadata": {
        "colab": {
          "base_uri": "https://localhost:8080/"
        },
        "id": "-x4YMHQiPEKy",
        "outputId": "19a015c6-4490-42e9-914c-e2d2d9108b87"
      },
      "outputs": [
        {
          "data": {
            "text/plain": [
              "AdaBoostClassifier(base_estimator=DecisionTreeClassifier(max_depth=2),\n",
              "                   n_estimators=250)"
            ]
          },
          "execution_count": 201,
          "metadata": {},
          "output_type": "execute_result"
        }
      ],
      "source": [
        "adaboost = AdaBoostClassifier(DecisionTreeClassifier(max_depth=2) , n_estimators=150)\n",
        "adaboost.fit(data_matrix_TFV , train_data_y)"
      ]
    },
    {
      "cell_type": "code",
      "execution_count": null,
      "metadata": {
        "id": "aw0bUq2yPLBc"
      },
      "outputs": [],
      "source": [
        "predictions = adaboost.predict(test_data_x_tfv)"
      ]
    },
    {
      "cell_type": "code",
      "execution_count": null,
      "metadata": {
        "colab": {
          "base_uri": "https://localhost:8080/"
        },
        "id": "TO_DpBSTPNSh",
        "outputId": "46a3df99-017f-4759-cbc5-8607af787238"
      },
      "outputs": [
        {
          "name": "stdout",
          "output_type": "stream",
          "text": [
            "0.83684\n"
          ]
        }
      ],
      "source": [
        "print(accuracy_score( test_data_y , predictions))"
      ]
    },
    {
      "cell_type": "code",
      "execution_count": null,
      "metadata": {
        "id": "rS6XB6na14vI"
      },
      "outputs": [],
      "source": [
        "test_scores_tfv['adaboost'] = accuracy_score( test_data_y , predictions)"
      ]
    },
    {
      "cell_type": "markdown",
      "metadata": {
        "id": "LLc4k5NOQFdZ"
      },
      "source": [
        "**------------------------- Using Adaboost for embedding--------------------------**\n"
      ]
    },
    {
      "cell_type": "code",
      "execution_count": null,
      "metadata": {
        "colab": {
          "base_uri": "https://localhost:8080/"
        },
        "id": "u67FgZ5nQDpn",
        "outputId": "dcdab02d-1292-41f1-9a0e-c3d893e72a8a"
      },
      "outputs": [
        {
          "output_type": "execute_result",
          "data": {
            "text/plain": [
              "AdaBoostClassifier(n_estimators=10)"
            ]
          },
          "metadata": {},
          "execution_count": 108
        }
      ],
      "source": [
        "adaboost = AdaBoostClassifier(n_estimators=10)\n",
        "adaboost.fit(data_matrix_word_embedding , train_data_y)"
      ]
    },
    {
      "cell_type": "code",
      "execution_count": null,
      "metadata": {
        "id": "JXVTYV8wQddc"
      },
      "outputs": [],
      "source": [
        "predictions = adaboost.predict(valid_data_x_embedding)"
      ]
    },
    {
      "cell_type": "code",
      "execution_count": null,
      "metadata": {
        "colab": {
          "base_uri": "https://localhost:8080/"
        },
        "id": "RPo9vnzsQjKc",
        "outputId": "bdff8a27-1ae8-485a-f6ea-b5d8975bc235"
      },
      "outputs": [
        {
          "output_type": "stream",
          "name": "stdout",
          "text": [
            "0.5656\n"
          ]
        }
      ],
      "source": [
        "print(accuracy_score( valid_data_y , predictions))"
      ]
    },
    {
      "cell_type": "code",
      "execution_count": null,
      "metadata": {
        "colab": {
          "base_uri": "https://localhost:8080/"
        },
        "id": "9fUy9el8RXKg",
        "outputId": "127c6be2-201c-49be-fec4-17d356505602"
      },
      "outputs": [
        {
          "output_type": "execute_result",
          "data": {
            "text/plain": [
              "AdaBoostClassifier(base_estimator=DecisionTreeClassifier(max_depth=2),\n",
              "                   n_estimators=10)"
            ]
          },
          "metadata": {},
          "execution_count": 115
        }
      ],
      "source": [
        "adaboost = AdaBoostClassifier(DecisionTreeClassifier(max_depth=2) ,n_estimators=10)\n",
        "adaboost.fit(data_matrix_word_embedding , train_data_y)"
      ]
    },
    {
      "cell_type": "code",
      "execution_count": null,
      "metadata": {
        "id": "ECSFhrVKRhTL"
      },
      "outputs": [],
      "source": [
        "predictions = adaboost.predict(valid_data_x_embedding)"
      ]
    },
    {
      "cell_type": "code",
      "execution_count": null,
      "metadata": {
        "colab": {
          "base_uri": "https://localhost:8080/"
        },
        "id": "VW8gZPkkRi_I",
        "outputId": "3a34ceb1-d8fb-4e4f-a230-217a220f48b5"
      },
      "outputs": [
        {
          "output_type": "stream",
          "name": "stdout",
          "text": [
            "0.5776\n"
          ]
        }
      ],
      "source": [
        "print(accuracy_score( valid_data_y , predictions))"
      ]
    },
    {
      "cell_type": "code",
      "source": [
        "valid_scores_embedding['adaboost'] = accuracy_score(valid_data_y,predictions)"
      ],
      "metadata": {
        "id": "OgWTH3MtyUk-"
      },
      "execution_count": null,
      "outputs": []
    },
    {
      "cell_type": "markdown",
      "metadata": {
        "id": "HpIL1ssTXatD"
      },
      "source": [
        "---------------------------------------- test data ------------------------"
      ]
    },
    {
      "cell_type": "code",
      "execution_count": null,
      "metadata": {
        "id": "LXuAdDPyXg-n"
      },
      "outputs": [],
      "source": [
        "predictions = adaboost.predict(test_data_x_embedding)"
      ]
    },
    {
      "cell_type": "code",
      "execution_count": null,
      "metadata": {
        "id": "5mvGSGqzXkNA",
        "colab": {
          "base_uri": "https://localhost:8080/"
        },
        "outputId": "ac0053ca-ebc6-4d45-fb19-a14d87d33d8c"
      },
      "outputs": [
        {
          "output_type": "stream",
          "name": "stdout",
          "text": [
            "0.59156\n"
          ]
        }
      ],
      "source": [
        "print(accuracy_score( test_data_y , predictions))"
      ]
    },
    {
      "cell_type": "code",
      "source": [
        "test_scores_embedding['adaboost'] = accuracy_score(test_data_y,predictions)"
      ],
      "metadata": {
        "id": "I2nEmRaLyfvw"
      },
      "execution_count": null,
      "outputs": []
    },
    {
      "cell_type": "markdown",
      "source": [
        "_______________________________________________________________________"
      ],
      "metadata": {
        "id": "XcLHEz7l2O9e"
      }
    },
    {
      "cell_type": "markdown",
      "source": [
        "-------------------------- plots --------------------------"
      ],
      "metadata": {
        "id": "PcVu9zcW2UvG"
      }
    },
    {
      "cell_type": "code",
      "source": [
        "f = open(\"drive/MyDrive/valid_scores_cv.json_\")\n",
        "valid_scores_cv = json.load(f)\n",
        "f = open(\"drive/MyDrive/test_scores_cv.json_\")\n",
        "test_scores_cv = json.load(f)\n",
        "f = open(\"drive/MyDrive/valid_scores_tfv.json_\")\n",
        "valid_scores_tfv = json.load(f)\n",
        "f = open(\"drive/MyDrive/test_scores_tfv.json_\")\n",
        "test_scores_tfv = json.load(f)\n",
        "f = open(\"drive/MyDrive/valid_scores_embedding.json_\")\n",
        "valid_scores_embedding = json.load(f)\n",
        "f = open(\"drive/MyDrive/test_scores_embedding.json_\")\n",
        "test_scores_embedding = json.load(f)"
      ],
      "metadata": {
        "id": "3NphI44D2Tvn"
      },
      "execution_count": null,
      "outputs": []
    },
    {
      "cell_type": "code",
      "source": [
        "def getInfo(dic):\n",
        "  classifiers = list()\n",
        "  accuracy = list()\n",
        "  for key , value in dic.items():\n",
        "    classifiers.append(key)\n",
        "    accuracy.append(value)\n",
        "  return classifiers , accuracy\n"
      ],
      "metadata": {
        "id": "7OWDRhpkJkhr"
      },
      "execution_count": null,
      "outputs": []
    },
    {
      "cell_type": "markdown",
      "source": [
        "**-------------------------------------- counter vectorizer ----------------------------------------**"
      ],
      "metadata": {
        "id": "47JdVWMlFnX0"
      }
    },
    {
      "cell_type": "markdown",
      "source": [
        "------------------------------ Validation data ----------------------"
      ],
      "metadata": {
        "id": "ipE6FXA5F6NY"
      }
    },
    {
      "cell_type": "code",
      "source": [
        "info = getInfo(valid_scores_cv)\n",
        "classifiers = info[0]\n",
        "accuracy = info[1]\n",
        "accuracy = [ele * 100 for ele in accuracy]\n",
        "\n",
        "fig = plt.figure()\n",
        "ax = fig.add_axes([0,0,1,1])\n",
        "\n",
        "ax.bar(classifiers,accuracy)\n",
        "ax.set_ylabel('Accuracy %')\n",
        "ax.set_xlabel('Classifiers')\n",
        "\n",
        "plt.show()"
      ],
      "metadata": {
        "colab": {
          "base_uri": "https://localhost:8080/",
          "height": 351
        },
        "id": "DBqrmvKPGI01",
        "outputId": "d728b9e6-39f6-41ff-d5d4-f5fd995fe8ef"
      },
      "execution_count": null,
      "outputs": [
        {
          "output_type": "display_data",
          "data": {
            "image/png": "[encoded data removed]",
            "text/plain": [
              "<Figure size 432x288 with 1 Axes>"
            ]
          },
          "metadata": {
            "needs_background": "light"
          }
        }
      ]
    },
    {
      "cell_type": "markdown",
      "source": [
        "----------------------------- Test data ------------------------------"
      ],
      "metadata": {
        "id": "AyRe4n58Nj0T"
      }
    },
    {
      "cell_type": "code",
      "source": [
        "info = getInfo(test_scores_cv)\n",
        "classifiers = info[0]\n",
        "accuracy = info[1]\n",
        "accuracy = [ele * 100 for ele in accuracy]\n",
        "\n",
        "fig = plt.figure()\n",
        "ax = fig.add_axes([0,0,1,1])\n",
        "\n",
        "ax.bar(classifiers,accuracy ,color = 'r')\n",
        "ax.set_ylabel('Accuracy %')\n",
        "ax.set_xlabel('Classifiers')\n",
        "\n",
        "plt.show()"
      ],
      "metadata": {
        "colab": {
          "base_uri": "https://localhost:8080/",
          "height": 351
        },
        "id": "1X4rgw28JarY",
        "outputId": "3d3057fc-eced-4cb3-d104-9b23209e85f7"
      },
      "execution_count": null,
      "outputs": [
        {
          "output_type": "display_data",
          "data": {
            "image/png": "[encoded data removed]",
            "text/plain": [
              "<Figure size 432x288 with 1 Axes>"
            ]
          },
          "metadata": {
            "needs_background": "light"
          }
        }
      ]
    },
    {
      "cell_type": "markdown",
      "source": [
        "**--------------------------------- TF_IDF Vectorizer ----------------------------------------**"
      ],
      "metadata": {
        "id": "-tulcZbqNyBU"
      }
    },
    {
      "cell_type": "markdown",
      "source": [
        "----------------------- validation data ----------------------------------------"
      ],
      "metadata": {
        "id": "Mj0HsHnZOEaC"
      }
    },
    {
      "cell_type": "code",
      "source": [
        "info = getInfo(valid_scores_tfv)\n",
        "classifiers = info[0]\n",
        "accuracy = info[1]\n",
        "accuracy = [ele * 100 for ele in accuracy]\n",
        "\n",
        "fig = plt.figure()\n",
        "ax = fig.add_axes([0,0,1,1])\n",
        "\n",
        "ax.bar(classifiers,accuracy)\n",
        "ax.set_ylabel('Accuracy %')\n",
        "ax.set_xlabel('Classifiers')\n",
        "\n",
        "plt.show()"
      ],
      "metadata": {
        "colab": {
          "base_uri": "https://localhost:8080/",
          "height": 351
        },
        "id": "magIeSu0NtUO",
        "outputId": "7932ddb6-0892-4244-b407-3bd877d6332a"
      },
      "execution_count": null,
      "outputs": [
        {
          "output_type": "display_data",
          "data": {
            "image/png": "[encoded data removed]",
            "text/plain": [
              "<Figure size 432x288 with 1 Axes>"
            ]
          },
          "metadata": {
            "needs_background": "light"
          }
        }
      ]
    },
    {
      "cell_type": "markdown",
      "source": [
        "--------------------------------- test data ----------------------------------"
      ],
      "metadata": {
        "id": "vQBCd6Q-OOrT"
      }
    },
    {
      "cell_type": "code",
      "source": [
        "info = getInfo(test_scores_tfv)\n",
        "classifiers = info[0]\n",
        "accuracy = info[1]\n",
        "accuracy = [ele * 100 for ele in accuracy]\n",
        "\n",
        "fig = plt.figure()\n",
        "ax = fig.add_axes([0,0,1,1])\n",
        "\n",
        "ax.bar(classifiers,accuracy , color='r')\n",
        "ax.set_ylabel('Accuracy %')\n",
        "ax.set_xlabel('Classifiers')\n",
        "\n",
        "plt.show()"
      ],
      "metadata": {
        "colab": {
          "base_uri": "https://localhost:8080/",
          "height": 351
        },
        "id": "u1J4MWaSOMGJ",
        "outputId": "92f929fa-91cb-400c-f24e-181433b9a002"
      },
      "execution_count": null,
      "outputs": [
        {
          "output_type": "display_data",
          "data": {
            "image/png": "[encoded data removed]",
            "text/plain": [
              "<Figure size 432x288 with 1 Axes>"
            ]
          },
          "metadata": {
            "needs_background": "light"
          }
        }
      ]
    },
    {
      "cell_type": "markdown",
      "source": [
        "**-------------------------------- Embedding Word -------------------------------------**"
      ],
      "metadata": {
        "id": "fnCQ3f6POogh"
      }
    },
    {
      "cell_type": "markdown",
      "source": [
        "---------------------------- validation data ---------------------------------"
      ],
      "metadata": {
        "id": "zOjxJD9VOvkp"
      }
    },
    {
      "cell_type": "code",
      "source": [
        "info = getInfo(valid_scores_embedding)\n",
        "classifiers = info[0]\n",
        "accuracy = info[1]\n",
        "accuracy = [ele * 100 for ele in accuracy]\n",
        "\n",
        "fig = plt.figure()\n",
        "ax = fig.add_axes([0,0,1,1])\n",
        "\n",
        "ax.bar(classifiers,accuracy)\n",
        "ax.set_ylabel('Accuracy %')\n",
        "ax.set_xlabel('Classifiers')\n",
        "\n",
        "plt.show()"
      ],
      "metadata": {
        "colab": {
          "base_uri": "https://localhost:8080/",
          "height": 351
        },
        "id": "APPaRVneOmYa",
        "outputId": "297fcc18-8040-4a54-f511-de6c941aa2bd"
      },
      "execution_count": null,
      "outputs": [
        {
          "output_type": "display_data",
          "data": {
            "image/png": "[encoded data removed]",
            "text/plain": [
              "<Figure size 432x288 with 1 Axes>"
            ]
          },
          "metadata": {
            "needs_background": "light"
          }
        }
      ]
    },
    {
      "cell_type": "markdown",
      "source": [
        "--------------------------- test data -----------------------------------"
      ],
      "metadata": {
        "id": "PgqydSVLPAnr"
      }
    },
    {
      "cell_type": "code",
      "source": [
        "info = getInfo(test_scores_embedding)\n",
        "classifiers = info[0]\n",
        "accuracy = info[1]\n",
        "accuracy = [ele * 100 for ele in accuracy]\n",
        "\n",
        "fig = plt.figure()\n",
        "ax = fig.add_axes([0,0,1,1])\n",
        "\n",
        "ax.bar(classifiers,accuracy , color='r')\n",
        "ax.set_ylabel('Accuracy %')\n",
        "ax.set_xlabel('Classifiers')\n",
        "\n",
        "plt.show()"
      ],
      "metadata": {
        "colab": {
          "base_uri": "https://localhost:8080/",
          "height": 354
        },
        "id": "Hwn4D4S0O-S2",
        "outputId": "95600ad4-7b7b-4afc-f5d0-dfa1f41caead"
      },
      "execution_count": null,
      "outputs": [
        {
          "output_type": "display_data",
          "data": {
            "image/png": "[encoded data removed]",
            "text/plain": [
              "<Figure size 432x288 with 1 Axes>"
            ]
          },
          "metadata": {
            "needs_background": "light"
          }
        }
      ]
    },
    {
      "cell_type": "markdown",
      "source": [
        "**--------------------------------------- Classifires -----------------------------**"
      ],
      "metadata": {
        "id": "COtaBtd0Qc-x"
      }
    },
    {
      "cell_type": "markdown",
      "source": [
        "------------------------- Logistic Regression ----------------------------------"
      ],
      "metadata": {
        "id": "ccbciDdJShNZ"
      }
    },
    {
      "cell_type": "markdown",
      "source": [
        "------------------- Validation Data ------------------------------"
      ],
      "metadata": {
        "id": "BI4FyIiASuoI"
      }
    },
    {
      "cell_type": "code",
      "source": [
        "data_matrices = [\"Count_Vec\" , \"Tf_idf_Vec\" , \"Embedding_Word\"]\n",
        "accuracy = [valid_scores_cv[\"logistic_regression\"] , valid_scores_tfv[\"logistic_regression\"] , valid_scores_embedding[\"logistic_regression\"] ]\n",
        "accuracy = [ele * 100 for ele in accuracy]\n",
        "\n",
        "fig = plt.figure()\n",
        "ax = fig.add_axes([0,0,1,1])\n",
        "\n",
        "ax.bar(data_matrices,accuracy , width = .5)\n",
        "ax.set_ylabel('Accuracy %')\n",
        "ax.set_xlabel('Data Matrices')\n",
        "\n",
        "plt.show()\n"
      ],
      "metadata": {
        "colab": {
          "base_uri": "https://localhost:8080/",
          "height": 351
        },
        "id": "PgSqQUrBPFYC",
        "outputId": "46d41245-6f04-4f2b-8f5f-842edff3dd92"
      },
      "execution_count": null,
      "outputs": [
        {
          "output_type": "display_data",
          "data": {
            "image/png": "[encoded data removed]",
            "text/plain": [
              "<Figure size 432x288 with 1 Axes>"
            ]
          },
          "metadata": {
            "needs_background": "light"
          }
        }
      ]
    },
    {
      "cell_type": "markdown",
      "source": [
        "-------------------------------- test data --------------------------------------"
      ],
      "metadata": {
        "id": "Bw0fBbrPUA1z"
      }
    },
    {
      "cell_type": "code",
      "source": [
        "data_matrices = [\"Count_Vec\" , \"Tf_idf_Vec\" , \"Embedding_Word\"]\n",
        "accuracy = [test_scores_cv[\"logistic_regression\"] , test_scores_tfv[\"logistic_regression\"] , test_scores_embedding[\"logistic_regression\"] ]\n",
        "accuracy = [ele * 100 for ele in accuracy]\n",
        "\n",
        "fig = plt.figure()\n",
        "ax = fig.add_axes([0,0,1,1])\n",
        "\n",
        "ax.bar(data_matrices,accuracy , width = .5 , color='r')\n",
        "ax.set_ylabel('Accuracy %')\n",
        "ax.set_xlabel('Data Matrices')\n",
        "\n",
        "plt.show()"
      ],
      "metadata": {
        "colab": {
          "base_uri": "https://localhost:8080/",
          "height": 351
        },
        "id": "rsIxWnpBTZhg",
        "outputId": "a7e5ed19-5952-4606-b4a2-d075400f840e"
      },
      "execution_count": null,
      "outputs": [
        {
          "output_type": "display_data",
          "data": {
            "image/png": "[encoded data removed]",
            "text/plain": [
              "<Figure size 432x288 with 1 Axes>"
            ]
          },
          "metadata": {
            "needs_background": "light"
          }
        }
      ]
    },
    {
      "cell_type": "markdown",
      "source": [
        "**--------------------------------- KNN -------------------------------**"
      ],
      "metadata": {
        "id": "egpU4t34UVdn"
      }
    },
    {
      "cell_type": "markdown",
      "source": [
        "---------------------------------- Validation data -----------------------------"
      ],
      "metadata": {
        "id": "zlG7lIdaUaxj"
      }
    },
    {
      "cell_type": "code",
      "source": [
        "data_matrices = [\"Count_Vec\" , \"Tf_idf_Vec\" , \"Embedding_Word\"]\n",
        "accuracy = [valid_scores_cv[\"KNN\"] , valid_scores_tfv[\"KNN\"] , valid_scores_embedding[\"KNN\"] ]\n",
        "accuracy = [ele * 100 for ele in accuracy]\n",
        "\n",
        "fig = plt.figure()\n",
        "ax = fig.add_axes([0,0,1,1])\n",
        "\n",
        "ax.bar(data_matrices,accuracy , width = .5)\n",
        "ax.set_ylabel('Accuracy %')\n",
        "ax.set_xlabel('Data Matrices')\n",
        "\n",
        "plt.show()"
      ],
      "metadata": {
        "colab": {
          "base_uri": "https://localhost:8080/",
          "height": 351
        },
        "id": "zUJbMAxnUOsH",
        "outputId": "fbf28021-739b-459f-c973-34cf6e0f7a29"
      },
      "execution_count": null,
      "outputs": [
        {
          "output_type": "display_data",
          "data": {
            "image/png": "[encoded data removed]",
            "text/plain": [
              "<Figure size 432x288 with 1 Axes>"
            ]
          },
          "metadata": {
            "needs_background": "light"
          }
        }
      ]
    },
    {
      "cell_type": "markdown",
      "source": [
        "------------------------------- Test data ----------------------------------------"
      ],
      "metadata": {
        "id": "8xOZhFNbU09L"
      }
    },
    {
      "cell_type": "code",
      "source": [
        "data_matrices = [\"Count_Vec\" , \"Tf_idf_Vec\" , \"Embedding_Word\"]\n",
        "accuracy = [test_scores_cv[\"KNN\"] , test_scores_tfv[\"KNN\"] , test_scores_embedding[\"KNN\"] ]\n",
        "accuracy = [ele * 100 for ele in accuracy]\n",
        "\n",
        "fig = plt.figure()\n",
        "ax = fig.add_axes([0,0,1,1])\n",
        "\n",
        "ax.bar(data_matrices,accuracy , width = .5 , color='r')\n",
        "ax.set_ylabel('Accuracy %')\n",
        "ax.set_xlabel('Data Matrices')\n",
        "\n",
        "plt.show()"
      ],
      "metadata": {
        "colab": {
          "base_uri": "https://localhost:8080/",
          "height": 351
        },
        "id": "gYTRaYEWUybo",
        "outputId": "3c24ef82-ac2f-43f5-dab1-9b87d7cc5e5f"
      },
      "execution_count": null,
      "outputs": [
        {
          "output_type": "display_data",
          "data": {
            "image/png": "[encoded data removed]",
            "text/plain": [
              "<Figure size 432x288 with 1 Axes>"
            ]
          },
          "metadata": {
            "needs_background": "light"
          }
        }
      ]
    },
    {
      "cell_type": "markdown",
      "source": [
        "**------------------------------------------ Naive Bayes --------------------------------**"
      ],
      "metadata": {
        "id": "4RcpdzVCU_A4"
      }
    },
    {
      "cell_type": "markdown",
      "source": [
        "----------------------- Validate data -------------------------------"
      ],
      "metadata": {
        "id": "njocHNEbVEKw"
      }
    },
    {
      "cell_type": "code",
      "source": [
        "data_matrices = [\"Count_Vec\" , \"Tf_idf_Vec\" , \"Embedding_Word\"]\n",
        "accuracy = [valid_scores_cv[\"NB\"] , valid_scores_tfv[\"NB\"] , valid_scores_embedding[\"NB\"] ]\n",
        "accuracy = [ele * 100 for ele in accuracy]\n",
        "\n",
        "fig = plt.figure()\n",
        "ax = fig.add_axes([0,0,1,1])\n",
        "\n",
        "ax.bar(data_matrices,accuracy , width = .5)\n",
        "ax.set_ylabel('Accuracy %')\n",
        "ax.set_xlabel('Data Matrices')\n",
        "\n",
        "plt.show()"
      ],
      "metadata": {
        "colab": {
          "base_uri": "https://localhost:8080/",
          "height": 351
        },
        "id": "NeRjWxg8U8JZ",
        "outputId": "62c2dec8-cd3e-4b53-f9e8-e2bf47ed241f"
      },
      "execution_count": null,
      "outputs": [
        {
          "output_type": "display_data",
          "data": {
            "image/png": "[encoded data removed]",
            "text/plain": [
              "<Figure size 432x288 with 1 Axes>"
            ]
          },
          "metadata": {
            "needs_background": "light"
          }
        }
      ]
    },
    {
      "cell_type": "markdown",
      "source": [
        "--------------------------------- Test data --------------------------------------"
      ],
      "metadata": {
        "id": "I02Dlc6lVNM4"
      }
    },
    {
      "cell_type": "code",
      "source": [
        "data_matrices = [\"Count_Vec\" , \"Tf_idf_Vec\" , \"Embedding_Word\"]\n",
        "accuracy = [test_scores_cv[\"NB\"] , test_scores_tfv[\"NB\"] , test_scores_embedding[\"NB\"] ]\n",
        "accuracy = [ele * 100 for ele in accuracy]\n",
        "\n",
        "fig = plt.figure()\n",
        "ax = fig.add_axes([0,0,1,1])\n",
        "\n",
        "ax.bar(data_matrices,accuracy , width = .5 , color='r')\n",
        "ax.set_ylabel('Accuracy %')\n",
        "ax.set_xlabel('Data Matrices')\n",
        "\n",
        "plt.show()"
      ],
      "metadata": {
        "colab": {
          "base_uri": "https://localhost:8080/",
          "height": 351
        },
        "id": "SiYDzpl0VL4f",
        "outputId": "6847e0f2-e5d6-4feb-ace6-06fd51aa9c78"
      },
      "execution_count": null,
      "outputs": [
        {
          "output_type": "display_data",
          "data": {
            "image/png": "[encoded data removed]",
            "text/plain": [
              "<Figure size 432x288 with 1 Axes>"
            ]
          },
          "metadata": {
            "needs_background": "light"
          }
        }
      ]
    },
    {
      "cell_type": "markdown",
      "source": [
        "**--------------------------------------- Random Forests ------------------------------------**"
      ],
      "metadata": {
        "id": "1BAFB_HGVct4"
      }
    },
    {
      "cell_type": "markdown",
      "source": [
        "-------------------------------- Validate data ----------------------------------"
      ],
      "metadata": {
        "id": "NN6HevA7VlLg"
      }
    },
    {
      "cell_type": "code",
      "source": [
        "data_matrices = [\"Count_Vec\" , \"Tf_idf_Vec\" , \"Embedding_Word\"]\n",
        "accuracy = [valid_scores_cv[\"RF\"] , valid_scores_tfv[\"RF\"] , valid_scores_embedding[\"RF\"] ]\n",
        "accuracy = [ele * 100 for ele in accuracy]\n",
        "\n",
        "fig = plt.figure()\n",
        "ax = fig.add_axes([0,0,1,1])\n",
        "\n",
        "ax.bar(data_matrices,accuracy , width = .5)\n",
        "ax.set_ylabel('Accuracy %')\n",
        "ax.set_xlabel('Data Matrices')\n",
        "\n",
        "plt.show()"
      ],
      "metadata": {
        "colab": {
          "base_uri": "https://localhost:8080/",
          "height": 351
        },
        "id": "Gp8CcP5FVbhx",
        "outputId": "a4afb9b1-c4ed-4fa3-aac8-a6bcf47ec22e"
      },
      "execution_count": null,
      "outputs": [
        {
          "output_type": "display_data",
          "data": {
            "image/png": "[encoded data removed]",
            "text/plain": [
              "<Figure size 432x288 with 1 Axes>"
            ]
          },
          "metadata": {
            "needs_background": "light"
          }
        }
      ]
    },
    {
      "cell_type": "markdown",
      "source": [
        "-------------------------------- Test Data -----------------------------------"
      ],
      "metadata": {
        "id": "sJ8n-V6sVt7S"
      }
    },
    {
      "cell_type": "code",
      "source": [
        "data_matrices = [\"Count_Vec\" , \"Tf_idf_Vec\" , \"Embedding_Word\"]\n",
        "accuracy = [test_scores_cv[\"RF\"] , test_scores_tfv[\"RF\"] , test_scores_embedding[\"RF\"] ]\n",
        "accuracy = [ele * 100 for ele in accuracy]\n",
        "\n",
        "fig = plt.figure()\n",
        "ax = fig.add_axes([0,0,1,1])\n",
        "\n",
        "ax.bar(data_matrices,accuracy , width = .5 , color='r')\n",
        "ax.set_ylabel('Accuracy %')\n",
        "ax.set_xlabel('Data Matrices')\n",
        "\n",
        "plt.show()"
      ],
      "metadata": {
        "colab": {
          "base_uri": "https://localhost:8080/",
          "height": 351
        },
        "id": "wyj07HpGVsN6",
        "outputId": "b6a65699-964d-4dcd-c6e0-ff9c714ed1e6"
      },
      "execution_count": null,
      "outputs": [
        {
          "output_type": "display_data",
          "data": {
            "image/png": "[encoded data removed]",
            "text/plain": [
              "<Figure size 432x288 with 1 Axes>"
            ]
          },
          "metadata": {
            "needs_background": "light"
          }
        }
      ]
    },
    {
      "cell_type": "markdown",
      "source": [
        "**------------------------------------------ Adaboost --------------------------------------**"
      ],
      "metadata": {
        "id": "QAluHlE6V0g4"
      }
    },
    {
      "cell_type": "markdown",
      "source": [
        "-----------------------------  Validate data -------------------------------------"
      ],
      "metadata": {
        "id": "sEEC2qiTV7BE"
      }
    },
    {
      "cell_type": "code",
      "source": [
        "data_matrices = [\"Count_Vec\" , \"Tf_idf_Vec\" , \"Embedding_Word\"]\n",
        "accuracy = [valid_scores_cv[\"adaboost\"] , valid_scores_tfv[\"adaboost\"] , valid_scores_embedding[\"adaboost\"] ]\n",
        "accuracy = [ele * 100 for ele in accuracy]\n",
        "\n",
        "fig = plt.figure()\n",
        "ax = fig.add_axes([0,0,1,1])\n",
        "\n",
        "ax.bar(data_matrices,accuracy , width = .5)\n",
        "ax.set_ylabel('Accuracy %')\n",
        "ax.set_xlabel('Data Matrices')\n",
        "\n",
        "plt.show()"
      ],
      "metadata": {
        "colab": {
          "base_uri": "https://localhost:8080/",
          "height": 351
        },
        "id": "w5_B0CaZVzgz",
        "outputId": "38e5b236-d1f3-44ac-9a2c-1aa63e6afee7"
      },
      "execution_count": null,
      "outputs": [
        {
          "output_type": "display_data",
          "data": {
            "image/png": "[encoded data removed]",
            "text/plain": [
              "<Figure size 432x288 with 1 Axes>"
            ]
          },
          "metadata": {
            "needs_background": "light"
          }
        }
      ]
    },
    {
      "cell_type": "markdown",
      "source": [
        "------------------------------------- Test Data -------------------------------------"
      ],
      "metadata": {
        "id": "TRy3DoNrWWOX"
      }
    },
    {
      "cell_type": "code",
      "source": [
        "data_matrices = [\"Count_Vec\" , \"Tf_idf_Vec\" , \"Embedding_Word\"]\n",
        "accuracy = [test_scores_cv[\"adaboost\"] , test_scores_tfv[\"adaboost\"] , test_scores_embedding[\"adaboost\"] ]\n",
        "accuracy = [ele * 100 for ele in accuracy]\n",
        "\n",
        "fig = plt.figure()\n",
        "ax = fig.add_axes([0,0,1,1])\n",
        "\n",
        "ax.bar(data_matrices,accuracy , width = .5 , color='r')\n",
        "ax.set_ylabel('Accuracy %')\n",
        "ax.set_xlabel('Data Matrices')\n",
        "\n",
        "plt.show()"
      ],
      "metadata": {
        "colab": {
          "base_uri": "https://localhost:8080/",
          "height": 351
        },
        "id": "FOvxxT6JWHBL",
        "outputId": "0137b6a5-7e46-4e59-9813-e720f9397466"
      },
      "execution_count": null,
      "outputs": [
        {
          "output_type": "display_data",
          "data": {
            "image/png": "[encoded data removed]",
            "text/plain": [
              "<Figure size 432x288 with 1 Axes>"
            ]
          },
          "metadata": {
            "needs_background": "light"
          }
        }
      ]
    },
    {
      "cell_type": "markdown",
      "source": [
        "# comments #"
      ],
      "metadata": {
        "id": "hHyuH3JiE4xc"
      }
    },
    {
      "cell_type": "markdown",
      "source": [
        "- Highest accuracy achieved was by logistic regression ( 88.7 % valid and 87.7% test ) when text was represented by TF-IDF."
      ],
      "metadata": {
        "id": "_03_pHfAB1A8"
      }
    },
    {
      "cell_type": "markdown",
      "source": [
        "- Lowest accuracy achieved was by KNN ( 51.8% valid and 51.4% test ) when text was represented by word embedding."
      ],
      "metadata": {
        "id": "IEhlZNKLFyx6"
      }
    },
    {
      "cell_type": "markdown",
      "source": [
        "- In all representations, KNN achieved lower accuracy than the other classifiers."
      ],
      "metadata": {
        "id": "zdqTgva8GHky"
      }
    },
    {
      "cell_type": "markdown",
      "source": [
        "- In all representations, logistic regression achieved higher accuracy than the other classifiers."
      ],
      "metadata": {
        "id": "uQdoy715GTB2"
      }
    },
    {
      "cell_type": "markdown",
      "source": [
        "- TF-IDF was the best representation and achieved higher accuracy for all classifiers than CV and word embedding."
      ],
      "metadata": {
        "id": "q5ORKDuxFFXS"
      }
    },
    {
      "cell_type": "markdown",
      "source": [
        "- Word embedding was the worst representation and achieved lower accuracy for all classifiers than CV and TF-IDF."
      ],
      "metadata": {
        "id": "3sphIMsKFZoH"
      }
    }
  ],
  "metadata": {
    "colab": {
      "collapsed_sections": [],
      "name": "IMDB_review_sentiment_analysis.ipynb",
      "provenance": []
    },
    "kernelspec": {
      "display_name": "Python 3",
      "name": "python3"
    },
    "language_info": {
      "name": "python"
    }
  },
  "nbformat": 4,
  "nbformat_minor": 0
}